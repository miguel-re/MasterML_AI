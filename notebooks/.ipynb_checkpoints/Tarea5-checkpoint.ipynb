{
 "cells": [
  {
   "cell_type": "markdown",
   "id": "498818f6-7723-4026-a862-b91c00263121",
   "metadata": {},
   "source": [
    "# Actividad 5"
   ]
  },
  {
   "cell_type": "markdown",
   "id": "429b24e9-eaf3-4483-bdac-c9e15022775d",
   "metadata": {},
   "source": [
    "## Ejercicio 1"
   ]
  },
  {
   "cell_type": "code",
   "execution_count": 2,
   "id": "8a0ca938-9978-4db5-a57e-72bbcdff21ea",
   "metadata": {},
   "outputs": [
    {
     "name": "stdout",
     "output_type": "stream",
     "text": [
      "The Zen of Python, by Tim Peters\n",
      "\n",
      "Beautiful is better than ugly.\n",
      "Explicit is better than implicit.\n",
      "Simple is better than complex.\n",
      "Complex is better than complicated.\n",
      "Flat is better than nested.\n",
      "Sparse is better than dense.\n",
      "Readability counts.\n",
      "Special cases aren't special enough to break the rules.\n",
      "Although practicality beats purity.\n",
      "Errors should never pass silently.\n",
      "Unless explicitly silenced.\n",
      "In the face of ambiguity, refuse the temptation to guess.\n",
      "There should be one-- and preferably only one --obvious way to do it.\n",
      "Although that way may not be obvious at first unless you're Dutch.\n",
      "Now is better than never.\n",
      "Although never is often better than *right* now.\n",
      "If the implementation is hard to explain, it's a bad idea.\n",
      "If the implementation is easy to explain, it may be a good idea.\n",
      "Namespaces are one honking great idea -- let's do more of those!\n"
     ]
    }
   ],
   "source": [
    "import this"
   ]
  },
  {
   "cell_type": "code",
   "execution_count": 6,
   "id": "940b8f30-2cdc-41a1-9955-52ae52761b0e",
   "metadata": {},
   "outputs": [],
   "source": [
    "zen = '''The Zen of Python, by Tim Peters\n",
    "Beautiful is better than ugly.\n",
    "Explicit is better than implicit.\n",
    "Simple is better than complex.\n",
    "Complex is better than complicated.\n",
    "Flat is better than nested.\n",
    "Sparse is better than dense.\n",
    "Readability counts.\n",
    "Special cases aren't special enough to break the rules.\n",
    "Although practicality beats purity.\n",
    "Errors should never pass silently.\n",
    "Unless explicitly silenced.\n",
    "In the face of ambiguity, refuse the temptation to guess.\n",
    "There should be one-- and preferably only one --obvious way to do it.\n",
    "Although that way may not be obvious at first unless you're Dutch.\n",
    "Now is better than never.\n",
    "Although never is often better than *right* now.\n",
    "If the implementation is hard to explain, it's a bad idea.\n",
    "If the implementation is easy to explain, it may be a good idea.\n",
    "Namespaces are one honking great idea -- let's do more of those!'''"
   ]
  },
  {
   "cell_type": "code",
   "execution_count": 8,
   "id": "76aa9346-1d3a-4eb5-b058-8be613e7008f",
   "metadata": {},
   "outputs": [
    {
     "name": "stdout",
     "output_type": "stream",
     "text": [
      "El Zen de Python, por Tim Peters\n",
      "\n",
      "Lo bello es mejor que lo feo.\n",
      "Explícito es mejor que implícito.\n",
      "Lo simple es mejor que lo complejo.\n",
      "Lo complejo es mejor que lo complicado.\n",
      "Plano es mejor que anidado.\n",
      "Escaso es mejor que denso.\n",
      "La legibilidad cuenta.\n",
      "Los casos especiales no son lo suficientemente especiales como para romper las reglas.\n",
      "Aunque la practicidad supera a la pureza.\n",
      "Los errores nunca deben pasar en silencio.\n",
      "A menos que se silencie explícitamente.\n",
      "Ante la ambigüedad, rechaza la tentación de adivinar.\n",
      "Debería haber una, y preferiblemente solo una, forma obvia de hacerlo.\n",
      "Aunque esa forma puede no ser obvia al principio a menos que seas holandés.\n",
      "Ahora es mejor que nunca.\n",
      "Aunque nunca suele ser mejor que *ahora*.\n",
      "Si la implementación es difícil de explicar, es una mala idea.\n",
      "Si la implementación es fácil de explicar, puede ser una buena idea.\n",
      "Los espacios de nombres son una gran idea, ¡hagamos más de esos!\n"
     ]
    }
   ],
   "source": [
    "zen_trad = '''El Zen de Python, por Tim Peters\n",
    "\n",
    "Lo bello es mejor que lo feo.\n",
    "Explícito es mejor que implícito.\n",
    "Lo simple es mejor que lo complejo.\n",
    "Lo complejo es mejor que lo complicado.\n",
    "Plano es mejor que anidado.\n",
    "Escaso es mejor que denso.\n",
    "La legibilidad cuenta.\n",
    "Los casos especiales no son lo suficientemente especiales como para romper las reglas.\n",
    "Aunque la practicidad supera a la pureza.\n",
    "Los errores nunca deben pasar en silencio.\n",
    "A menos que se silencie explícitamente.\n",
    "Ante la ambigüedad, rechaza la tentación de adivinar.\n",
    "Debería haber una, y preferiblemente solo una, forma obvia de hacerlo.\n",
    "Aunque esa forma puede no ser obvia al principio a menos que seas holandés.\n",
    "Ahora es mejor que nunca.\n",
    "Aunque nunca suele ser mejor que *ahora*.\n",
    "Si la implementación es difícil de explicar, es una mala idea.\n",
    "Si la implementación es fácil de explicar, puede ser una buena idea.\n",
    "Los espacios de nombres son una gran idea, ¡hagamos más de esos!'''\n",
    "\n",
    "print(zen_trad)"
   ]
  },
  {
   "cell_type": "markdown",
   "id": "e7eecbab-7642-4961-905a-8a94ac136ed7",
   "metadata": {},
   "source": [
    "## Ejercicio 2"
   ]
  },
  {
   "cell_type": "code",
   "execution_count": 11,
   "id": "4e12357d-59d0-4377-b104-78e9a8d3ebcc",
   "metadata": {},
   "outputs": [
    {
     "name": "stdout",
     "output_type": "stream",
     "text": [
      "En una hora hay: 3600seg\n",
      "En un dia hay: 86400seg \n",
      "El resultado flotante seg_dia/seg_hora: 24.0\n",
      "Resultado entero seg_dia/seg_hora 24\n"
     ]
    }
   ],
   "source": [
    "segundos_por_hora = 60*60\n",
    "segundos_por_dia = segundos_por_hora * 24\n",
    "div_float = segundos_por_dia/segundos_por_hora\n",
    "print(\"En una hora hay: \" + str(segundos_por_hora)+\"seg\" + \"\\nEn un dia hay: \"+str(segundos_por_dia)+\"seg\" + \" \\nEl resultado flotante seg_dia/seg_hora: \"+str(div_float))\n",
    "div_ent = segundos_por_dia//segundos_por_hora\n",
    "print(\"Resultado entero seg_dia/seg_hora \"+str(div_ent))"
   ]
  }
 ],
 "metadata": {
  "kernelspec": {
   "display_name": "Python 3 (ipykernel)",
   "language": "python",
   "name": "python3"
  },
  "language_info": {
   "codemirror_mode": {
    "name": "ipython",
    "version": 3
   },
   "file_extension": ".py",
   "mimetype": "text/x-python",
   "name": "python",
   "nbconvert_exporter": "python",
   "pygments_lexer": "ipython3",
   "version": "3.12.7"
  }
 },
 "nbformat": 4,
 "nbformat_minor": 5
}
