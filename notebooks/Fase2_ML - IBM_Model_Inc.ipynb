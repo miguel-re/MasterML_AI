{
 "cells": [
  {
   "cell_type": "markdown",
   "id": "957efa84-fcb3-46a6-87c4-dd5ccdf75272",
   "metadata": {},
   "source": [
    "# Fase 2 - Incorporacion de IBM Model en un dispositivo remoto"
   ]
  },
  {
   "cell_type": "markdown",
   "id": "a7ff8930-cd15-47a8-b861-c5a456f5d3d2",
   "metadata": {},
   "source": [
    "Inicialmente realizamos las instalaciones necesarias. Previo a esto se tiene que crear un bucket en IBM Cloud Storage con el fin de tener un repositorio en la nube. Dicho repositorio contiene el modelo utilizado en esta actividad. Para mayor información del modelo acudir a:\n",
    "- *../Fase2-AIML.ipynb*"
   ]
  },
  {
   "cell_type": "code",
   "execution_count": 2,
   "id": "84c30a8d-6638-4d77-90e9-d4d77a96f95c",
   "metadata": {},
   "outputs": [
    {
     "name": "stdout",
     "output_type": "stream",
     "text": [
      "Collecting ibm-cos-sdkNote: you may need to restart the kernel to use updated packages.\n",
      "\n",
      "  Downloading ibm-cos-sdk-2.14.0.tar.gz (58 kB)\n",
      "  Preparing metadata (setup.py): started\n",
      "  Preparing metadata (setup.py): finished with status 'done'\n",
      "Collecting ibm-cos-sdk-core==2.14.0 (from ibm-cos-sdk)\n",
      "  Downloading ibm-cos-sdk-core-2.14.0.tar.gz (1.1 MB)\n",
      "     ---------------------------------------- 0.0/1.1 MB ? eta -:--:--\n",
      "     ---------------------------------------- 1.1/1.1 MB 8.9 MB/s eta 0:00:00\n",
      "  Preparing metadata (setup.py): started\n",
      "  Preparing metadata (setup.py): finished with status 'done'\n",
      "Collecting ibm-cos-sdk-s3transfer==2.14.0 (from ibm-cos-sdk)\n",
      "  Downloading ibm-cos-sdk-s3transfer-2.14.0.tar.gz (139 kB)\n",
      "  Preparing metadata (setup.py): started\n",
      "  Preparing metadata (setup.py): finished with status 'done'\n",
      "Requirement already satisfied: jmespath<=1.0.1,>=0.10.0 in c:\\users\\usuario\\anaconda3\\lib\\site-packages (from ibm-cos-sdk) (1.0.1)\n",
      "Requirement already satisfied: python-dateutil<3.0.0,>=2.9.0 in c:\\users\\usuario\\anaconda3\\lib\\site-packages (from ibm-cos-sdk-core==2.14.0->ibm-cos-sdk) (2.9.0.post0)\n",
      "Collecting requests<2.32.3,>=2.32.0 (from ibm-cos-sdk-core==2.14.0->ibm-cos-sdk)\n",
      "  Downloading requests-2.32.2-py3-none-any.whl.metadata (4.6 kB)\n",
      "Requirement already satisfied: urllib3<3,>=1.26.18 in c:\\users\\usuario\\anaconda3\\lib\\site-packages (from ibm-cos-sdk-core==2.14.0->ibm-cos-sdk) (2.2.3)\n",
      "Requirement already satisfied: six>=1.5 in c:\\users\\usuario\\anaconda3\\lib\\site-packages (from python-dateutil<3.0.0,>=2.9.0->ibm-cos-sdk-core==2.14.0->ibm-cos-sdk) (1.16.0)\n",
      "Requirement already satisfied: charset-normalizer<4,>=2 in c:\\users\\usuario\\anaconda3\\lib\\site-packages (from requests<2.32.3,>=2.32.0->ibm-cos-sdk-core==2.14.0->ibm-cos-sdk) (3.3.2)\n",
      "Requirement already satisfied: idna<4,>=2.5 in c:\\users\\usuario\\anaconda3\\lib\\site-packages (from requests<2.32.3,>=2.32.0->ibm-cos-sdk-core==2.14.0->ibm-cos-sdk) (3.7)\n",
      "Requirement already satisfied: certifi>=2017.4.17 in c:\\users\\usuario\\anaconda3\\lib\\site-packages (from requests<2.32.3,>=2.32.0->ibm-cos-sdk-core==2.14.0->ibm-cos-sdk) (2024.8.30)\n",
      "Downloading requests-2.32.2-py3-none-any.whl (63 kB)\n",
      "Building wheels for collected packages: ibm-cos-sdk, ibm-cos-sdk-core, ibm-cos-sdk-s3transfer\n",
      "  Building wheel for ibm-cos-sdk (setup.py): started\n",
      "  Building wheel for ibm-cos-sdk (setup.py): finished with status 'done'\n",
      "  Created wheel for ibm-cos-sdk: filename=ibm_cos_sdk-2.14.0-py3-none-any.whl size=77253 sha256=dc873ec4068564084ca87697a2f3db25489ef62d9780a630c5d3a53fe7a6a036\n",
      "  Stored in directory: c:\\users\\usuario\\appdata\\local\\pip\\cache\\wheels\\f4\\77\\da\\bf8b32e81b9ce22916583537d428c8713c9232931d7a74408d\n",
      "  Building wheel for ibm-cos-sdk-core (setup.py): started\n",
      "  Building wheel for ibm-cos-sdk-core (setup.py): finished with status 'done'\n",
      "  Created wheel for ibm-cos-sdk-core: filename=ibm_cos_sdk_core-2.14.0-py3-none-any.whl size=661739 sha256=5b56b172948a1beef8ee9f369b7ec52474b81ccbb96a92c9f7ceb8667a554a43\n",
      "  Stored in directory: c:\\users\\usuario\\appdata\\local\\pip\\cache\\wheels\\6b\\43\\bd\\296b858d8f7ed5a26b7a47ba07f10a5b18511d3bdb557f2e17\n",
      "  Building wheel for ibm-cos-sdk-s3transfer (setup.py): started\n",
      "  Building wheel for ibm-cos-sdk-s3transfer (setup.py): finished with status 'done'\n",
      "  Created wheel for ibm-cos-sdk-s3transfer: filename=ibm_cos_sdk_s3transfer-2.14.0-py3-none-any.whl size=90216 sha256=e968c64935f1cd22794e10d8ccd1c1b5a1c229801f5c165bf4d33ecab67730f5\n",
      "  Stored in directory: c:\\users\\usuario\\appdata\\local\\pip\\cache\\wheels\\42\\97\\eb\\95e1737b63952c6046ed1aecb98ae1ad9fdc45b8f0babf2d97\n",
      "Successfully built ibm-cos-sdk ibm-cos-sdk-core ibm-cos-sdk-s3transfer\n",
      "Installing collected packages: requests, ibm-cos-sdk-core, ibm-cos-sdk-s3transfer, ibm-cos-sdk\n",
      "  Attempting uninstall: requests\n",
      "    Found existing installation: requests 2.32.3\n",
      "    Uninstalling requests-2.32.3:\n",
      "      Successfully uninstalled requests-2.32.3\n",
      "Successfully installed ibm-cos-sdk-2.14.0 ibm-cos-sdk-core-2.14.0 ibm-cos-sdk-s3transfer-2.14.0 requests-2.32.2\n"
     ]
    }
   ],
   "source": [
    "pip install ibm-cos-sdk"
   ]
  },
  {
   "cell_type": "code",
   "execution_count": 1,
   "id": "09446255-cd8b-42ec-8279-5d968565c6d7",
   "metadata": {},
   "outputs": [
    {
     "name": "stdout",
     "output_type": "stream",
     "text": [
      "Collecting boto3Note: you may need to restart the kernel to use updated packages.\n"
     ]
    },
    {
     "name": "stderr",
     "output_type": "stream",
     "text": [
      "ERROR: pip's dependency resolver does not currently take into account all the packages that are installed. This behaviour is the source of the following dependency conflicts.\n",
      "aiobotocore 2.12.3 requires botocore<1.34.70,>=1.34.41, but you have botocore 1.35.76 which is incompatible.\n"
     ]
    },
    {
     "name": "stdout",
     "output_type": "stream",
     "text": [
      "\n",
      "  Downloading boto3-1.35.76-py3-none-any.whl.metadata (6.7 kB)\n",
      "Collecting botocore<1.36.0,>=1.35.76 (from boto3)\n",
      "  Downloading botocore-1.35.76-py3-none-any.whl.metadata (5.7 kB)\n",
      "Requirement already satisfied: jmespath<2.0.0,>=0.7.1 in c:\\users\\usuario\\anaconda3\\lib\\site-packages (from boto3) (1.0.1)\n",
      "Collecting s3transfer<0.11.0,>=0.10.0 (from boto3)\n",
      "  Downloading s3transfer-0.10.4-py3-none-any.whl.metadata (1.7 kB)\n",
      "Requirement already satisfied: python-dateutil<3.0.0,>=2.1 in c:\\users\\usuario\\anaconda3\\lib\\site-packages (from botocore<1.36.0,>=1.35.76->boto3) (2.9.0.post0)\n",
      "Requirement already satisfied: urllib3!=2.2.0,<3,>=1.25.4 in c:\\users\\usuario\\anaconda3\\lib\\site-packages (from botocore<1.36.0,>=1.35.76->boto3) (2.2.3)\n",
      "Requirement already satisfied: six>=1.5 in c:\\users\\usuario\\anaconda3\\lib\\site-packages (from python-dateutil<3.0.0,>=2.1->botocore<1.36.0,>=1.35.76->boto3) (1.16.0)\n",
      "Downloading boto3-1.35.76-py3-none-any.whl (139 kB)\n",
      "Downloading botocore-1.35.76-py3-none-any.whl (13.2 MB)\n",
      "   ---------------------------------------- 0.0/13.2 MB ? eta -:--:--\n",
      "   ---------------- ----------------------- 5.5/13.2 MB 30.7 MB/s eta 0:00:01\n",
      "   ---------------------------------------- 13.2/13.2 MB 37.8 MB/s eta 0:00:00\n",
      "Downloading s3transfer-0.10.4-py3-none-any.whl (83 kB)\n",
      "Installing collected packages: botocore, s3transfer, boto3\n",
      "  Attempting uninstall: botocore\n",
      "    Found existing installation: botocore 1.34.69\n",
      "    Uninstalling botocore-1.34.69:\n",
      "      Successfully uninstalled botocore-1.34.69\n",
      "Successfully installed boto3-1.35.76 botocore-1.35.76 s3transfer-0.10.4\n"
     ]
    }
   ],
   "source": [
    "pip install boto3"
   ]
  },
  {
   "cell_type": "code",
   "execution_count": 5,
   "id": "6cad530e-0663-4c40-8bef-9814f3b8ef60",
   "metadata": {},
   "outputs": [
    {
     "name": "stdout",
     "output_type": "stream",
     "text": [
      "Requirement already satisfied: ibm_cos_sdk in c:\\users\\usuario\\anaconda3\\lib\\site-packages (2.14.0)\n",
      "Requirement already satisfied: ibm-cos-sdk-core==2.14.0 in c:\\users\\usuario\\anaconda3\\lib\\site-packages (from ibm_cos_sdk) (2.14.0)\n",
      "Requirement already satisfied: ibm-cos-sdk-s3transfer==2.14.0 in c:\\users\\usuario\\anaconda3\\lib\\site-packages (from ibm_cos_sdk) (2.14.0)\n",
      "Requirement already satisfied: jmespath<=1.0.1,>=0.10.0 in c:\\users\\usuario\\anaconda3\\lib\\site-packages (from ibm_cos_sdk) (1.0.1)\n",
      "Requirement already satisfied: python-dateutil<3.0.0,>=2.9.0 in c:\\users\\usuario\\anaconda3\\lib\\site-packages (from ibm-cos-sdk-core==2.14.0->ibm_cos_sdk) (2.9.0.post0)\n",
      "Requirement already satisfied: requests<2.32.3,>=2.32.0 in c:\\users\\usuario\\anaconda3\\lib\\site-packages (from ibm-cos-sdk-core==2.14.0->ibm_cos_sdk) (2.32.2)\n",
      "Requirement already satisfied: urllib3<3,>=1.26.18 in c:\\users\\usuario\\anaconda3\\lib\\site-packages (from ibm-cos-sdk-core==2.14.0->ibm_cos_sdk) (2.2.3)\n",
      "Requirement already satisfied: six>=1.5 in c:\\users\\usuario\\anaconda3\\lib\\site-packages (from python-dateutil<3.0.0,>=2.9.0->ibm-cos-sdk-core==2.14.0->ibm_cos_sdk) (1.16.0)\n",
      "Requirement already satisfied: charset-normalizer<4,>=2 in c:\\users\\usuario\\anaconda3\\lib\\site-packages (from requests<2.32.3,>=2.32.0->ibm-cos-sdk-core==2.14.0->ibm_cos_sdk) (3.3.2)\n",
      "Requirement already satisfied: idna<4,>=2.5 in c:\\users\\usuario\\anaconda3\\lib\\site-packages (from requests<2.32.3,>=2.32.0->ibm-cos-sdk-core==2.14.0->ibm_cos_sdk) (3.7)\n",
      "Requirement already satisfied: certifi>=2017.4.17 in c:\\users\\usuario\\anaconda3\\lib\\site-packages (from requests<2.32.3,>=2.32.0->ibm-cos-sdk-core==2.14.0->ibm_cos_sdk) (2024.8.30)\n",
      "Note: you may need to restart the kernel to use updated packages.\n"
     ]
    }
   ],
   "source": [
    "pip install ibm_cos_sdk"
   ]
  },
  {
   "cell_type": "code",
   "execution_count": 5,
   "id": "797aab30-f52c-4359-9f27-b026e2fc9e47",
   "metadata": {},
   "outputs": [
    {
     "name": "stdout",
     "output_type": "stream",
     "text": [
      "Collecting ibm_cloud_sdk_core\n",
      "  Downloading ibm_cloud_sdk_core-3.22.0-py3-none-any.whl.metadata (8.6 kB)\n",
      "Requirement already satisfied: requests<3.0.0,>=2.31.0 in c:\\users\\usuario\\anaconda3\\lib\\site-packages (from ibm_cloud_sdk_core) (2.32.2)\n",
      "Requirement already satisfied: urllib3<3.0.0,>=2.1.0 in c:\\users\\usuario\\anaconda3\\lib\\site-packages (from ibm_cloud_sdk_core) (2.2.3)\n",
      "Requirement already satisfied: python-dateutil<3.0.0,>=2.8.2 in c:\\users\\usuario\\anaconda3\\lib\\site-packages (from ibm_cloud_sdk_core) (2.9.0.post0)\n",
      "Requirement already satisfied: PyJWT<3.0.0,>=2.8.0 in c:\\users\\usuario\\anaconda3\\lib\\site-packages (from ibm_cloud_sdk_core) (2.8.0)\n",
      "Requirement already satisfied: six>=1.5 in c:\\users\\usuario\\anaconda3\\lib\\site-packages (from python-dateutil<3.0.0,>=2.8.2->ibm_cloud_sdk_core) (1.16.0)\n",
      "Requirement already satisfied: charset-normalizer<4,>=2 in c:\\users\\usuario\\anaconda3\\lib\\site-packages (from requests<3.0.0,>=2.31.0->ibm_cloud_sdk_core) (3.3.2)\n",
      "Requirement already satisfied: idna<4,>=2.5 in c:\\users\\usuario\\anaconda3\\lib\\site-packages (from requests<3.0.0,>=2.31.0->ibm_cloud_sdk_core) (3.7)\n",
      "Requirement already satisfied: certifi>=2017.4.17 in c:\\users\\usuario\\anaconda3\\lib\\site-packages (from requests<3.0.0,>=2.31.0->ibm_cloud_sdk_core) (2024.8.30)\n",
      "Downloading ibm_cloud_sdk_core-3.22.0-py3-none-any.whl (69 kB)\n",
      "Installing collected packages: ibm_cloud_sdk_core\n",
      "Successfully installed ibm_cloud_sdk_core-3.22.0\n",
      "Note: you may need to restart the kernel to use updated packages.\n"
     ]
    }
   ],
   "source": [
    "pip install ibm_cloud_sdk_core"
   ]
  },
  {
   "cell_type": "markdown",
   "id": "abb435d0-2ff7-402d-b164-cc0f78924fbb",
   "metadata": {},
   "source": [
    "Una vez realizadas las instalaciones, se añaden las bibliotecas necesarias para acceder al storage en IBM. Al crear dicho almacenamiento, IBM provee servicios de seguridad de credenciales, dichas son necesarias de almacenar en algún archivo, que se añadirá a esta entrega y se puede encontrar en:\n",
    "- *'../docs/key_services.txt'*\n",
    "\n",
    "Solo haría falta modificar los requerimientos y conectar al bucket.\n",
    "\n",
    "Se carga el modelo y este podrá ser utilizado."
   ]
  },
  {
   "cell_type": "code",
   "execution_count": 47,
   "id": "bc8891c7-e97d-430c-8167-a792099fbed4",
   "metadata": {},
   "outputs": [],
   "source": [
    "import ibm_boto3\n",
    "from ibm_botocore.client import Config\n",
    "import xgboost as xgb\n",
    "import pandas as pd"
   ]
  },
  {
   "cell_type": "code",
   "execution_count": 58,
   "id": "0c248423-03be-4c12-a384-59e5b6ab3e73",
   "metadata": {},
   "outputs": [],
   "source": [
    "data = pd.read_csv('Fase2_ML - Data.csv')\n",
    "data = data[['ALTO', 'ANCHO', 'LARGO', 'PESO_ASIGNADO', 'TEMPERATURA_ALMACENAMIENTO_NUM', 'LUGAR_PROCEDENCIA_WOE', 'TIPO_MANIPULACION_NUM', 'TEMPERATURA_ALMACENAMIENTO_NUM']].values"
   ]
  },
  {
   "cell_type": "code",
   "execution_count": 35,
   "id": "e42e0d31-64f2-4217-ab7c-f1dfb4c6ba04",
   "metadata": {},
   "outputs": [],
   "source": [
    "api_key = \"JaLEXB17Mg0BwhBHG6G8ca8iMVKlYApEpUjCCzdesPDf\"  # Get this from your IBM Cloud service credentials\n",
    "service_instance_id = 'crn:v1:bluemix:public:iam-identity::a/bc5cdf979df746968857c62ed0ba815a::serviceid:ServiceId-bf2ee9f6-10d0-44a3-9665-51805c00ac5d'  # Get this from your IBM Cloud service credentials\n",
    "bucket_name = 'fase2-ai-ml-mart'\n",
    "model_file_name = 'Fase2_ML - Model.bst'  # Replace with your actual model file name\n",
    "local_model_path = 'Fase2_ML - Model_Local.bst'"
   ]
  },
  {
   "cell_type": "code",
   "execution_count": 17,
   "id": "fd8af2ae-de89-423d-9774-c63424412509",
   "metadata": {},
   "outputs": [],
   "source": [
    "cos = ibm_boto3.client('s3',\n",
    "                  ibm_api_key_id=api_key,\n",
    "                  ibm_service_instance_id=service_instance_id,\n",
    "                  config=Config(signature_version='oauth'),\n",
    "                  endpoint_url='https://s3.us-south.cloud-object-storage.appdomain.cloud')  # Replace with the correct endpoint for your region"
   ]
  },
  {
   "cell_type": "code",
   "execution_count": 37,
   "id": "b28342cc-a3a5-42cb-a204-d55dc6b0e777",
   "metadata": {},
   "outputs": [],
   "source": [
    "cos.download_file(bucket_name, model_file_name, local_model_path)"
   ]
  },
  {
   "cell_type": "code",
   "execution_count": 41,
   "id": "f278b6eb-1bd8-4532-9fc3-ca62a5881d33",
   "metadata": {},
   "outputs": [],
   "source": [
    "model = xgb.Booster()\n",
    "model.load_model(local_model_path)"
   ]
  },
  {
   "cell_type": "code",
   "execution_count": 60,
   "id": "08429dd7-fb04-4953-a288-5a86d9739369",
   "metadata": {},
   "outputs": [],
   "source": [
    "prediction = model.predict(xgb.DMatrix(data))"
   ]
  }
 ],
 "metadata": {
  "kernelspec": {
   "display_name": "Python 3 (ipykernel)",
   "language": "python",
   "name": "python3"
  },
  "language_info": {
   "codemirror_mode": {
    "name": "ipython",
    "version": 3
   },
   "file_extension": ".py",
   "mimetype": "text/x-python",
   "name": "python",
   "nbconvert_exporter": "python",
   "pygments_lexer": "ipython3",
   "version": "3.12.7"
  }
 },
 "nbformat": 4,
 "nbformat_minor": 5
}
