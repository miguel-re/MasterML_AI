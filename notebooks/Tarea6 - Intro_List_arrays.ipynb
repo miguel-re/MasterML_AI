{
 "cells": [
  {
   "cell_type": "markdown",
   "id": "4bf4d6cd-d3e0-4299-8a0d-8110624c40d8",
   "metadata": {},
   "source": [
    "# Actividad 6"
   ]
  },
  {
   "cell_type": "markdown",
   "id": "afa0b73f-5e07-4c50-92b5-43f12a10cbb3",
   "metadata": {},
   "source": [
    "## Ejercicio 1"
   ]
  },
  {
   "cell_type": "code",
   "execution_count": 5,
   "id": "32c55e0f-60a3-495b-b68c-f350a62401a0",
   "metadata": {},
   "outputs": [
    {
     "name": "stdout",
     "output_type": "stream",
     "text": [
      "[1, 2, 3, 4, 5]\n"
     ]
    }
   ],
   "source": [
    "#Escribe una lista que contenga un mínimo de cinco elementos.\n",
    "elementos = [1,2,3,4,5]\n",
    "print(elementos)"
   ]
  },
  {
   "cell_type": "code",
   "execution_count": 7,
   "id": "adcf67e8-12c9-4d07-ad5e-4218fd89dddd",
   "metadata": {},
   "outputs": [
    {
     "name": "stdout",
     "output_type": "stream",
     "text": [
      "[1, 2, 15, 3, 4, 5]\n"
     ]
    }
   ],
   "source": [
    "#Agrega un nuevo elemento en el índice 2.\n",
    "elementos.insert(2,15)\n",
    "print(elementos)"
   ]
  },
  {
   "cell_type": "code",
   "execution_count": 9,
   "id": "b735ff71-71ad-4f78-852d-5a6f84d48c93",
   "metadata": {},
   "outputs": [
    {
     "name": "stdout",
     "output_type": "stream",
     "text": [
      "[1, 2, 15, 3, 4, 5, 6]\n"
     ]
    }
   ],
   "source": [
    "#Agrega un elemento al final de la lista.\n",
    "elementos.append(6)\n",
    "print(elementos)"
   ]
  },
  {
   "cell_type": "code",
   "execution_count": 11,
   "id": "941b871d-ce16-4391-969d-ffd6115aa6d3",
   "metadata": {},
   "outputs": [
    {
     "name": "stdout",
     "output_type": "stream",
     "text": [
      "perro, gato, pez\n"
     ]
    }
   ],
   "source": [
    "#Escribe una cadena de caracteres que contenga tres palabras.\n",
    "palabras = 'perro, gato, pez'\n",
    "print(palabras)"
   ]
  },
  {
   "cell_type": "code",
   "execution_count": 13,
   "id": "2309e3d0-1678-49de-aa9d-a2a68046adb2",
   "metadata": {},
   "outputs": [
    {
     "name": "stdout",
     "output_type": "stream",
     "text": [
      "16\n"
     ]
    }
   ],
   "source": [
    "#Cuenta los caracteres de la cadena generada.\n",
    "print(len(palabras))"
   ]
  },
  {
   "cell_type": "code",
   "execution_count": 15,
   "id": "0d0b3cba-9184-4506-a784-4cc31df0ace6",
   "metadata": {},
   "outputs": [
    {
     "name": "stdout",
     "output_type": "stream",
     "text": [
      "PERRO, GATO, PEZ\n"
     ]
    }
   ],
   "source": [
    "#Guarda la cadena resultante toda en mayúsculas en una nueva variable.\n",
    "mayusculas = palabras.upper()\n",
    "print(mayusculas)"
   ]
  },
  {
   "cell_type": "code",
   "execution_count": 17,
   "id": "f24e6e1e-e8ea-4e88-b3c1-93d2d4ff4632",
   "metadata": {},
   "outputs": [
    {
     "name": "stdout",
     "output_type": "stream",
     "text": [
      "{'A': 'Platano', 'B': 'Piña', 'C': 'Limon', 'D': 'Naranja'}\n"
     ]
    }
   ],
   "source": [
    "#Escribe un diccionario que contenga al menos cuatro elementos y cuyos índices coincidan con las primeras letras del alfabeto.\n",
    "diccionario={'A':'Platano','B':'Piña','C':'Limon','D':'Naranja'}\n",
    "print(diccionario)"
   ]
  },
  {
   "cell_type": "code",
   "execution_count": 19,
   "id": "abed28c3-37a6-4ae9-a786-2a0c9b2cc7f3",
   "metadata": {},
   "outputs": [
    {
     "name": "stdout",
     "output_type": "stream",
     "text": [
      "{'A': 'Platano', 'B': 'Piña', 'C': 'Limon', 'D': 'Naranja', 'E': 'Durazno'}\n"
     ]
    }
   ],
   "source": [
    "#Agrega un nuevo elemento al diccionario.\n",
    "diccionario['E']='Durazno'\n",
    "print(diccionario)"
   ]
  },
  {
   "cell_type": "code",
   "execution_count": 21,
   "id": "3aecda08-0fb3-4f52-94ca-170e0bb64946",
   "metadata": {},
   "outputs": [
    {
     "name": "stdout",
     "output_type": "stream",
     "text": [
      "{'A': 'Platano', 'B': 'Piña', 'D': 'Naranja', 'E': 'Durazno'}\n"
     ]
    }
   ],
   "source": [
    "#Elimina el elemento del índice “c”.\n",
    "del diccionario['C']\n",
    "print(diccionario)"
   ]
  },
  {
   "cell_type": "code",
   "execution_count": 23,
   "id": "478724c8-98c2-40aa-9459-0981dc95d80b",
   "metadata": {},
   "outputs": [
    {
     "data": {
      "text/plain": [
       "4"
      ]
     },
     "execution_count": 23,
     "metadata": {},
     "output_type": "execute_result"
    }
   ],
   "source": [
    "#Cuenta los elementos que componen el diccionario después de completadas las operaciones anteriores.\n",
    "len(diccionario)"
   ]
  },
  {
   "cell_type": "markdown",
   "id": "abac0c5a-2981-488b-8cb8-7b49ffe31488",
   "metadata": {},
   "source": [
    "## Ejercicio 2"
   ]
  },
  {
   "cell_type": "markdown",
   "id": "affcedb1-95d3-4626-a55c-3a1f3716365c",
   "metadata": {},
   "source": [
    "Una sala de cine cobra diferentes precios de entrada según la edad de la persona. Si una persona es menor de 3 años, la entrada es gratuita; si tienen entre 3 y 12, el boleto es de 10 pesos y si son mayores de 12 años, el boleto cuesta 15 pesos. Escribe un bucle en el que se solicite a los usuarios su edad y despliegue el costo de la entrada."
   ]
  },
  {
   "cell_type": "code",
   "execution_count": 26,
   "id": "4168307f-42f9-4968-89ab-8db314f2f529",
   "metadata": {},
   "outputs": [
    {
     "name": "stdout",
     "output_type": "stream",
     "text": [
      "<class 'str'>\n"
     ]
    },
    {
     "name": "stdin",
     "output_type": "stream",
     "text": [
      "¿Qué edad tienes?:  20\n"
     ]
    },
    {
     "name": "stdout",
     "output_type": "stream",
     "text": [
      "Tu entrada cuesta $15\n"
     ]
    },
    {
     "name": "stdin",
     "output_type": "stream",
     "text": [
      "¿Quieres comprar más boletos? (S/N) S\n",
      "¿Qué edad tienes?:  23\n"
     ]
    },
    {
     "name": "stdout",
     "output_type": "stream",
     "text": [
      "Tu entrada cuesta $15\n"
     ]
    },
    {
     "name": "stdin",
     "output_type": "stream",
     "text": [
      "¿Quieres comprar más boletos? (S/N) S\n",
      "¿Qué edad tienes?:  11\n"
     ]
    },
    {
     "name": "stdout",
     "output_type": "stream",
     "text": [
      "Tu entrada cuesta $10\n"
     ]
    },
    {
     "name": "stdin",
     "output_type": "stream",
     "text": [
      "¿Quieres comprar más boletos? (S/N) N\n"
     ]
    },
    {
     "name": "stdout",
     "output_type": "stream",
     "text": [
      "Gracias por comprar en Cine-pelis\n"
     ]
    }
   ],
   "source": [
    "cont = 'S'\n",
    "print(type(cont))\n",
    "while cont == 'S':\n",
    "  edad = int(input('¿Qué edad tienes?: '))\n",
    "  if(edad < 3):\n",
    "    print('Tu entrada es gratis')\n",
    "  elif (edad <= 12):\n",
    "    print('Tu entrada cuesta $10')\n",
    "  else:\n",
    "    print('Tu entrada cuesta $15')\n",
    "  cont = str(input('¿Quieres comprar más boletos? (S/N)')).upper()\n",
    "  while cont != 'S' and cont != 'N':\n",
    "    cont = str(input('Por favor escribe S o N ¿Quieres comprar más boletos? (S/N)')).upper()\n",
    "print('Gracias por comprar en Cine-pelis')"
   ]
  }
 ],
 "metadata": {
  "kernelspec": {
   "display_name": "Python 3 (ipykernel)",
   "language": "python",
   "name": "python3"
  },
  "language_info": {
   "codemirror_mode": {
    "name": "ipython",
    "version": 3
   },
   "file_extension": ".py",
   "mimetype": "text/x-python",
   "name": "python",
   "nbconvert_exporter": "python",
   "pygments_lexer": "ipython3",
   "version": "3.12.7"
  }
 },
 "nbformat": 4,
 "nbformat_minor": 5
}
