{
 "cells": [
  {
   "cell_type": "markdown",
   "id": "5fda0426-3716-4996-8f81-1befd03b929e",
   "metadata": {},
   "source": [
    "# Tarea 3 - Machine Learning"
   ]
  },
  {
   "cell_type": "code",
   "execution_count": 8,
   "id": "7f8ac0d5-e18c-4bc9-b7c6-b64e39457f91",
   "metadata": {},
   "outputs": [],
   "source": [
    "#Librerias y funciones\n",
    "import numpy as np\n",
    "import sympy as sym\n",
    "import math\n",
    "from math import e\n",
    "import matplotlib.pyplot as plt\n",
    "import os\n",
    "import pandas as pd"
   ]
  },
  {
   "cell_type": "markdown",
   "id": "5f3a7334-4b6c-40a4-a8f9-e3d3ed94030a",
   "metadata": {},
   "source": [
    "## Ejercicio 1\n",
    "\n",
    "Realiza las siguientes operaciones:\n",
    "1. Calula la primera derivada de las siguientes funciones\n",
    "   \n",
    "   a. $f(x) = 3x+4e^{-(4x)}$\n",
    "\n",
    "   b. $f(x) = 5x^{(3x+1)}-8x^{2}-3x$ \n",
    "3. Calcula la segunda derivada de las siguientes funciones\n",
    "\n",
    "   a. $f(x) = 4x^{4}+6x^{2}+e^{4x^{2}}$"
   ]
  },
  {
   "cell_type": "code",
   "execution_count": 79,
   "id": "a92f0225-5654-4d6d-88a4-238ad3e9e4e1",
   "metadata": {},
   "outputs": [
    {
     "data": {
      "text/latex": [
       "$\\displaystyle 3 x + 4 e^{- 4 x}$"
      ],
      "text/plain": [
       "3*x + 4*exp(-4*x)"
      ]
     },
     "execution_count": 79,
     "metadata": {},
     "output_type": "execute_result"
    }
   ],
   "source": [
    "#Ejercicio 1\n",
    "##Inciso A\n",
    "x = sym.Symbol('x')\n",
    "funcion_1 =  (3*x)+(4*(sym.exp((-(4*x)))))\n",
    "funcion_1"
   ]
  },
  {
   "cell_type": "code",
   "execution_count": 81,
   "id": "9a265ca4-7e0b-4fe3-8c19-76ca36739d76",
   "metadata": {},
   "outputs": [
    {
     "data": {
      "text/latex": [
       "$\\displaystyle 3 - 16 e^{- 4 x}$"
      ],
      "text/plain": [
       "3 - 16*exp(-4*x)"
      ]
     },
     "execution_count": 81,
     "metadata": {},
     "output_type": "execute_result"
    }
   ],
   "source": [
    "#Ejercicio 1\n",
    "##Inciso A\n",
    "derivada_funcion_1 = sym.diff(funcion_1)\n",
    "derivada_funcion_1"
   ]
  },
  {
   "cell_type": "code",
   "execution_count": 83,
   "id": "9cf8d668-5297-47d5-af4c-68149ee0255e",
   "metadata": {},
   "outputs": [
    {
     "data": {
      "text/latex": [
       "$\\displaystyle - 8 x^{2} - 3 x + 5 x^{3 x + 1}$"
      ],
      "text/plain": [
       "-8*x**2 - 3*x + 5*x**(3*x + 1)"
      ]
     },
     "execution_count": 83,
     "metadata": {},
     "output_type": "execute_result"
    }
   ],
   "source": [
    "#Ejercicio 1\n",
    "#Inciso B\n",
    "x = sym.Symbol('x')\n",
    "funcion_1 =  (5*x**((3*x)+1))-(8*(x**2))-(3*x)\n",
    "funcion_1"
   ]
  },
  {
   "cell_type": "code",
   "execution_count": 85,
   "id": "54d127ca-0265-4c1c-a32e-8d6f0b546a07",
   "metadata": {},
   "outputs": [
    {
     "data": {
      "text/latex": [
       "$\\displaystyle - 16 x + 5 x^{3 x + 1} \\cdot \\left(3 \\log{\\left(x \\right)} + \\frac{3 x + 1}{x}\\right) - 3$"
      ],
      "text/plain": [
       "-16*x + 5*x**(3*x + 1)*(3*log(x) + (3*x + 1)/x) - 3"
      ]
     },
     "execution_count": 85,
     "metadata": {},
     "output_type": "execute_result"
    }
   ],
   "source": [
    "#Ejercicio 1\n",
    "##Inciso B\n",
    "derivada_funcion_1 = sym.diff(funcion_1)\n",
    "derivada_funcion_1"
   ]
  },
  {
   "cell_type": "code",
   "execution_count": 87,
   "id": "ae8245cc-793b-4e1d-bd8d-75a85391c1e6",
   "metadata": {},
   "outputs": [
    {
     "data": {
      "text/latex": [
       "$\\displaystyle 4 x^{4} + 6 x^{2} + e^{4 x^{2}}$"
      ],
      "text/plain": [
       "4*x**4 + 6*x**2 + exp(4*x**2)"
      ]
     },
     "execution_count": 87,
     "metadata": {},
     "output_type": "execute_result"
    }
   ],
   "source": [
    "#Ejercicio 2\n",
    "##Inciso A\n",
    "x = sym.Symbol('x')\n",
    "funcion_1 =  (4*x**4)+(6*x**2)+(sym.exp((4*x**2)))\n",
    "funcion_1"
   ]
  },
  {
   "cell_type": "code",
   "execution_count": 89,
   "id": "ce03edce-321c-489c-8eeb-c3cdc9613ecf",
   "metadata": {},
   "outputs": [
    {
     "data": {
      "text/latex": [
       "$\\displaystyle 16 x^{3} + 8 x e^{4 x^{2}} + 12 x$"
      ],
      "text/plain": [
       "16*x**3 + 8*x*exp(4*x**2) + 12*x"
      ]
     },
     "execution_count": 89,
     "metadata": {},
     "output_type": "execute_result"
    }
   ],
   "source": [
    "#Ejercicio 2\n",
    "##Ejercicio A\n",
    "derivada_funcion_1 = sym.diff(funcion_1)\n",
    "derivada_funcion_1"
   ]
  },
  {
   "cell_type": "markdown",
   "id": "4c375ae7-d471-42d4-bea3-6f1e52140e54",
   "metadata": {},
   "source": [
    "## Ejercicio 2\n",
    "Realiza las siguientes operaciones:\n",
    "\n",
    "1. Calcula las primeras derivadas parciales de las siguientes funciones\n",
    "   \n",
    "   a. $f(x,y) = 4x^{3}y+5y^{2}-7x$\n",
    "\n",
    "   b. $f(x,y) = \\frac{y^{2}}{1-e^{x}}$\n",
    "3. Calcula las segundas derivadas parciales de las siguientes funciones\n",
    "\n",
    "   a. $f(x,y) = 3x^{5}y+\\frac{y^{3}}{3}$\n",
    "\n",
    "   b. $f(x,y) = \\frac{sin^{-1}x^{3}}{cos(2y)^{2}}$"
   ]
  },
  {
   "cell_type": "code",
   "execution_count": 46,
   "id": "901b79dd-0776-4304-b91d-1f06e4ac83ee",
   "metadata": {},
   "outputs": [
    {
     "data": {
      "text/latex": [
       "$\\displaystyle 4 x^{3} y - 7 x + 5 y^{2}$"
      ],
      "text/plain": [
       "4*x**3*y - 7*x + 5*y**2"
      ]
     },
     "execution_count": 46,
     "metadata": {},
     "output_type": "execute_result"
    }
   ],
   "source": [
    "#Ejercicio 1\n",
    "##Inciso A\n",
    "x,y = sym.symbols('x y')\n",
    "funcion_1 = (4*(x**3)*y)+(5*(y**2))-(7*x)\n",
    "funcion_1"
   ]
  },
  {
   "cell_type": "code",
   "execution_count": 48,
   "id": "567b256a-1ad0-4f11-a941-fd7e7dab98c7",
   "metadata": {},
   "outputs": [
    {
     "data": {
      "text/latex": [
       "$\\displaystyle 12 x^{2} y - 7$"
      ],
      "text/plain": [
       "12*x**2*y - 7"
      ]
     },
     "execution_count": 48,
     "metadata": {},
     "output_type": "execute_result"
    }
   ],
   "source": [
    "###Derivada parcial sobre x\n",
    "derivada_parcial_funcion_1 = sym.diff(funcion_1, x)\n",
    "derivada_parcial_funcion_1"
   ]
  },
  {
   "cell_type": "code",
   "execution_count": 38,
   "id": "8ae69613-9250-405f-8152-96911108cc4c",
   "metadata": {},
   "outputs": [
    {
     "data": {
      "text/latex": [
       "$\\displaystyle 4 x^{3} + 10 y$"
      ],
      "text/plain": [
       "4*x**3 + 10*y"
      ]
     },
     "execution_count": 38,
     "metadata": {},
     "output_type": "execute_result"
    }
   ],
   "source": [
    "###Derivada parcial sobre y\n",
    "derivada_parcial_funcion_1 = sym.diff(funcion_1, y)\n",
    "derivada_parcial_funcion_1"
   ]
  },
  {
   "cell_type": "code",
   "execution_count": 71,
   "id": "948a4507-652f-4c73-9c25-3a5fe8dc44da",
   "metadata": {},
   "outputs": [
    {
     "data": {
      "text/latex": [
       "$\\displaystyle \\frac{y^{2}}{1 - e^{x}}$"
      ],
      "text/plain": [
       "y**2/(1 - exp(x))"
      ]
     },
     "execution_count": 71,
     "metadata": {},
     "output_type": "execute_result"
    }
   ],
   "source": [
    "#Ejercicio 1\n",
    "##Ejercicio B\n",
    "x,y = sym.symbols('x y')\n",
    "funcion_1 = (y**2)/(1-sym.exp(x))\n",
    "funcion_1"
   ]
  },
  {
   "cell_type": "code",
   "execution_count": 73,
   "id": "e5a0cfd1-da18-464b-8533-3aac404ad590",
   "metadata": {},
   "outputs": [
    {
     "data": {
      "text/latex": [
       "$\\displaystyle \\frac{y^{2} e^{x}}{\\left(1 - e^{x}\\right)^{2}}$"
      ],
      "text/plain": [
       "y**2*exp(x)/(1 - exp(x))**2"
      ]
     },
     "execution_count": 73,
     "metadata": {},
     "output_type": "execute_result"
    }
   ],
   "source": [
    "###Derivada parcial sobre x\n",
    "derivada_parcial_funcion_1 = sym.diff(funcion_1, x)\n",
    "derivada_parcial_funcion_1"
   ]
  },
  {
   "cell_type": "code",
   "execution_count": 75,
   "id": "0a216f9d-e563-4963-b376-e5eb35a1e995",
   "metadata": {},
   "outputs": [
    {
     "data": {
      "text/latex": [
       "$\\displaystyle \\frac{2 y}{1 - e^{x}}$"
      ],
      "text/plain": [
       "2*y/(1 - exp(x))"
      ]
     },
     "execution_count": 75,
     "metadata": {},
     "output_type": "execute_result"
    }
   ],
   "source": [
    "###Derivada parcial sobre y\n",
    "derivada_parcial_funcion_1 = sym.diff(funcion_1, y)\n",
    "derivada_parcial_funcion_1"
   ]
  },
  {
   "cell_type": "code",
   "execution_count": 97,
   "id": "81a8e903-0163-417a-bcc3-70b16fd5eed4",
   "metadata": {},
   "outputs": [
    {
     "data": {
      "text/latex": [
       "$\\displaystyle 3 x^{5} y + \\frac{y^{3}}{3}$"
      ],
      "text/plain": [
       "3*x**5*y + y**3/3"
      ]
     },
     "execution_count": 97,
     "metadata": {},
     "output_type": "execute_result"
    }
   ],
   "source": [
    "#Ejercicio 2\n",
    "##Inciso A\n",
    "x,y = sym.symbols('x y')\n",
    "funcion_1 = (3*(x**5)*y)+((y**3)/(3))\n",
    "funcion_1"
   ]
  },
  {
   "cell_type": "code",
   "execution_count": 99,
   "id": "6616a24d-6047-44b5-8a06-444954e3b7f9",
   "metadata": {},
   "outputs": [
    {
     "data": {
      "text/latex": [
       "$\\displaystyle 15 x^{4} y$"
      ],
      "text/plain": [
       "15*x**4*y"
      ]
     },
     "execution_count": 99,
     "metadata": {},
     "output_type": "execute_result"
    }
   ],
   "source": [
    "###Derivada parcial sobre x\n",
    "derivada_parcial_funcion_1 = sym.diff(funcion_1, x)\n",
    "derivada_parcial_funcion_1"
   ]
  },
  {
   "cell_type": "code",
   "execution_count": 101,
   "id": "615f4104-94e8-406a-b0b2-2dfd4387cc22",
   "metadata": {},
   "outputs": [
    {
     "data": {
      "text/latex": [
       "$\\displaystyle 3 x^{5} + y^{2}$"
      ],
      "text/plain": [
       "3*x**5 + y**2"
      ]
     },
     "execution_count": 101,
     "metadata": {},
     "output_type": "execute_result"
    }
   ],
   "source": [
    "###Derivada parcial sobre y\n",
    "derivada_parcial_funcion_1 = sym.diff(funcion_1, y)\n",
    "derivada_parcial_funcion_1"
   ]
  },
  {
   "cell_type": "code",
   "execution_count": 103,
   "id": "e086d3c1-9e88-4d2d-9500-80a907c260e5",
   "metadata": {},
   "outputs": [
    {
     "data": {
      "text/latex": [
       "$\\displaystyle \\frac{\\operatorname{asin}{\\left(x^{3} \\right)}}{\\cos{\\left(4 y^{2} \\right)}}$"
      ],
      "text/plain": [
       "asin(x**3)/cos(4*y**2)"
      ]
     },
     "execution_count": 103,
     "metadata": {},
     "output_type": "execute_result"
    }
   ],
   "source": [
    "#Ejercicio 2\n",
    "##Inciso B\n",
    "x,y = sym.symbols('x y')\n",
    "funcion_1 = (sym.asin(x**3))/(sym.cos((2*y)**2))\n",
    "funcion_1"
   ]
  },
  {
   "cell_type": "code",
   "execution_count": 105,
   "id": "0d026658-66bd-4fdc-829b-03ae482425b8",
   "metadata": {},
   "outputs": [
    {
     "data": {
      "text/latex": [
       "$\\displaystyle \\frac{3 x^{2}}{\\sqrt{1 - x^{6}} \\cos{\\left(4 y^{2} \\right)}}$"
      ],
      "text/plain": [
       "3*x**2/(sqrt(1 - x**6)*cos(4*y**2))"
      ]
     },
     "execution_count": 105,
     "metadata": {},
     "output_type": "execute_result"
    }
   ],
   "source": [
    "###Derivada parcial sobre x\n",
    "derivada_parcial_funcion_1 = sym.diff(funcion_1, x)\n",
    "derivada_parcial_funcion_1"
   ]
  },
  {
   "cell_type": "code",
   "execution_count": 107,
   "id": "4a39411a-bbcc-46db-9865-548fb60a1fa3",
   "metadata": {},
   "outputs": [
    {
     "data": {
      "text/latex": [
       "$\\displaystyle \\frac{8 y \\sin{\\left(4 y^{2} \\right)} \\operatorname{asin}{\\left(x^{3} \\right)}}{\\cos^{2}{\\left(4 y^{2} \\right)}}$"
      ],
      "text/plain": [
       "8*y*sin(4*y**2)*asin(x**3)/cos(4*y**2)**2"
      ]
     },
     "execution_count": 107,
     "metadata": {},
     "output_type": "execute_result"
    }
   ],
   "source": [
    "###Derivada parcial sobre y\n",
    "derivada_parcial_funcion_1 = sym.diff(funcion_1, y)\n",
    "derivada_parcial_funcion_1"
   ]
  },
  {
   "cell_type": "markdown",
   "id": "5056abcc-ae47-4aed-a45d-0a2e232ce902",
   "metadata": {},
   "source": [
    "## Ejercicio 3\n",
    "\n",
    "Investiga sobre diferentes implementaciones del algoritmo de propagación inversa y construye un ejemplo en Python donde se compruebe su funcionamiento"
   ]
  },
  {
   "cell_type": "markdown",
   "id": "663ab7b5-abbc-4fbd-8f39-2b339b85df1b",
   "metadata": {},
   "source": [
    "Para la solución de este ejercicio, se presenta una red neuronal sencilla. Con dos entradas y una salida, sin la presencia de una capa oculta.\n",
    "\n",
    "La función de activación será la función sigmoide, tal:\n",
    "$$P(t) = \\frac{1}{1+e^{-x}}$$\n"
   ]
  },
  {
   "cell_type": "code",
   "execution_count": 138,
   "id": "ae0f953d-4095-4742-94b7-ba4214554d7b",
   "metadata": {},
   "outputs": [],
   "source": [
    "#Funciones\n",
    "#Sigmoide\n",
    "def sigmoide(x):\n",
    "    return 1/(1+np.exp(-x))\n",
    "\n",
    "def error(prediccion, objetivo):\n",
    "    return ((prediccion-objetivo)**2)\n",
    "    \n",
    "def error_pred_d(prediccion, target):\n",
    "    return 2*(prediccion-target)\n",
    "\n",
    "#D Sigmoide\n",
    "def sigmoid_dev(x):\n",
    "    return x*(1-x)\n",
    "\n",
    "def sop_w_deriv(x):\n",
    "    return x\n",
    "\n",
    "def update_w(w,grad, r_aprendizaje):\n",
    "    return w-r_aprendizaje*grad"
   ]
  },
  {
   "cell_type": "code",
   "execution_count": 122,
   "id": "a951d567-4897-4631-a11e-81496cb0e424",
   "metadata": {},
   "outputs": [
    {
     "name": "stdout",
     "output_type": "stream",
     "text": [
      "Valores de pesos W1 y W2: 0.8074530079370453 0.9488995434236609\n"
     ]
    }
   ],
   "source": [
    "#Datos de entrada y salida\n",
    "x1 = .1\n",
    "x2 = .4\n",
    "\n",
    "target = .7\n",
    "razon_aprendizaje = .01\n",
    "\n",
    "w1 = np.random.rand()\n",
    "w2 = np.random.rand()\n",
    "\n",
    "print('Valores de pesos W1 y W2:',w1,w2)\n",
    "\n",
    "predict_output = []\n",
    "network_error = []"
   ]
  },
  {
   "cell_type": "code",
   "execution_count": 140,
   "id": "62f9e024-24c1-4bba-a73b-bc7145c58edf",
   "metadata": {},
   "outputs": [],
   "source": [
    "old_err = 0\n",
    "\n",
    "for k in range(10000):\n",
    "    # Step forward\n",
    "    y = w1*x1+w2*x2\n",
    "    \n",
    "    prediccion = sigmoide(y)\n",
    "    err = error(prediccion, valor_objetivo)\n",
    "\n",
    "    predict_output.append(prediccion)\n",
    "    network_error.append(err)\n",
    "\n",
    "    #Step backward\n",
    "    gd1 = error_pred_d(prediccion, target)\n",
    "\n",
    "    gd2 = sigmoid_dev(y)\n",
    "\n",
    "    gd3w1 = sop_w_deriv(x1)\n",
    "    gd3w2 = sop_w_deriv(x2)\n",
    "\n",
    "    gradw1 = gd3w1*gd2*gd1\n",
    "    gradw2 = gd3w2*gd2*gd1\n",
    "\n",
    "    w1 = update_w(w1,gradw1,razon_aprendizaje)\n",
    "    w2 = update_w(w2,gradw2,razon_aprendizaje)"
   ]
  },
  {
   "cell_type": "code",
   "execution_count": 168,
   "id": "650eb46c-9c0d-4848-9166-5f359bdc0c6a",
   "metadata": {},
   "outputs": [
    {
     "name": "stdout",
     "output_type": "stream",
     "text": [
      "Pesos finales de la capa de salida:  0.9889481708522996 1.6748801950846917\n"
     ]
    },
    {
     "data": {
      "image/png": "[encoded data removed]",
      "text/plain": [
       "<Figure size 1000x600 with 2 Axes>"
      ]
     },
     "metadata": {},
     "output_type": "display_data"
    }
   ],
   "source": [
    "#Mostremos el error\n",
    "print('Pesos finales de la capa de salida: ', w1,w2)\n",
    "\n",
    "fig, ax1 = plt.subplots(figsize=(10,6))\n",
    "\n",
    "ax1.plot(range(10000),predict_output, color='blue', label='Predict output')\n",
    "ax1.set_xlabel('X-Axis')\n",
    "ax1.set_ylabel('Y1-Axis (.61 to .68)', color='blue')\n",
    "ax1.tick_params(axis='y', labelcolor='blue')\n",
    "ax1.set_ylim(.61,.68)\n",
    "\n",
    "ax2 = ax1.twinx()\n",
    "\n",
    "ax2.plot(range(10000),network_error, color='red', label='Network error')\n",
    "ax2.set_xlabel('X-Axis')\n",
    "ax2.set_ylabel('Y1-Axis (0 to .007)', color='red')\n",
    "ax2.tick_params(axis='y', labelcolor='red')\n",
    "ax2.set_ylim(0,.007)\n",
    "\n",
    "plt.title('Predict output - Network Error')\n",
    "plt.grid()\n",
    "plt.show()"
   ]
  },
  {
   "cell_type": "markdown",
   "id": "6677d472-9fd3-4d3b-af49-6de691675cae",
   "metadata": {},
   "source": [
    "## Ejercicio 4\n",
    "\n",
    "Dada la siguiente situación:\n",
    "\n",
    "Los dispositivos electrónicos que se construían a base de transistores en la década de 1990 presentaban dos tipos de fallas principales: la fuente de alimentación y el circuito principal (tarjeta principal). Según las estadísticas de esa época, un taller promedio recibía de manera mensual un 30% de equipos con afectaciones en la fuente de alimentación y la efectividad de la reparación de un equipo era de un 75% si la falla estaba localizada en el circuito principal.\r\n",
    "\r\n",
    "Calcula la probabilidad de que un equipo que no tuviera reparación hubiera ingresado al taller por problemas en la tarjeta principal. Implementa tu respuesta mediante código en un Jupyter Notebook de Python."
   ]
  },
  {
   "cell_type": "markdown",
   "id": "6dbdf055-454d-4ed6-bc11-eeda5f0e9fed",
   "metadata": {},
   "source": [
    "Iniciando por las definiciones que ayudarán a resolver este problema:\n",
    "\n",
    "Se está buscando la probabilidad que un equipo que presente fallas dado que no fue reparado.\n",
    "\n",
    "La probabilidad de que los equipos reciban afectaciones de la fuente principal es:\n",
    "\n",
    "$$P(A) = .3$$\n",
    "\n",
    "Por otro lado, la probabilidad de que un equipo no haya sido preparado es:\n",
    "\n",
    "$$P(B) = Probabilidad que no haya sido preparado$$\n",
    "\n",
    "La probabilidad que un equipo no haya sido preparado por tener problemas en la tarjeta principal:\n",
    "\n",
    "$$P(B|A)$$\n",
    "\n",
    "Y, la probabilidad que un equipo tenga problemas en la tarjeta dado que no fue reparado:\n",
    "\n",
    "$$P(A|B)$$\n",
    "\n",
    "Se plantea la información de:\n",
    "\n",
    "$$P(reparacion|A) = .75$$\n",
    "\n",
    "El cual es la probabilidad de reparación si la falla estaba en el circuito principal\n",
    "\n",
    "Se puede calcular la probabilidad que un equipo no haya sido reparado por error en el circuito principal:\n",
    "\n",
    "$$P(B|A) = 1 - P(reparacion|A) = 1 - .75 = .25$$\n",
    "\n",
    "Usando el teorema de Bayes, se puede resolver mediante:\n",
    "\n",
    "$$P(A|B) = \\frac{P(B|A)P(A)}{P(B)}$$\n",
    "\n",
    "Para calcular $P(B)$ se puede calcular como:\n",
    "\n",
    "$$P(B) = P(B|A)P(A)+P(B|fuente alimentacion)P(fuente alimentacion)$$\n",
    "\n",
    "Se cuenta con toda la información, excepto $P(B|fuente alimentacion)$, lo tomaré como 1.\n",
    "\n",
    "Así: \n",
    "\n",
    "$$P(B) = .25 * .30 + 1 * .7 = .77$$\n",
    "\n",
    "$$P(A|B) = \\frac{P(B|A)P(A)}{P(B)} = \\frac{.25*.3}{.77} = .097$$"
   ]
  },
  {
   "cell_type": "code",
   "execution_count": 173,
   "id": "d9b548f5-88fa-4a5e-b3fc-7ea28087acf1",
   "metadata": {},
   "outputs": [
    {
     "data": {
      "text/plain": [
       "0.09677419354838711"
      ]
     },
     "execution_count": 173,
     "metadata": {},
     "output_type": "execute_result"
    }
   ],
   "source": [
    "P_A = 0.30  # Probabilidad de problemas en la tarjeta principal\n",
    "P_reparacion_A = 0.75  # Probabilidad de reparación si la falla es en la tarjeta principal\n",
    "P_B_A = 1 - P_reparacion_A  # Probabilidad de no reparación dado que hay falla en la tarjeta principal\n",
    "\n",
    "# Probabilidad de problemas en la fuente de alimentación\n",
    "P_fuente = 1 - P_A  # 70% de los equipos tienen problemas en la fuente de alimentación\n",
    "\n",
    "# Probabilidad de no reparación en la fuente de alimentación\n",
    "P_B_fuente = 1.0  # No se especifica efectividad de reparación\n",
    "\n",
    "# Cálculo de P(B)\n",
    "P_B = P_B_A * P_A + P_B_fuente * P_fuente\n",
    "\n",
    "# Aplicando el Teorema de Bayes para calcular P(A|B)\n",
    "P_A_B = (P_B_A * P_A) / P_B\n",
    "\n",
    "# Mostrar el resultado\n",
    "P_A_B"
   ]
  },
  {
   "cell_type": "markdown",
   "id": "3adc4619-847e-41c8-921d-13fb8627e5ce",
   "metadata": {},
   "source": [
    "## Ejercicio 5\n",
    "\n",
    "Realiza las siguientes operaciones\n",
    "\n",
    "- Importa a tu espacio de trabajo el siguiente dataset: https://www.kaggle.com/elikplim/forest-fires-data-set\n",
    "- Crea un arreglo que contenga los valores de la columna etiquetada por: #temp.\n",
    "- Construye el histograma referente al arreglo creado en el punto anterior.\n",
    "- Evalúa si la gráfica obtenida tiene semejanzas con la distribución normal y obtén la media, la mediana y la desviación estándar de los datos\n",
    "- Dibuja la gráfica de la distribución gaussiana inferida por los datos, en caso de que corresponda, y evalúa la suposición realizada en el punto anterior.rior."
   ]
  },
  {
   "cell_type": "code",
   "execution_count": 4,
   "id": "6e6af131-2c67-4c8a-9407-64e91df648a7",
   "metadata": {},
   "outputs": [
    {
     "data": {
      "text/plain": [
       "'D:\\\\Master IA y Machine Learning\\\\Modulo2\\\\Tarea 3'"
      ]
     },
     "execution_count": 4,
     "metadata": {},
     "output_type": "execute_result"
    }
   ],
   "source": [
    "os.getcwd()"
   ]
  },
  {
   "cell_type": "code",
   "execution_count": 10,
   "id": "d84e34de-7a8d-4c36-bda7-18e317a76c89",
   "metadata": {},
   "outputs": [],
   "source": [
    "df = pd.read_csv('forestfires.csv')"
   ]
  },
  {
   "cell_type": "code",
   "execution_count": 12,
   "id": "9e13842a-9ce7-4734-8199-927dfcd411e0",
   "metadata": {},
   "outputs": [
    {
     "data": {
      "text/html": [
       "<div>\n",
       "<style scoped>\n",
       "    .dataframe tbody tr th:only-of-type {\n",
       "        vertical-align: middle;\n",
       "    }\n",
       "\n",
       "    .dataframe tbody tr th {\n",
       "        vertical-align: top;\n",
       "    }\n",
       "\n",
       "    .dataframe thead th {\n",
       "        text-align: right;\n",
       "    }\n",
       "</style>\n",
       "<table border=\"1\" class=\"dataframe\">\n",
       "  <thead>\n",
       "    <tr style=\"text-align: right;\">\n",
       "      <th></th>\n",
       "      <th>X</th>\n",
       "      <th>Y</th>\n",
       "      <th>month</th>\n",
       "      <th>day</th>\n",
       "      <th>FFMC</th>\n",
       "      <th>DMC</th>\n",
       "      <th>DC</th>\n",
       "      <th>ISI</th>\n",
       "      <th>temp</th>\n",
       "      <th>RH</th>\n",
       "      <th>wind</th>\n",
       "      <th>rain</th>\n",
       "      <th>area</th>\n",
       "    </tr>\n",
       "  </thead>\n",
       "  <tbody>\n",
       "    <tr>\n",
       "      <th>0</th>\n",
       "      <td>7</td>\n",
       "      <td>5</td>\n",
       "      <td>mar</td>\n",
       "      <td>fri</td>\n",
       "      <td>86.2</td>\n",
       "      <td>26.2</td>\n",
       "      <td>94.3</td>\n",
       "      <td>5.1</td>\n",
       "      <td>8.2</td>\n",
       "      <td>51</td>\n",
       "      <td>6.7</td>\n",
       "      <td>0.0</td>\n",
       "      <td>0.0</td>\n",
       "    </tr>\n",
       "    <tr>\n",
       "      <th>1</th>\n",
       "      <td>7</td>\n",
       "      <td>4</td>\n",
       "      <td>oct</td>\n",
       "      <td>tue</td>\n",
       "      <td>90.6</td>\n",
       "      <td>35.4</td>\n",
       "      <td>669.1</td>\n",
       "      <td>6.7</td>\n",
       "      <td>18.0</td>\n",
       "      <td>33</td>\n",
       "      <td>0.9</td>\n",
       "      <td>0.0</td>\n",
       "      <td>0.0</td>\n",
       "    </tr>\n",
       "    <tr>\n",
       "      <th>2</th>\n",
       "      <td>7</td>\n",
       "      <td>4</td>\n",
       "      <td>oct</td>\n",
       "      <td>sat</td>\n",
       "      <td>90.6</td>\n",
       "      <td>43.7</td>\n",
       "      <td>686.9</td>\n",
       "      <td>6.7</td>\n",
       "      <td>14.6</td>\n",
       "      <td>33</td>\n",
       "      <td>1.3</td>\n",
       "      <td>0.0</td>\n",
       "      <td>0.0</td>\n",
       "    </tr>\n",
       "    <tr>\n",
       "      <th>3</th>\n",
       "      <td>8</td>\n",
       "      <td>6</td>\n",
       "      <td>mar</td>\n",
       "      <td>fri</td>\n",
       "      <td>91.7</td>\n",
       "      <td>33.3</td>\n",
       "      <td>77.5</td>\n",
       "      <td>9.0</td>\n",
       "      <td>8.3</td>\n",
       "      <td>97</td>\n",
       "      <td>4.0</td>\n",
       "      <td>0.2</td>\n",
       "      <td>0.0</td>\n",
       "    </tr>\n",
       "    <tr>\n",
       "      <th>4</th>\n",
       "      <td>8</td>\n",
       "      <td>6</td>\n",
       "      <td>mar</td>\n",
       "      <td>sun</td>\n",
       "      <td>89.3</td>\n",
       "      <td>51.3</td>\n",
       "      <td>102.2</td>\n",
       "      <td>9.6</td>\n",
       "      <td>11.4</td>\n",
       "      <td>99</td>\n",
       "      <td>1.8</td>\n",
       "      <td>0.0</td>\n",
       "      <td>0.0</td>\n",
       "    </tr>\n",
       "  </tbody>\n",
       "</table>\n",
       "</div>"
      ],
      "text/plain": [
       "   X  Y month  day  FFMC   DMC     DC  ISI  temp  RH  wind  rain  area\n",
       "0  7  5   mar  fri  86.2  26.2   94.3  5.1   8.2  51   6.7   0.0   0.0\n",
       "1  7  4   oct  tue  90.6  35.4  669.1  6.7  18.0  33   0.9   0.0   0.0\n",
       "2  7  4   oct  sat  90.6  43.7  686.9  6.7  14.6  33   1.3   0.0   0.0\n",
       "3  8  6   mar  fri  91.7  33.3   77.5  9.0   8.3  97   4.0   0.2   0.0\n",
       "4  8  6   mar  sun  89.3  51.3  102.2  9.6  11.4  99   1.8   0.0   0.0"
      ]
     },
     "execution_count": 12,
     "metadata": {},
     "output_type": "execute_result"
    }
   ],
   "source": [
    "df.head()"
   ]
  },
  {
   "cell_type": "code",
   "execution_count": 62,
   "id": "13446584-3eb5-46cd-a73d-c4210a4f2dd7",
   "metadata": {},
   "outputs": [
    {
     "data": {
      "image/png": "[encoded data removed]",
      "text/plain": [
       "<Figure size 640x480 with 1 Axes>"
      ]
     },
     "metadata": {},
     "output_type": "display_data"
    }
   ],
   "source": [
    "#Media\n",
    "mu = np.mean(temp)\n",
    "# Desviación estándar\n",
    "sigma = np.std(temp)\n",
    "# Mediana\n",
    "median = np.median(temp)\n",
    "\n",
    "# Definir los bins\n",
    "num_bins = 30\n",
    "frecuencia, bins, _ = plt.hist(temp, num_bins, density=True, alpha=0.6, color='g', edgecolor='black')\n",
    "\n",
    "# Calcular los puntos de la curva normal\n",
    "x = np.linspace(min(temp), max(temp), 100)\n",
    "normal_distribution = 1/(sigma * np.sqrt(2 * np.pi)) * np.exp(- (x - mu)**2 / (2 * sigma**2))\n",
    "\n",
    "# Graficar la curva normal\n",
    "plt.plot(x, normal_distribution, linewidth=2, color='r')\n",
    "\n",
    "# Etiquetas y título\n",
    "plt.title('Histograma y Distribución Normal')\n",
    "plt.xlabel('Temperatura')\n",
    "plt.ylabel('Densidad de Probabilidad')\n",
    "\n",
    "# Mostrar el gráfico\n",
    "plt.show()"
   ]
  },
  {
   "cell_type": "code",
   "execution_count": 64,
   "id": "67493492-a43d-4302-9591-cf825bd1c5e0",
   "metadata": {},
   "outputs": [
    {
     "name": "stdout",
     "output_type": "stream",
     "text": [
      "Media: 18.88916827852998\n",
      "Mediana: 19.3\n",
      "Desviacion Estándar: 5.8010069395983646\n"
     ]
    }
   ],
   "source": [
    "print(f'Media: {mu}\\nMediana: {median}\\nDesviacion Estándar: {sigma}')"
   ]
  }
 ],
 "metadata": {
  "kernelspec": {
   "display_name": "Python 3 (ipykernel)",
   "language": "python",
   "name": "python3"
  },
  "language_info": {
   "codemirror_mode": {
    "name": "ipython",
    "version": 3
   },
   "file_extension": ".py",
   "mimetype": "text/x-python",
   "name": "python",
   "nbconvert_exporter": "python",
   "pygments_lexer": "ipython3",
   "version": "3.12.7"
  }
 },
 "nbformat": 4,
 "nbformat_minor": 5
}
