{
 "cells": [
  {
   "cell_type": "markdown",
   "id": "5f7b3b78-cafe-4d85-8ae7-9a3f7506ef11",
   "metadata": {},
   "source": [
    "# Fase 2 - Proyecto Machine Learning"
   ]
  },
  {
   "cell_type": "code",
   "execution_count": 426,
   "id": "8cebbecf-f7b8-4ef2-a842-0f7f8c8316c4",
   "metadata": {},
   "outputs": [],
   "source": [
    "#Funciones y librerias\n",
    "import numpy as np\n",
    "import pandas as pd\n",
    "import matplotlib.pyplot as plt\n",
    "import random\n",
    "import xgboost as xgb\n",
    "from sklearn.model_selection import train_test_split\n",
    "from sklearn.metrics import accuracy_score, classification_report, confusion_matrix\n",
    "import joblib\n",
    "import heapq\n",
    "\n",
    "#Paso 1\n",
    "def asignacion_tamanos(n_prods):\n",
    "    tam = ['pequeño','mediano','grande']\n",
    "    pesos = [.55, .35, .1]\n",
    "    datos = random.choices(tam, weights = pesos, k=n_prods)\n",
    "    return datos\n",
    "\n",
    "#Paso 2.1\n",
    "def ajustar_dimensiones(dimension, categoria):\n",
    "    if categoria == 'pequeño':\n",
    "        return np.clip(dimension, 5, 30)\n",
    "    if categoria == 'mediano':\n",
    "        return np.clip(dimension, 30.1, 50)\n",
    "    if categoria == 'grande':\n",
    "        return np.clip(dimension, 50.1, 100)\n",
    "\n",
    "def generar_dimensiones(categoria):\n",
    "    #Info paquetes pequeños - dim alta\n",
    "    mu_p_alto, sigma_p_alto = 12.5, 1.48\n",
    "    mu_p_ancho, sigma_p_ancho = 15, 2.9\n",
    "    mu_p_largo, sigma_p_largo = 17.5, 1.48\n",
    "    #Info paquetes medianos - dim alta\n",
    "    mu_m_alto, sigma_m_alto = 37.5, 1.48\n",
    "    mu_m_ancho, sigma_m_ancho = 35, 2.93\n",
    "    mu_m_largo, sigma_m_largo = 40, 5.81\n",
    "    #Info paquetes grandes - dim alta\n",
    "    mu_g_alto, sigma_g_alto = 75, 14.47\n",
    "    mu_g_ancho, sigma_g_ancho = 60, 5.81\n",
    "    mu_g_largo, sigma_g_largo = 70, 5.81\n",
    "    if categoria == 'pequeño':\n",
    "        #Dimensiones con distribucion normal de paquetes PEQUEÑOS\n",
    "        altos = np.random.normal(mu_p_alto, sigma_p_alto)\n",
    "        anchos = np.random.normal(mu_p_ancho, sigma_p_ancho)\n",
    "        largos = np.random.normal(mu_p_largo, sigma_p_largo)\n",
    "    if categoria == 'mediano':\n",
    "        #Dimensiones con distribucion normal de paquetes MEDIANOS\n",
    "        altos = np.random.normal(mu_m_alto, sigma_m_alto)\n",
    "        anchos = np.random.normal(mu_m_ancho, sigma_m_ancho)\n",
    "        largos = np.random.normal(mu_m_largo, sigma_m_largo)\n",
    "    if categoria == 'grande':\n",
    "        #Dimensiones con distribucion normal de paquetes GRANDES\n",
    "        altos = np.random.normal(mu_g_alto, sigma_g_alto)\n",
    "        anchos = np.random.normal(mu_g_ancho, sigma_g_ancho)\n",
    "        largos = np.random.normal(mu_g_largo, sigma_g_largo)\n",
    "    alto = ajustar_dimensiones(altos,categoria)\n",
    "    ancho = ajustar_dimensiones(anchos,categoria)\n",
    "    largo = ajustar_dimensiones(largos,categoria)\n",
    "    return altos, ancho, largo\n",
    "\n",
    "#Paso 2 - Generar dimensiones\n",
    "def paso_dimensiones(categorias_asig):\n",
    "    data = []\n",
    "    for i, categoria in enumerate(categorias_asig):\n",
    "        alto, ancho, largo = generar_dimensiones(categoria)\n",
    "        data.append([i+1, categoria, round(alto, 2), round(ancho, 2), round(largo, 2)])\n",
    "    df = pd.DataFrame(data, columns = ['ID_PAQUETE', 'CATEGORIA_ASIGNADA','ALTO','ANCHO','LARGO'])\n",
    "    return df\n",
    "\n",
    "#Paso 3.1 - Asignar pesos\n",
    "def ajustar_peso(peso, categoria):\n",
    "    if categoria == 'pequeño':\n",
    "        return np.clip(peso,.1,10)\n",
    "    if categoria == 'mediano':\n",
    "        return np.clip(peso,10.1,30)\n",
    "    if categoria == 'grande':\n",
    "        return np.clip(peso,30.1,100,)\n",
    "\n",
    "#Paso 3 - Generar pesos\n",
    "def asignacion_pesos(datos_2):\n",
    "    mu_p_peso = 4.9\n",
    "    sigma_p_peso = 2.85\n",
    "    mu_m_peso = 19.9\n",
    "    sigma_m_peso = 5.77\n",
    "    mu_g_peso = 65\n",
    "    sigma_g_peso = 20.17\n",
    "    pesos = []\n",
    "    for i in range(len(datos_2)):\n",
    "        if datos_2['CATEGORIA_ASIGNADA'][i] == 'pequeño':\n",
    "            peso = np.random.normal(mu_p_peso, sigma_p_peso)\n",
    "        if datos_2['CATEGORIA_ASIGNADA'][i] == 'mediano':\n",
    "            peso = np.random.normal(mu_m_peso, sigma_m_peso)\n",
    "        if datos_2['CATEGORIA_ASIGNADA'][i] == 'grande':\n",
    "            peso = np.random.normal(mu_g_peso, sigma_g_peso)\n",
    "        peso = ajustar_peso(peso, datos_2['CATEGORIA_ASIGNADA'][i])\n",
    "        pesos.append(peso)\n",
    "    datos_2['PESO_ASIGNADO'] = pesos\n",
    "    return datos_2\n",
    "\n",
    "#Paso 4 - Tipo de manipulacion\n",
    "def asignacion_manipulacion(n_prods, datos_2):\n",
    "    tam = ['fragil', 'normal']\n",
    "    pesos = [.4, .6]\n",
    "    tipos = random.choices(tam, weights = pesos, k = n_prods)\n",
    "    datos_2['TIPO_MANIPULACION'] = tipos\n",
    "    return datos_2\n",
    "\n",
    "#Paso 5 - Lugar de procedencia\n",
    "def asignacion_procedencia(n_prods, datos_2):\n",
    "    tam = ['A', 'B', 'C', 'D']\n",
    "    pesos = [.25,.25,.25,.25]\n",
    "    tipos = random.choices(tam, weights = pesos, k = n_prods)\n",
    "    datos_2['LUGAR_PROCEDENCIA'] = tipos\n",
    "    return datos_2\n",
    "\n",
    "#Paso 6 - Lugar de procedencia\n",
    "def asignacion_temperatura(n_prods, datos_2):\n",
    "    tam = ['ambiente','refrigerado']\n",
    "    pesos = [.53,.47]\n",
    "    tipos = random.choices(tam, weights = pesos, k = n_prods)\n",
    "    datos_2['TEMPERATURA_ALMACENAMIENTO'] = tipos\n",
    "    return datos_2\n",
    "\n",
    "#Paso 7 - Protocolo\n",
    "def asignacion_protocolo(n_prods, datos_2):\n",
    "    tam = ['Protocolo_1','Protocolo_2']\n",
    "    pesos = [.62,.38]\n",
    "    tipos = random.choices(tam, weights = pesos, k = n_prods)\n",
    "    datos_2['PROTOCOLO'] = tipos\n",
    "    return datos_2\n",
    "#WoE \n",
    "def woe_procedencia(df):\n",
    "    #Paso 1: Calcular woe para la variable LUGAR_PROCEDENCIA\n",
    "    #1. dividir las muestras por protocolos\n",
    "    protocolo_1 = df[df['PROTOCOLO']=='Protocolo_1']\n",
    "    protocolo_2 = df[df['PROTOCOLO']=='Protocolo_2']\n",
    "    #2. Contar las frecuencias de cada categoria de eventos\n",
    "    freq_protocolo1 = protocolo_1['LUGAR_PROCEDENCIA'].value_counts()\n",
    "    freq_protocolo2 = protocolo_2['LUGAR_PROCEDENCIA'].value_counts()\n",
    "    #3. Calcular probabilidades de protocolo 1 y protocolo2 para cada categoria\n",
    "    prob_prot1 = freq_protocolo1 / len(protocolo_1)\n",
    "    prob_prot2 = freq_protocolo2 / len(protocolo_2)\n",
    "    #4. Calcular el WoE para cada categoria\n",
    "    woe_dict = {}\n",
    "    for categoria in freq_protocolo1.index.union(freq_protocolo2.index):\n",
    "        p_protocolo1 = prob_prot1.get(categoria, 0)\n",
    "        p_protocolo2 = prob_prot2.get(categoria, 0)\n",
    "        if p_protocolo1 > 0 and p_protocolo2 > 0:\n",
    "            woe = np.log(p_protocolo1/p_protocolo2)\n",
    "        else:\n",
    "            woe = 0\n",
    "        woe_dict[categoria] = woe\n",
    "    df['LUGAR_PROCEDENCIA_WOE'] = df['LUGAR_PROCEDENCIA'].map(woe_dict)\n",
    "    return df\n",
    "\n",
    "# Funcion heuristica\n",
    "def heuristica(a, b):\n",
    "    # Usamos la distancia de Manhattan para estimar el costo de llegar al objetivo\n",
    "    return abs(a[0] - b[0]) + abs(a[1] - b[1])\n",
    "\n",
    "# Funcion a *\n",
    "def a_star(inicio, objetivo, mapa_planta):\n",
    "    # La cola de prioridad (min-heap) para el algoritmo A*\n",
    "    open_list = []\n",
    "    heapq.heappush(open_list, (0 + heuristica(inicio, objetivo), 0, inicio))  # (f, g, (x, y))\n",
    "    \n",
    "    # Diccionario para mantener el camino más corto encontrado\n",
    "    came_from = {}\n",
    "    \n",
    "    # Distancia mínima hasta cada nodo\n",
    "    g_score = {inicio: 0}\n",
    "    \n",
    "    while open_list:\n",
    "        _, current_g, current_node = heapq.heappop(open_list)\n",
    "        \n",
    "        # Si llegamos al objetivo, reconstruimos el camino\n",
    "        if current_node == objetivo:\n",
    "            path = []\n",
    "            while current_node in came_from:\n",
    "                path.append(current_node)\n",
    "                current_node = came_from[current_node]\n",
    "            path.append(inicio)\n",
    "            return path[::-1]  # Invertir el camino\n",
    "        \n",
    "        # Explorar los vecinos\n",
    "        for movimiento in MOVIMIENTOS:\n",
    "            neighbor = (current_node[0] + movimiento[0], current_node[1] + movimiento[1])\n",
    "            \n",
    "            # Comprobar que el vecino está dentro del mapa\n",
    "            if 0 <= neighbor[0] < ROWS and 0 <= neighbor[1] < COLS:\n",
    "                if mapa_planta[neighbor[0]][neighbor[1]] == 0 or isinstance(mapa_planta[neighbor[0]][neighbor[1]], str):  # Si es celda vacía o producto\n",
    "                    tentative_g_score = current_g + 100  # Cada paso tiene una distancia de 100\n",
    "\n",
    "                    # Si encontramos un camino más corto hacia el vecino\n",
    "                    if neighbor not in g_score or tentative_g_score < g_score[neighbor]:\n",
    "                        g_score[neighbor] = tentative_g_score\n",
    "                        f_score = tentative_g_score + heuristica(neighbor, objetivo)\n",
    "                        heapq.heappush(open_list, (f_score, tentative_g_score, neighbor))\n",
    "                        came_from[neighbor] = current_node\n",
    "    \n",
    "    return None  # Si no se encuentra camino\n",
    "\n",
    "# Función para distribuir los productos, priorizando los protocolos 1\n",
    "def distribuir_productos(mapa_planta):\n",
    "    # Definir el orden de los productos (prioridad Protocolo_1 primero)\n",
    "    productos = [\n",
    "        ('Embalaje_A_Protocolo_1', 'Protocolo_1'),\n",
    "        ('Embalaje_A_Protocolo_2', 'Protocolo_2'),\n",
    "        ('Embalaje_B_Protocolo_1', 'Protocolo_1'),\n",
    "        ('Embalaje_B_Protocolo_2', 'Protocolo_2'),\n",
    "        ('Embalaje_C_Protocolo_1', 'Protocolo_1'),\n",
    "        ('Embalaje_C_Protocolo_2', 'Protocolo_2')\n",
    "    ]\n",
    "    \n",
    "    # Ordenar productos por prioridad (Protocolo_1 primero)\n",
    "    productos.sort(key=lambda x: x[1])  # Ordenar por Protocolo\n",
    "    \n",
    "    # Obtener los destinos a los que debe ir el vehículo\n",
    "    destinos = [producto[0] for producto in productos]\n",
    "    \n",
    "    # Encontrar el almacén (punto de inicio)\n",
    "    almacen = 'Almacen'\n",
    "    inicio = None\n",
    "    for i in range(ROWS):\n",
    "        for j in range(COLS):\n",
    "            if mapa_planta[i][j] == almacen:\n",
    "                inicio = (i, j)\n",
    "                break\n",
    "    \n",
    "    # Ejecutar A* desde el Almacen a cada destino\n",
    "    for destino in destinos:\n",
    "        # Encontrar la ubicación del destino\n",
    "        objetivo = None\n",
    "        for i in range(ROWS):\n",
    "            for j in range(COLS):\n",
    "                if mapa_planta[i][j] == destino:\n",
    "                    objetivo = (i, j)\n",
    "                    break\n",
    "        \n",
    "        # Encontrar el camino óptimo usando A*\n",
    "        camino = a_star(inicio, objetivo, mapa_planta)\n",
    "        \n",
    "        # Imprimir la ruta óptima\n",
    "        if camino:\n",
    "            print(f\"Ruta para entregar {destino}: {camino}\")\n",
    "        else:\n",
    "            print(f\"No se encontró una ruta para entregar {destino}\")"
   ]
  },
  {
   "cell_type": "markdown",
   "id": "c455715c-e65b-4008-9677-9a49fb3e0c24",
   "metadata": {},
   "source": [
    "## Ejercicio 1"
   ]
  },
  {
   "cell_type": "markdown",
   "id": "5afdc2b4-0443-434d-92e8-0e9c523fafee",
   "metadata": {},
   "source": [
    "Utilizando la situación modelada anteriormente (para revisar dicha situación, refiérase a Fase 1, ubicada en *../Fase 1/Fase 1 - ML.ipynb*), ¿Cuáles serían los algoritmos de aprendizaje automático supervisado que consideras que deberían estar involucrados de alguna  forma en tu antigua propuesta?"
   ]
  },
  {
   "cell_type": "markdown",
   "id": "948f61c7-31c7-437d-9bce-e3760d6217a4",
   "metadata": {},
   "source": [
    "**Recuento**\n",
    "\n",
    "La fase 1 del proyecto consistía en:\n",
    "\n",
    "En una planta industrial se está considerando la introducción de un vehículo inteligente que sea capaz de trasladarse de forma autónoma a través de las instalaciones y de transportar los productos desde el área de almacenamiento central hasta las diferentes zonas de manufactura. La empresa tiene tres áreas de manufactura y cada producto se encuentra empacado en un contenedor específico que identifica el área a la que pertenece.\n",
    "\n",
    "En general, se buscó añadir de alguna manera variables con el fin que se propusiera un dataset lo más completo posible que fuera utilizado en un modelo matemático que se encargaría de predecir el tiempo que tardaría en ser entregado el producto. Ahora bien, si se decidiera realizar un modelo que terminara por predecir el protocolo que utiliza cada producto transportado, se necesita de un modelo de clasificación binaria. Por ende, la propuesta sería la siguiente:\n",
    "\n",
    "**Modelo de decisión de árboles binario XGBoost.**\n",
    "\n",
    "Utilizando una considerable cantidad de variables que además de estar completa, estuvieran relacionadas de una manera parecida, se aplica el modelo de clasificación binaria, al solo tener 2 opciones (Protocolo 1 y Protocolo 2), resulta más sencillo. En caso que no sea posible decidir por este modelo, se puede proponer una maquina de vector de soporte (SVM), aunque este último, suele ser más utilizado para un dataset con un tamaño pequeño de datos."
   ]
  },
  {
   "cell_type": "markdown",
   "id": "6d04f936-68e8-472e-a428-5d2fb4bfe7a0",
   "metadata": {},
   "source": [
    "## Ejercicio 2"
   ]
  },
  {
   "cell_type": "markdown",
   "id": "87b44c40-4b47-422b-9520-bdc59f56929f",
   "metadata": {},
   "source": [
    "Considera que cada producto que se encuentra en el almacén central, además de ser identificado por el tipo de embalage, también posee como propiedad sus dimensiones (largo, ancho y altura con un máximo de 100,00 cm y un mínimo de 5,0 cm en cada dimensión), peso (kg), el tipo de manipulación que requiere (frágil, normal), lugar de procedencia (A, B, C, D) y temperatura de almacenamiento (ambiente, refrigerado)"
   ]
  },
  {
   "cell_type": "markdown",
   "id": "958e49b9-5789-41a1-84bf-5a9d564483aa",
   "metadata": {},
   "source": [
    "#### Solución\n",
    "\n",
    "Con el fin de presentar datos *simulados*, se tienen que considerar ciertas condiciones a cada una de las variables que representa cada producto, no solo es crear un número de consultas aleatorias y que estas tengan la misma probabilidad de aparecer en cada una de las ocasiones. La generación de datos estará a continuación"
   ]
  },
  {
   "cell_type": "markdown",
   "id": "53c6750d-3665-4fc2-afb0-45cf97c63bea",
   "metadata": {},
   "source": [
    "**Dimensiones**\n",
    "\n",
    "A pesar que se menciona que las características mínimas de cada producto deben:\n",
    "\n",
    "$$5cm \\leq dimensiones_{largo} \\leq 100cm$$\n",
    "$$5cm \\leq dimensiones_{ancho} \\leq 100cm$$\n",
    "$$5cm \\leq dimensiones_{alto} \\leq 100cm$$\n",
    "\n",
    "Aunque sí hay productos que pueden llegar a ser de dimensiones pequeñas, como $5x5x5$, no se llega a tener muchos de ese estilo, acorde a las guías por parte de DHL, FedEx y UPS, suelen tener medidas estandar de las dimensiones de paquetes más conocidas. Siendo las siguientes:\n",
    "\n",
    "Paquetes pequeños\n",
    "- 10 cm x 20 cm x 10 cm\n",
    "- 15 cm x 15 cm x 15 cm\n",
    "- 20 cm x 20 cm x 10 cm\n",
    "\n",
    "Paquetes medianos\n",
    "- 30 cm x 30 cm x 20 cm\n",
    "- 40 cm x 30 cm x 20 cm\n",
    "\n",
    "Paquetes grandes\n",
    "- 50 cm x 40 cm x 40 cm\n",
    "- 60 cm x 60 cm x 40 cm\n",
    "\n",
    "Ahora, estas medidas son las más \"usuales\", por ende, la información estará dividida por 2 procesos:\n",
    "\n",
    "1. Primero generar una distribución aleatoria uniforme sobre los 3 tipos de paquetes (pequeños, medianos y grandes), definiremos las medidas de la siguiente manera:\n",
    "   - Paquetes pequeños: $5\\leq dimension_{i} \\leq 30$ donde $i \\in $ {ancho, largo, alto}\n",
    "   - Paquetes medianos: $30 < dimension_{i} \\leq 50$ donde $i \\in$ {ancho, largo, alto}\n",
    "   - Paquetes grandes: $50 < dimension_{i} \\leq 100$ donde $i \\in$ {ancho, largo, alto}\n",
    "\n",
    "    Cabe recalcar que, según la misma guía por parte de las paqueterías mencionadas, los paquetes más usuales son los pequeños, seguido de los paquetes medianos y por último los grandes. Asignaré un peso distinto a cada valor.\n",
    "   \n",
    "3. Generar medidas aleatorias para cada tipo de tamaño, esto se puede distribuir utilizando la distribución normal, con el fin de darle mayor peso a las medidas usuales mencionadas anteriormente.\n",
    "\n",
    "   Una vez asignados los tipos de paquete que son (pequeño, mediano o grande) solo falta generar medidas aleatorias que sigan una distribución normal entre las más usuales mencionadas anteriormente."
   ]
  },
  {
   "cell_type": "code",
   "execution_count": 278,
   "id": "fde5711c-31b8-4341-bb4f-0875a8d86804",
   "metadata": {},
   "outputs": [],
   "source": [
    "#Numero de paquetes\n",
    "n = 10000\n",
    "#Generacion de tamaños de paquetes\n",
    "datos_1 = asignacion_tamanos(n)\n",
    "#Asignación de dimensiones\n",
    "datos_2 = paso_dimensiones(datos_1)"
   ]
  },
  {
   "cell_type": "code",
   "execution_count": 280,
   "id": "683e045c-c6ff-44fb-8b60-931c0cd44eb0",
   "metadata": {},
   "outputs": [
    {
     "data": {
      "text/html": [
       "<div>\n",
       "<style scoped>\n",
       "    .dataframe tbody tr th:only-of-type {\n",
       "        vertical-align: middle;\n",
       "    }\n",
       "\n",
       "    .dataframe tbody tr th {\n",
       "        vertical-align: top;\n",
       "    }\n",
       "\n",
       "    .dataframe thead th {\n",
       "        text-align: right;\n",
       "    }\n",
       "</style>\n",
       "<table border=\"1\" class=\"dataframe\">\n",
       "  <thead>\n",
       "    <tr style=\"text-align: right;\">\n",
       "      <th></th>\n",
       "      <th>ID_PAQUETE</th>\n",
       "      <th>CATEGORIA_ASIGNADA</th>\n",
       "      <th>ALTO</th>\n",
       "      <th>ANCHO</th>\n",
       "      <th>LARGO</th>\n",
       "    </tr>\n",
       "  </thead>\n",
       "  <tbody>\n",
       "    <tr>\n",
       "      <th>0</th>\n",
       "      <td>1</td>\n",
       "      <td>pequeño</td>\n",
       "      <td>11.25</td>\n",
       "      <td>16.58</td>\n",
       "      <td>17.13</td>\n",
       "    </tr>\n",
       "    <tr>\n",
       "      <th>1</th>\n",
       "      <td>2</td>\n",
       "      <td>mediano</td>\n",
       "      <td>36.87</td>\n",
       "      <td>33.50</td>\n",
       "      <td>41.15</td>\n",
       "    </tr>\n",
       "    <tr>\n",
       "      <th>2</th>\n",
       "      <td>3</td>\n",
       "      <td>pequeño</td>\n",
       "      <td>11.99</td>\n",
       "      <td>14.11</td>\n",
       "      <td>15.45</td>\n",
       "    </tr>\n",
       "    <tr>\n",
       "      <th>3</th>\n",
       "      <td>4</td>\n",
       "      <td>pequeño</td>\n",
       "      <td>11.79</td>\n",
       "      <td>16.20</td>\n",
       "      <td>18.42</td>\n",
       "    </tr>\n",
       "    <tr>\n",
       "      <th>4</th>\n",
       "      <td>5</td>\n",
       "      <td>pequeño</td>\n",
       "      <td>12.47</td>\n",
       "      <td>13.49</td>\n",
       "      <td>17.03</td>\n",
       "    </tr>\n",
       "  </tbody>\n",
       "</table>\n",
       "</div>"
      ],
      "text/plain": [
       "   ID_PAQUETE CATEGORIA_ASIGNADA   ALTO  ANCHO  LARGO\n",
       "0           1            pequeño  11.25  16.58  17.13\n",
       "1           2            mediano  36.87  33.50  41.15\n",
       "2           3            pequeño  11.99  14.11  15.45\n",
       "3           4            pequeño  11.79  16.20  18.42\n",
       "4           5            pequeño  12.47  13.49  17.03"
      ]
     },
     "execution_count": 280,
     "metadata": {},
     "output_type": "execute_result"
    }
   ],
   "source": [
    "datos_2.head(5)"
   ]
  },
  {
   "cell_type": "markdown",
   "id": "0a0d19cd-69cf-4f0d-8e44-bc367e153432",
   "metadata": {},
   "source": [
    "**Peso**\n",
    "\n",
    "La idea para asignar el peso estará encaminada a la misma solución que la asignación de medidas. Por ende, se realizará una distribución normal, con el fin de otorgar más peso a las elecciones de peso usuales.\n",
    "\n",
    "La misma guía presenta las siguientes condiciones de pesos:\n",
    "- Paquetes pequeños: $0.1kg \\leq peso \\leq 10kg$\n",
    "- Paquetes medianos: $10kg < peso \\leq 30kg$\n",
    "- Paquetes grandes: $30kg < peso \\leq 100 kg$"
   ]
  },
  {
   "cell_type": "code",
   "execution_count": 282,
   "id": "f3b6621c-151e-4371-bb0c-6a0a79c1cc51",
   "metadata": {},
   "outputs": [],
   "source": [
    "datos_2 = asignacion_pesos(datos_2)"
   ]
  },
  {
   "cell_type": "markdown",
   "id": "54d13c41-ac43-4156-a51e-af4da5e6f48d",
   "metadata": {},
   "source": [
    "**Tipo de manipulación**\n",
    "\n",
    "La manipulación puede ser de dos tipos (frágil o normal), en general, tanto paquetes pequeños como medianos o grandes suelen contener piezas frágiles, por ende, solo se seleccionará una elección aleatoria del tipo de manipulación"
   ]
  },
  {
   "cell_type": "code",
   "execution_count": 284,
   "id": "3134aa4f-94bb-4a0f-91f0-1d403b43bf64",
   "metadata": {},
   "outputs": [],
   "source": [
    "datos_2 = asignacion_manipulacion(n,datos_2)"
   ]
  },
  {
   "cell_type": "code",
   "execution_count": 286,
   "id": "196642ab-a9e2-4764-9878-32262c13c559",
   "metadata": {},
   "outputs": [
    {
     "data": {
      "text/html": [
       "<div>\n",
       "<style scoped>\n",
       "    .dataframe tbody tr th:only-of-type {\n",
       "        vertical-align: middle;\n",
       "    }\n",
       "\n",
       "    .dataframe tbody tr th {\n",
       "        vertical-align: top;\n",
       "    }\n",
       "\n",
       "    .dataframe thead th {\n",
       "        text-align: right;\n",
       "    }\n",
       "</style>\n",
       "<table border=\"1\" class=\"dataframe\">\n",
       "  <thead>\n",
       "    <tr style=\"text-align: right;\">\n",
       "      <th></th>\n",
       "      <th>ID_PAQUETE</th>\n",
       "      <th>CATEGORIA_ASIGNADA</th>\n",
       "      <th>ALTO</th>\n",
       "      <th>ANCHO</th>\n",
       "      <th>LARGO</th>\n",
       "      <th>PESO_ASIGNADO</th>\n",
       "      <th>TIPO_MANIPULACION</th>\n",
       "    </tr>\n",
       "  </thead>\n",
       "  <tbody>\n",
       "    <tr>\n",
       "      <th>0</th>\n",
       "      <td>1</td>\n",
       "      <td>pequeño</td>\n",
       "      <td>11.25</td>\n",
       "      <td>16.58</td>\n",
       "      <td>17.13</td>\n",
       "      <td>8.096204</td>\n",
       "      <td>normal</td>\n",
       "    </tr>\n",
       "    <tr>\n",
       "      <th>1</th>\n",
       "      <td>2</td>\n",
       "      <td>mediano</td>\n",
       "      <td>36.87</td>\n",
       "      <td>33.50</td>\n",
       "      <td>41.15</td>\n",
       "      <td>24.975459</td>\n",
       "      <td>fragil</td>\n",
       "    </tr>\n",
       "    <tr>\n",
       "      <th>2</th>\n",
       "      <td>3</td>\n",
       "      <td>pequeño</td>\n",
       "      <td>11.99</td>\n",
       "      <td>14.11</td>\n",
       "      <td>15.45</td>\n",
       "      <td>4.946614</td>\n",
       "      <td>normal</td>\n",
       "    </tr>\n",
       "    <tr>\n",
       "      <th>3</th>\n",
       "      <td>4</td>\n",
       "      <td>pequeño</td>\n",
       "      <td>11.79</td>\n",
       "      <td>16.20</td>\n",
       "      <td>18.42</td>\n",
       "      <td>9.365610</td>\n",
       "      <td>normal</td>\n",
       "    </tr>\n",
       "    <tr>\n",
       "      <th>4</th>\n",
       "      <td>5</td>\n",
       "      <td>pequeño</td>\n",
       "      <td>12.47</td>\n",
       "      <td>13.49</td>\n",
       "      <td>17.03</td>\n",
       "      <td>7.179166</td>\n",
       "      <td>normal</td>\n",
       "    </tr>\n",
       "  </tbody>\n",
       "</table>\n",
       "</div>"
      ],
      "text/plain": [
       "   ID_PAQUETE CATEGORIA_ASIGNADA   ALTO  ANCHO  LARGO  PESO_ASIGNADO  \\\n",
       "0           1            pequeño  11.25  16.58  17.13       8.096204   \n",
       "1           2            mediano  36.87  33.50  41.15      24.975459   \n",
       "2           3            pequeño  11.99  14.11  15.45       4.946614   \n",
       "3           4            pequeño  11.79  16.20  18.42       9.365610   \n",
       "4           5            pequeño  12.47  13.49  17.03       7.179166   \n",
       "\n",
       "  TIPO_MANIPULACION  \n",
       "0            normal  \n",
       "1            fragil  \n",
       "2            normal  \n",
       "3            normal  \n",
       "4            normal  "
      ]
     },
     "execution_count": 286,
     "metadata": {},
     "output_type": "execute_result"
    }
   ],
   "source": [
    "datos_2.head(5)"
   ]
  },
  {
   "cell_type": "markdown",
   "id": "02fc43b5-2e7f-452e-abdc-527fc753e6ef",
   "metadata": {},
   "source": [
    "**Lugar de procedencia**"
   ]
  },
  {
   "cell_type": "markdown",
   "id": "cc1b344e-909e-46ac-a287-f98b62f32f75",
   "metadata": {},
   "source": [
    "Siguiendo con el lugar de procedencia, el proceso es el mismo que con el tipo de manipulación. Se realiza una selección aleatoria entre los 4 lugares (A,B,C,D)."
   ]
  },
  {
   "cell_type": "code",
   "execution_count": 288,
   "id": "882c2b45-48a7-4411-baaa-b5c9117e957d",
   "metadata": {},
   "outputs": [],
   "source": [
    "datos_2 = asignacion_procedencia(n, datos_2)"
   ]
  },
  {
   "cell_type": "code",
   "execution_count": 290,
   "id": "fa966626-deef-44f6-8da1-32cf06a24656",
   "metadata": {},
   "outputs": [
    {
     "data": {
      "text/html": [
       "<div>\n",
       "<style scoped>\n",
       "    .dataframe tbody tr th:only-of-type {\n",
       "        vertical-align: middle;\n",
       "    }\n",
       "\n",
       "    .dataframe tbody tr th {\n",
       "        vertical-align: top;\n",
       "    }\n",
       "\n",
       "    .dataframe thead th {\n",
       "        text-align: right;\n",
       "    }\n",
       "</style>\n",
       "<table border=\"1\" class=\"dataframe\">\n",
       "  <thead>\n",
       "    <tr style=\"text-align: right;\">\n",
       "      <th></th>\n",
       "      <th>ID_PAQUETE</th>\n",
       "      <th>CATEGORIA_ASIGNADA</th>\n",
       "      <th>ALTO</th>\n",
       "      <th>ANCHO</th>\n",
       "      <th>LARGO</th>\n",
       "      <th>PESO_ASIGNADO</th>\n",
       "      <th>TIPO_MANIPULACION</th>\n",
       "      <th>LUGAR_PROCEDENCIA</th>\n",
       "    </tr>\n",
       "  </thead>\n",
       "  <tbody>\n",
       "    <tr>\n",
       "      <th>0</th>\n",
       "      <td>1</td>\n",
       "      <td>pequeño</td>\n",
       "      <td>11.25</td>\n",
       "      <td>16.58</td>\n",
       "      <td>17.13</td>\n",
       "      <td>8.096204</td>\n",
       "      <td>normal</td>\n",
       "      <td>B</td>\n",
       "    </tr>\n",
       "    <tr>\n",
       "      <th>1</th>\n",
       "      <td>2</td>\n",
       "      <td>mediano</td>\n",
       "      <td>36.87</td>\n",
       "      <td>33.50</td>\n",
       "      <td>41.15</td>\n",
       "      <td>24.975459</td>\n",
       "      <td>fragil</td>\n",
       "      <td>D</td>\n",
       "    </tr>\n",
       "    <tr>\n",
       "      <th>2</th>\n",
       "      <td>3</td>\n",
       "      <td>pequeño</td>\n",
       "      <td>11.99</td>\n",
       "      <td>14.11</td>\n",
       "      <td>15.45</td>\n",
       "      <td>4.946614</td>\n",
       "      <td>normal</td>\n",
       "      <td>A</td>\n",
       "    </tr>\n",
       "    <tr>\n",
       "      <th>3</th>\n",
       "      <td>4</td>\n",
       "      <td>pequeño</td>\n",
       "      <td>11.79</td>\n",
       "      <td>16.20</td>\n",
       "      <td>18.42</td>\n",
       "      <td>9.365610</td>\n",
       "      <td>normal</td>\n",
       "      <td>C</td>\n",
       "    </tr>\n",
       "    <tr>\n",
       "      <th>4</th>\n",
       "      <td>5</td>\n",
       "      <td>pequeño</td>\n",
       "      <td>12.47</td>\n",
       "      <td>13.49</td>\n",
       "      <td>17.03</td>\n",
       "      <td>7.179166</td>\n",
       "      <td>normal</td>\n",
       "      <td>B</td>\n",
       "    </tr>\n",
       "  </tbody>\n",
       "</table>\n",
       "</div>"
      ],
      "text/plain": [
       "   ID_PAQUETE CATEGORIA_ASIGNADA   ALTO  ANCHO  LARGO  PESO_ASIGNADO  \\\n",
       "0           1            pequeño  11.25  16.58  17.13       8.096204   \n",
       "1           2            mediano  36.87  33.50  41.15      24.975459   \n",
       "2           3            pequeño  11.99  14.11  15.45       4.946614   \n",
       "3           4            pequeño  11.79  16.20  18.42       9.365610   \n",
       "4           5            pequeño  12.47  13.49  17.03       7.179166   \n",
       "\n",
       "  TIPO_MANIPULACION LUGAR_PROCEDENCIA  \n",
       "0            normal                 B  \n",
       "1            fragil                 D  \n",
       "2            normal                 A  \n",
       "3            normal                 C  \n",
       "4            normal                 B  "
      ]
     },
     "execution_count": 290,
     "metadata": {},
     "output_type": "execute_result"
    }
   ],
   "source": [
    "datos_2.head(5)"
   ]
  },
  {
   "cell_type": "markdown",
   "id": "f90c0272-2ebf-4d0f-b52b-5f87188f6cce",
   "metadata": {},
   "source": [
    "**Temperatura de almacenamiento**\n",
    "\n",
    "Siguiendo con la temperatura de almacenamiento, el proceso es el mismo que los últimos 2. Se realiza una selección aleatoria entre los 2 tipos de temperatura (ambiente, refrigerado)."
   ]
  },
  {
   "cell_type": "code",
   "execution_count": 292,
   "id": "ed1641fd-cfd1-411d-972d-814b82d00d40",
   "metadata": {},
   "outputs": [],
   "source": [
    "datos_2 = asignacion_temperatura(n,datos_2)"
   ]
  },
  {
   "cell_type": "code",
   "execution_count": 294,
   "id": "019f4f34-f967-4c18-b94c-8270d9dae949",
   "metadata": {},
   "outputs": [
    {
     "data": {
      "text/html": [
       "<div>\n",
       "<style scoped>\n",
       "    .dataframe tbody tr th:only-of-type {\n",
       "        vertical-align: middle;\n",
       "    }\n",
       "\n",
       "    .dataframe tbody tr th {\n",
       "        vertical-align: top;\n",
       "    }\n",
       "\n",
       "    .dataframe thead th {\n",
       "        text-align: right;\n",
       "    }\n",
       "</style>\n",
       "<table border=\"1\" class=\"dataframe\">\n",
       "  <thead>\n",
       "    <tr style=\"text-align: right;\">\n",
       "      <th></th>\n",
       "      <th>ID_PAQUETE</th>\n",
       "      <th>CATEGORIA_ASIGNADA</th>\n",
       "      <th>ALTO</th>\n",
       "      <th>ANCHO</th>\n",
       "      <th>LARGO</th>\n",
       "      <th>PESO_ASIGNADO</th>\n",
       "      <th>TIPO_MANIPULACION</th>\n",
       "      <th>LUGAR_PROCEDENCIA</th>\n",
       "      <th>TEMPERATURA_ALMACENAMIENTO</th>\n",
       "    </tr>\n",
       "  </thead>\n",
       "  <tbody>\n",
       "    <tr>\n",
       "      <th>0</th>\n",
       "      <td>1</td>\n",
       "      <td>pequeño</td>\n",
       "      <td>11.25</td>\n",
       "      <td>16.58</td>\n",
       "      <td>17.13</td>\n",
       "      <td>8.096204</td>\n",
       "      <td>normal</td>\n",
       "      <td>B</td>\n",
       "      <td>ambiente</td>\n",
       "    </tr>\n",
       "    <tr>\n",
       "      <th>1</th>\n",
       "      <td>2</td>\n",
       "      <td>mediano</td>\n",
       "      <td>36.87</td>\n",
       "      <td>33.50</td>\n",
       "      <td>41.15</td>\n",
       "      <td>24.975459</td>\n",
       "      <td>fragil</td>\n",
       "      <td>D</td>\n",
       "      <td>ambiente</td>\n",
       "    </tr>\n",
       "    <tr>\n",
       "      <th>2</th>\n",
       "      <td>3</td>\n",
       "      <td>pequeño</td>\n",
       "      <td>11.99</td>\n",
       "      <td>14.11</td>\n",
       "      <td>15.45</td>\n",
       "      <td>4.946614</td>\n",
       "      <td>normal</td>\n",
       "      <td>A</td>\n",
       "      <td>refrigerado</td>\n",
       "    </tr>\n",
       "    <tr>\n",
       "      <th>3</th>\n",
       "      <td>4</td>\n",
       "      <td>pequeño</td>\n",
       "      <td>11.79</td>\n",
       "      <td>16.20</td>\n",
       "      <td>18.42</td>\n",
       "      <td>9.365610</td>\n",
       "      <td>normal</td>\n",
       "      <td>C</td>\n",
       "      <td>ambiente</td>\n",
       "    </tr>\n",
       "    <tr>\n",
       "      <th>4</th>\n",
       "      <td>5</td>\n",
       "      <td>pequeño</td>\n",
       "      <td>12.47</td>\n",
       "      <td>13.49</td>\n",
       "      <td>17.03</td>\n",
       "      <td>7.179166</td>\n",
       "      <td>normal</td>\n",
       "      <td>B</td>\n",
       "      <td>refrigerado</td>\n",
       "    </tr>\n",
       "  </tbody>\n",
       "</table>\n",
       "</div>"
      ],
      "text/plain": [
       "   ID_PAQUETE CATEGORIA_ASIGNADA   ALTO  ANCHO  LARGO  PESO_ASIGNADO  \\\n",
       "0           1            pequeño  11.25  16.58  17.13       8.096204   \n",
       "1           2            mediano  36.87  33.50  41.15      24.975459   \n",
       "2           3            pequeño  11.99  14.11  15.45       4.946614   \n",
       "3           4            pequeño  11.79  16.20  18.42       9.365610   \n",
       "4           5            pequeño  12.47  13.49  17.03       7.179166   \n",
       "\n",
       "  TIPO_MANIPULACION LUGAR_PROCEDENCIA TEMPERATURA_ALMACENAMIENTO  \n",
       "0            normal                 B                   ambiente  \n",
       "1            fragil                 D                   ambiente  \n",
       "2            normal                 A                refrigerado  \n",
       "3            normal                 C                   ambiente  \n",
       "4            normal                 B                refrigerado  "
      ]
     },
     "execution_count": 294,
     "metadata": {},
     "output_type": "execute_result"
    }
   ],
   "source": [
    "datos_2.head(5)"
   ]
  },
  {
   "cell_type": "markdown",
   "id": "62cfa263-412f-4a05-90ab-7ab0d1c51a77",
   "metadata": {},
   "source": [
    "## Ejercicio 3"
   ]
  },
  {
   "cell_type": "markdown",
   "id": "1c5ceffe-a19f-4dbf-b4df-14aca8bc3340",
   "metadata": {},
   "source": [
    "Si el vehículo autónomo tiene integrados dos protocolos de manipulación de carga (Protocolo_1 y Protocolo_2), realiza las siguientes operaciones:\n",
    "\n",
    "    a. Genera un conjunto de datos prueba (mínimo 10,000 muestras), considerando los criterios antes indicados y teniendo en cuenta tu experiencia personal, donde, a partir del análisis de la información del producto, estos puedan ser catalogados dentro de los protocolos disponibles\n",
    "\n",
    "    Ejemplo 1:\n",
    "    - Embalaje: 1\n",
    "    - Ancho(cm): 15,0 cm\n",
    "    - Largo(cm): 40,0 cm\n",
    "    - Procedencia: A\n",
    "    - Manipulación: Normal\n",
    "    - Temperatura: refrigerado\n",
    "    - Protocolo: Protocolo_1\n",
    "\n",
    "    Ejemplo 2:\n",
    "    - Embalaje: 2\n",
    "    - Ancho(cm): 60,0 cm\n",
    "    - Largo(cm): 70,0 cm\n",
    "    - Procedencia: A\n",
    "    - Manipulación: Normal\n",
    "    - Temperatura: ambiente\n",
    "    - Protocolo: Protocolo_2\n",
    "\n",
    "    b. Construye un modelo de aprendizaje automático supervisado a partir del conjunto de datos elaborado, que sea capaz de determinar el tipo de protocolo que debe seguir el vehículo al manipular un producto cualquiera en el trayecto del almacen a la zona de manufactura."
   ]
  },
  {
   "cell_type": "markdown",
   "id": "f6d286ec-6010-4711-b5cc-fd4b052a469c",
   "metadata": {},
   "source": [
    "Solo falta generar los tipos de protocolos que se realizaron y realizar un pequeño EDA sobre toda la información obtenida."
   ]
  },
  {
   "cell_type": "code",
   "execution_count": 298,
   "id": "df6ff09b-4dd5-4ac3-a5f6-9e65c0645f49",
   "metadata": {},
   "outputs": [],
   "source": [
    "df = asignacion_protocolo(n,datos_2)"
   ]
  },
  {
   "cell_type": "code",
   "execution_count": 300,
   "id": "4478caf1-bcba-4382-8460-4cd60f2e433e",
   "metadata": {},
   "outputs": [
    {
     "data": {
      "text/html": [
       "<div>\n",
       "<style scoped>\n",
       "    .dataframe tbody tr th:only-of-type {\n",
       "        vertical-align: middle;\n",
       "    }\n",
       "\n",
       "    .dataframe tbody tr th {\n",
       "        vertical-align: top;\n",
       "    }\n",
       "\n",
       "    .dataframe thead th {\n",
       "        text-align: right;\n",
       "    }\n",
       "</style>\n",
       "<table border=\"1\" class=\"dataframe\">\n",
       "  <thead>\n",
       "    <tr style=\"text-align: right;\">\n",
       "      <th></th>\n",
       "      <th>ID_PAQUETE</th>\n",
       "      <th>CATEGORIA_ASIGNADA</th>\n",
       "      <th>ALTO</th>\n",
       "      <th>ANCHO</th>\n",
       "      <th>LARGO</th>\n",
       "      <th>PESO_ASIGNADO</th>\n",
       "      <th>TIPO_MANIPULACION</th>\n",
       "      <th>LUGAR_PROCEDENCIA</th>\n",
       "      <th>TEMPERATURA_ALMACENAMIENTO</th>\n",
       "      <th>PROTOCOLO</th>\n",
       "    </tr>\n",
       "  </thead>\n",
       "  <tbody>\n",
       "    <tr>\n",
       "      <th>0</th>\n",
       "      <td>1</td>\n",
       "      <td>pequeño</td>\n",
       "      <td>11.25</td>\n",
       "      <td>16.58</td>\n",
       "      <td>17.13</td>\n",
       "      <td>8.096204</td>\n",
       "      <td>normal</td>\n",
       "      <td>B</td>\n",
       "      <td>ambiente</td>\n",
       "      <td>Protocolo_2</td>\n",
       "    </tr>\n",
       "    <tr>\n",
       "      <th>1</th>\n",
       "      <td>2</td>\n",
       "      <td>mediano</td>\n",
       "      <td>36.87</td>\n",
       "      <td>33.50</td>\n",
       "      <td>41.15</td>\n",
       "      <td>24.975459</td>\n",
       "      <td>fragil</td>\n",
       "      <td>D</td>\n",
       "      <td>ambiente</td>\n",
       "      <td>Protocolo_2</td>\n",
       "    </tr>\n",
       "    <tr>\n",
       "      <th>2</th>\n",
       "      <td>3</td>\n",
       "      <td>pequeño</td>\n",
       "      <td>11.99</td>\n",
       "      <td>14.11</td>\n",
       "      <td>15.45</td>\n",
       "      <td>4.946614</td>\n",
       "      <td>normal</td>\n",
       "      <td>A</td>\n",
       "      <td>refrigerado</td>\n",
       "      <td>Protocolo_1</td>\n",
       "    </tr>\n",
       "    <tr>\n",
       "      <th>3</th>\n",
       "      <td>4</td>\n",
       "      <td>pequeño</td>\n",
       "      <td>11.79</td>\n",
       "      <td>16.20</td>\n",
       "      <td>18.42</td>\n",
       "      <td>9.365610</td>\n",
       "      <td>normal</td>\n",
       "      <td>C</td>\n",
       "      <td>ambiente</td>\n",
       "      <td>Protocolo_2</td>\n",
       "    </tr>\n",
       "    <tr>\n",
       "      <th>4</th>\n",
       "      <td>5</td>\n",
       "      <td>pequeño</td>\n",
       "      <td>12.47</td>\n",
       "      <td>13.49</td>\n",
       "      <td>17.03</td>\n",
       "      <td>7.179166</td>\n",
       "      <td>normal</td>\n",
       "      <td>B</td>\n",
       "      <td>refrigerado</td>\n",
       "      <td>Protocolo_1</td>\n",
       "    </tr>\n",
       "  </tbody>\n",
       "</table>\n",
       "</div>"
      ],
      "text/plain": [
       "   ID_PAQUETE CATEGORIA_ASIGNADA   ALTO  ANCHO  LARGO  PESO_ASIGNADO  \\\n",
       "0           1            pequeño  11.25  16.58  17.13       8.096204   \n",
       "1           2            mediano  36.87  33.50  41.15      24.975459   \n",
       "2           3            pequeño  11.99  14.11  15.45       4.946614   \n",
       "3           4            pequeño  11.79  16.20  18.42       9.365610   \n",
       "4           5            pequeño  12.47  13.49  17.03       7.179166   \n",
       "\n",
       "  TIPO_MANIPULACION LUGAR_PROCEDENCIA TEMPERATURA_ALMACENAMIENTO    PROTOCOLO  \n",
       "0            normal                 B                   ambiente  Protocolo_2  \n",
       "1            fragil                 D                   ambiente  Protocolo_2  \n",
       "2            normal                 A                refrigerado  Protocolo_1  \n",
       "3            normal                 C                   ambiente  Protocolo_2  \n",
       "4            normal                 B                refrigerado  Protocolo_1  "
      ]
     },
     "execution_count": 300,
     "metadata": {},
     "output_type": "execute_result"
    }
   ],
   "source": [
    "df.head(5)"
   ]
  },
  {
   "cell_type": "code",
   "execution_count": 302,
   "id": "0bbeae6b-6d01-4d42-888b-fe6e5ded6584",
   "metadata": {},
   "outputs": [
    {
     "data": {
      "text/plain": [
       "<Axes: xlabel='PROTOCOLO', ylabel='count'>"
      ]
     },
     "execution_count": 302,
     "metadata": {},
     "output_type": "execute_result"
    },
    {
     "data": {
      "image/png": "[encoded data removed]",
      "text/plain": [
       "<Figure size 640x480 with 1 Axes>"
      ]
     },
     "metadata": {},
     "output_type": "display_data"
    }
   ],
   "source": [
    "temp = df['PROTOCOLO'].value_counts()\n",
    "sns.barplot(temp)"
   ]
  },
  {
   "cell_type": "markdown",
   "id": "7426a5d7-3574-4670-b2b9-15b637e55d85",
   "metadata": {},
   "source": [
    "El problema no presenta un desbalanceo de clases. Por ende, se puede realizar un algoritmo de arboles de decisión binaria (XGBoost)"
   ]
  },
  {
   "cell_type": "code",
   "execution_count": 304,
   "id": "e20f2730-438b-441a-87d6-64b58bcfcddc",
   "metadata": {},
   "outputs": [
    {
     "data": {
      "text/html": [
       "<div>\n",
       "<style scoped>\n",
       "    .dataframe tbody tr th:only-of-type {\n",
       "        vertical-align: middle;\n",
       "    }\n",
       "\n",
       "    .dataframe tbody tr th {\n",
       "        vertical-align: top;\n",
       "    }\n",
       "\n",
       "    .dataframe thead th {\n",
       "        text-align: right;\n",
       "    }\n",
       "</style>\n",
       "<table border=\"1\" class=\"dataframe\">\n",
       "  <thead>\n",
       "    <tr style=\"text-align: right;\">\n",
       "      <th></th>\n",
       "      <th>ID_PAQUETE</th>\n",
       "      <th>ALTO</th>\n",
       "      <th>ANCHO</th>\n",
       "      <th>LARGO</th>\n",
       "      <th>PESO_ASIGNADO</th>\n",
       "    </tr>\n",
       "  </thead>\n",
       "  <tbody>\n",
       "    <tr>\n",
       "      <th>count</th>\n",
       "      <td>10000.00000</td>\n",
       "      <td>10000.000000</td>\n",
       "      <td>10000.000000</td>\n",
       "      <td>10000.000000</td>\n",
       "      <td>10000.000000</td>\n",
       "    </tr>\n",
       "    <tr>\n",
       "      <th>mean</th>\n",
       "      <td>5000.50000</td>\n",
       "      <td>27.643963</td>\n",
       "      <td>26.565353</td>\n",
       "      <td>30.660802</td>\n",
       "      <td>16.150526</td>\n",
       "    </tr>\n",
       "    <tr>\n",
       "      <th>std</th>\n",
       "      <td>2886.89568</td>\n",
       "      <td>20.452474</td>\n",
       "      <td>14.963486</td>\n",
       "      <td>17.270266</td>\n",
       "      <td>18.991541</td>\n",
       "    </tr>\n",
       "    <tr>\n",
       "      <th>min</th>\n",
       "      <td>1.00000</td>\n",
       "      <td>6.940000</td>\n",
       "      <td>5.380000</td>\n",
       "      <td>12.270000</td>\n",
       "      <td>0.100000</td>\n",
       "    </tr>\n",
       "    <tr>\n",
       "      <th>25%</th>\n",
       "      <td>2500.75000</td>\n",
       "      <td>12.340000</td>\n",
       "      <td>14.670000</td>\n",
       "      <td>17.340000</td>\n",
       "      <td>4.483091</td>\n",
       "    </tr>\n",
       "    <tr>\n",
       "      <th>50%</th>\n",
       "      <td>5000.50000</td>\n",
       "      <td>14.465000</td>\n",
       "      <td>18.900000</td>\n",
       "      <td>19.420000</td>\n",
       "      <td>8.677757</td>\n",
       "    </tr>\n",
       "    <tr>\n",
       "      <th>75%</th>\n",
       "      <td>7500.25000</td>\n",
       "      <td>37.720000</td>\n",
       "      <td>35.460000</td>\n",
       "      <td>40.980000</td>\n",
       "      <td>20.873973</td>\n",
       "    </tr>\n",
       "    <tr>\n",
       "      <th>max</th>\n",
       "      <td>10000.00000</td>\n",
       "      <td>117.550000</td>\n",
       "      <td>76.330000</td>\n",
       "      <td>87.190000</td>\n",
       "      <td>100.000000</td>\n",
       "    </tr>\n",
       "  </tbody>\n",
       "</table>\n",
       "</div>"
      ],
      "text/plain": [
       "        ID_PAQUETE          ALTO         ANCHO         LARGO  PESO_ASIGNADO\n",
       "count  10000.00000  10000.000000  10000.000000  10000.000000   10000.000000\n",
       "mean    5000.50000     27.643963     26.565353     30.660802      16.150526\n",
       "std     2886.89568     20.452474     14.963486     17.270266      18.991541\n",
       "min        1.00000      6.940000      5.380000     12.270000       0.100000\n",
       "25%     2500.75000     12.340000     14.670000     17.340000       4.483091\n",
       "50%     5000.50000     14.465000     18.900000     19.420000       8.677757\n",
       "75%     7500.25000     37.720000     35.460000     40.980000      20.873973\n",
       "max    10000.00000    117.550000     76.330000     87.190000     100.000000"
      ]
     },
     "execution_count": 304,
     "metadata": {},
     "output_type": "execute_result"
    }
   ],
   "source": [
    "df.describe()"
   ]
  },
  {
   "cell_type": "code",
   "execution_count": 306,
   "id": "69c88eb5-15ce-4c17-8930-d34d351ed9e4",
   "metadata": {},
   "outputs": [
    {
     "data": {
      "image/png": "[encoded data removed]",
      "text/plain": [
       "<Figure size 800x600 with 2 Axes>"
      ]
     },
     "metadata": {},
     "output_type": "display_data"
    }
   ],
   "source": [
    "corr_mat = df[['ALTO', 'ANCHO','LARGO','PESO_ASIGNADO']].corr()\n",
    "plt.figure(figsize=(8,6))\n",
    "sns.heatmap(corr_mat, annot=True, cmap='coolwarm', fmt='.2f', linewidth=.5)\n",
    "plt.title('Matriz de correlacion')\n",
    "plt.show()"
   ]
  },
  {
   "cell_type": "code",
   "execution_count": 308,
   "id": "5caaabfd-8543-4be5-bd01-258820286c70",
   "metadata": {},
   "outputs": [
    {
     "data": {
      "text/plain": [
       "<Axes: xlabel='CATEGORIA_ASIGNADA', ylabel='count'>"
      ]
     },
     "execution_count": 308,
     "metadata": {},
     "output_type": "execute_result"
    },
    {
     "data": {
      "image/png": "[encoded data removed]",
      "text/plain": [
       "<Figure size 640x480 with 1 Axes>"
      ]
     },
     "metadata": {},
     "output_type": "display_data"
    }
   ],
   "source": [
    "df_temp = df[df['PROTOCOLO'] == 'Protocolo_1']\n",
    "temp = df_temp['CATEGORIA_ASIGNADA'].value_counts()\n",
    "sns.barplot(temp)"
   ]
  },
  {
   "cell_type": "code",
   "execution_count": 310,
   "id": "b326696a-bb80-467d-8656-bc36710a3e62",
   "metadata": {},
   "outputs": [
    {
     "data": {
      "text/plain": [
       "<Axes: xlabel='CATEGORIA_ASIGNADA', ylabel='count'>"
      ]
     },
     "execution_count": 310,
     "metadata": {},
     "output_type": "execute_result"
    },
    {
     "data": {
      "image/png": "[encoded data removed]",
      "text/plain": [
       "<Figure size 640x480 with 1 Axes>"
      ]
     },
     "metadata": {},
     "output_type": "display_data"
    }
   ],
   "source": [
    "df_temp = df[df['PROTOCOLO'] == 'Protocolo_2']\n",
    "temp = df_temp['CATEGORIA_ASIGNADA'].value_counts()\n",
    "sns.barplot(temp)"
   ]
  },
  {
   "cell_type": "markdown",
   "id": "221776c8-dfbf-46d1-9299-c397a8e87402",
   "metadata": {},
   "source": [
    "XGBoost es un modelo que no acepta valores tipo string, por ende, convertiré algunas variables categóricas a (1,0), tales como el tipo de manipulación, temperatura de almacenamiento y para el lugar de procedencia utilizaré WoE (Weight of Evidence), que es una técnica utilizada que convierte las variables categóricas en números basados en las probabilidades por evento."
   ]
  },
  {
   "cell_type": "code",
   "execution_count": 339,
   "id": "4beaf530-7a14-42cd-a4e5-1ea87c2b89c0",
   "metadata": {},
   "outputs": [],
   "source": [
    "df = woe_procedencia(df)\n",
    "#Tipo de manipulacion\n",
    "df['TIPO_MANIPULACION_NUM'] = df['TIPO_MANIPULACION'].map({'normal': 1, 'fragil': 0})\n",
    "#Temperatura\n",
    "df['TEMPERATURA_ALMACENAMIENTO_NUM'] = df['TEMPERATURA_ALMACENAMIENTO'].map({'ambiente': 1, 'refrigerado': 0})\n",
    "#Tipo de manipulacion\n",
    "df['TIPO_MANIPULACION_NUM'] = df['TIPO_MANIPULACION'].map({'normal': 1, 'fragil': 0})\n",
    "#Protocolo\n",
    "df['PROTOCOLO_TARGET'] = df['PROTOCOLO'].map({'Protocolo_1': 1, 'Protocolo_2': 0})"
   ]
  },
  {
   "cell_type": "code",
   "execution_count": 341,
   "id": "f5291b20-c8d4-4f6d-b77a-f181bc11d0be",
   "metadata": {},
   "outputs": [
    {
     "data": {
      "text/html": [
       "<div>\n",
       "<style scoped>\n",
       "    .dataframe tbody tr th:only-of-type {\n",
       "        vertical-align: middle;\n",
       "    }\n",
       "\n",
       "    .dataframe tbody tr th {\n",
       "        vertical-align: top;\n",
       "    }\n",
       "\n",
       "    .dataframe thead th {\n",
       "        text-align: right;\n",
       "    }\n",
       "</style>\n",
       "<table border=\"1\" class=\"dataframe\">\n",
       "  <thead>\n",
       "    <tr style=\"text-align: right;\">\n",
       "      <th></th>\n",
       "      <th>ID_PAQUETE</th>\n",
       "      <th>CATEGORIA_ASIGNADA</th>\n",
       "      <th>ALTO</th>\n",
       "      <th>ANCHO</th>\n",
       "      <th>LARGO</th>\n",
       "      <th>PESO_ASIGNADO</th>\n",
       "      <th>TIPO_MANIPULACION</th>\n",
       "      <th>LUGAR_PROCEDENCIA</th>\n",
       "      <th>TEMPERATURA_ALMACENAMIENTO</th>\n",
       "      <th>PROTOCOLO</th>\n",
       "      <th>LUGAR_PROCEDENCIA_WOE</th>\n",
       "      <th>TIPO_MANIPULACION_NUM</th>\n",
       "      <th>TEMPERATURA_ALMACENAMIENTO_NUM</th>\n",
       "      <th>PROTOCOLO_TARGET</th>\n",
       "    </tr>\n",
       "  </thead>\n",
       "  <tbody>\n",
       "    <tr>\n",
       "      <th>0</th>\n",
       "      <td>1</td>\n",
       "      <td>pequeño</td>\n",
       "      <td>11.25</td>\n",
       "      <td>16.58</td>\n",
       "      <td>17.13</td>\n",
       "      <td>8.096204</td>\n",
       "      <td>normal</td>\n",
       "      <td>B</td>\n",
       "      <td>ambiente</td>\n",
       "      <td>Protocolo_2</td>\n",
       "      <td>0.049232</td>\n",
       "      <td>1</td>\n",
       "      <td>1</td>\n",
       "      <td>0</td>\n",
       "    </tr>\n",
       "    <tr>\n",
       "      <th>1</th>\n",
       "      <td>2</td>\n",
       "      <td>mediano</td>\n",
       "      <td>36.87</td>\n",
       "      <td>33.50</td>\n",
       "      <td>41.15</td>\n",
       "      <td>24.975459</td>\n",
       "      <td>fragil</td>\n",
       "      <td>D</td>\n",
       "      <td>ambiente</td>\n",
       "      <td>Protocolo_2</td>\n",
       "      <td>-0.009582</td>\n",
       "      <td>0</td>\n",
       "      <td>1</td>\n",
       "      <td>0</td>\n",
       "    </tr>\n",
       "    <tr>\n",
       "      <th>2</th>\n",
       "      <td>3</td>\n",
       "      <td>pequeño</td>\n",
       "      <td>11.99</td>\n",
       "      <td>14.11</td>\n",
       "      <td>15.45</td>\n",
       "      <td>4.946614</td>\n",
       "      <td>normal</td>\n",
       "      <td>A</td>\n",
       "      <td>refrigerado</td>\n",
       "      <td>Protocolo_1</td>\n",
       "      <td>-0.075119</td>\n",
       "      <td>1</td>\n",
       "      <td>0</td>\n",
       "      <td>1</td>\n",
       "    </tr>\n",
       "    <tr>\n",
       "      <th>3</th>\n",
       "      <td>4</td>\n",
       "      <td>pequeño</td>\n",
       "      <td>11.79</td>\n",
       "      <td>16.20</td>\n",
       "      <td>18.42</td>\n",
       "      <td>9.365610</td>\n",
       "      <td>normal</td>\n",
       "      <td>C</td>\n",
       "      <td>ambiente</td>\n",
       "      <td>Protocolo_2</td>\n",
       "      <td>0.040459</td>\n",
       "      <td>1</td>\n",
       "      <td>1</td>\n",
       "      <td>0</td>\n",
       "    </tr>\n",
       "    <tr>\n",
       "      <th>4</th>\n",
       "      <td>5</td>\n",
       "      <td>pequeño</td>\n",
       "      <td>12.47</td>\n",
       "      <td>13.49</td>\n",
       "      <td>17.03</td>\n",
       "      <td>7.179166</td>\n",
       "      <td>normal</td>\n",
       "      <td>B</td>\n",
       "      <td>refrigerado</td>\n",
       "      <td>Protocolo_1</td>\n",
       "      <td>0.049232</td>\n",
       "      <td>1</td>\n",
       "      <td>0</td>\n",
       "      <td>1</td>\n",
       "    </tr>\n",
       "  </tbody>\n",
       "</table>\n",
       "</div>"
      ],
      "text/plain": [
       "   ID_PAQUETE CATEGORIA_ASIGNADA   ALTO  ANCHO  LARGO  PESO_ASIGNADO  \\\n",
       "0           1            pequeño  11.25  16.58  17.13       8.096204   \n",
       "1           2            mediano  36.87  33.50  41.15      24.975459   \n",
       "2           3            pequeño  11.99  14.11  15.45       4.946614   \n",
       "3           4            pequeño  11.79  16.20  18.42       9.365610   \n",
       "4           5            pequeño  12.47  13.49  17.03       7.179166   \n",
       "\n",
       "  TIPO_MANIPULACION LUGAR_PROCEDENCIA TEMPERATURA_ALMACENAMIENTO    PROTOCOLO  \\\n",
       "0            normal                 B                   ambiente  Protocolo_2   \n",
       "1            fragil                 D                   ambiente  Protocolo_2   \n",
       "2            normal                 A                refrigerado  Protocolo_1   \n",
       "3            normal                 C                   ambiente  Protocolo_2   \n",
       "4            normal                 B                refrigerado  Protocolo_1   \n",
       "\n",
       "   LUGAR_PROCEDENCIA_WOE  TIPO_MANIPULACION_NUM  \\\n",
       "0               0.049232                      1   \n",
       "1              -0.009582                      0   \n",
       "2              -0.075119                      1   \n",
       "3               0.040459                      1   \n",
       "4               0.049232                      1   \n",
       "\n",
       "   TEMPERATURA_ALMACENAMIENTO_NUM  PROTOCOLO_TARGET  \n",
       "0                               1                 0  \n",
       "1                               1                 0  \n",
       "2                               0                 1  \n",
       "3                               1                 0  \n",
       "4                               0                 1  "
      ]
     },
     "execution_count": 341,
     "metadata": {},
     "output_type": "execute_result"
    }
   ],
   "source": [
    "df_1.head(5)"
   ]
  },
  {
   "cell_type": "markdown",
   "id": "7b2a9495-b694-4027-aecb-10e3bd067749",
   "metadata": {},
   "source": [
    "Ahora, la incorporación del modelo"
   ]
  },
  {
   "cell_type": "code",
   "execution_count": 361,
   "id": "1bc3e2bf-d991-453d-ab05-7e832f829abc",
   "metadata": {},
   "outputs": [],
   "source": [
    "X = df[['ALTO', 'ANCHO', 'LARGO', 'PESO_ASIGNADO', 'TEMPERATURA_ALMACENAMIENTO_NUM', 'LUGAR_PROCEDENCIA_WOE', 'TIPO_MANIPULACION_NUM']]\n",
    "y = df['PROTOCOLO_TARGET']\n",
    "\n",
    "X = X.values\n",
    "y = y.values"
   ]
  },
  {
   "cell_type": "code",
   "execution_count": 389,
   "id": "bc4e5342-e216-4f4e-ae76-17784c2ab898",
   "metadata": {},
   "outputs": [],
   "source": [
    "X_train, X_test, y_train, y_test = train_test_split(X,y,test_size=.2)"
   ]
  },
  {
   "cell_type": "code",
   "execution_count": 391,
   "id": "803846bd-1ac9-460e-9b8a-7118488a98f5",
   "metadata": {},
   "outputs": [],
   "source": [
    "model = xgb.XGBClassifier(eval_metric='mlogloss')\n",
    "model.fit(X_train, y_train)"
   ]
  },
  {
   "cell_type": "code",
   "execution_count": 395,
   "id": "5264b989-ecc3-4589-b850-9e2c7c590262",
   "metadata": {},
   "outputs": [],
   "source": [
    "y_pred = model.predict(X_test)"
   ]
  },
  {
   "cell_type": "code",
   "execution_count": 397,
   "id": "f9d5069d-056b-4ef8-9993-c1efceb4804e",
   "metadata": {},
   "outputs": [],
   "source": [
    "accuracy = accuracy_score(y_test, y_pred)"
   ]
  },
  {
   "cell_type": "code",
   "execution_count": 405,
   "id": "791cd0d4-1980-4f9f-a82f-e60aceef4867",
   "metadata": {},
   "outputs": [
    {
     "name": "stdout",
     "output_type": "stream",
     "text": [
      "Accuracy: 0.5585\n",
      "\n",
      "Classification report \n",
      "              precision    recall  f1-score   support\n",
      "\n",
      "           0       0.38      0.20      0.26       787\n",
      "           1       0.60      0.79      0.68      1213\n",
      "\n",
      "    accuracy                           0.56      2000\n",
      "   macro avg       0.49      0.50      0.47      2000\n",
      "weighted avg       0.52      0.56      0.52      2000\n",
      "\n"
     ]
    }
   ],
   "source": [
    "accuracy = accuracy_score(y_test, y_pred)\n",
    "print(f'Accuracy: {accuracy}\\n')\n",
    "class_report = classification_report(y_test, y_pred)\n",
    "print(f'Classification report \\n{class_report}')"
   ]
  },
  {
   "cell_type": "code",
   "execution_count": 421,
   "id": "afdbd7ba-8dec-4e46-b580-3d44af49c5cc",
   "metadata": {},
   "outputs": [
    {
     "data": {
      "image/png": "[encoded data removed]",
      "text/plain": [
       "<Figure size 640x480 with 2 Axes>"
      ]
     },
     "metadata": {},
     "output_type": "display_data"
    }
   ],
   "source": [
    "#Matriz de confusion\n",
    "conf_matrix = confusion_matrix(y_test, y_pred)\n",
    "sns.heatmap(conf_matrix, annot=True, fmt=\"d\", cmap=\"Blues\", xticklabels=[\"Protocolo 1\", \"Protocolo 2\"], yticklabels=[\"Protocolo 1\", \"Protocolo 2\"])\n",
    "plt.xlabel(\"Predicted\")\n",
    "plt.ylabel(\"Actual\")\n",
    "plt.title(\"Confusion Matrix\")\n",
    "plt.show()"
   ]
  },
  {
   "cell_type": "code",
   "execution_count": 411,
   "id": "89c1102b-4e89-435a-8cbb-db7af5a9a1fe",
   "metadata": {},
   "outputs": [],
   "source": [
    "import shap"
   ]
  },
  {
   "cell_type": "code",
   "execution_count": 417,
   "id": "6b3e11e2-ffad-4c99-9d94-14a3feb17cee",
   "metadata": {},
   "outputs": [
    {
     "data": {
      "image/png": "[encoded data removed]",
      "text/plain": [
       "<Figure size 800x470 with 2 Axes>"
      ]
     },
     "metadata": {},
     "output_type": "display_data"
    }
   ],
   "source": [
    "#Primero se generea el arbol explicativo\n",
    "explainer = shap.TreeExplainer(model)\n",
    "\n",
    "#Se toma el set de prueba\n",
    "shap_values = explainer.shap_values(X_test)\n",
    "\n",
    "#Se genera la prueba\n",
    "shap.summary_plot(shap_values, X_test)"
   ]
  },
  {
   "cell_type": "code",
   "execution_count": 415,
   "id": "11e44d88-ec86-4f73-9ce2-2e29c41c903a",
   "metadata": {},
   "outputs": [
    {
     "data": {
      "image/png": "[encoded data removed]",
      "text/plain": [
       "<Figure size 1000x600 with 1 Axes>"
      ]
     },
     "metadata": {},
     "output_type": "display_data"
    }
   ],
   "source": [
    "feature_importance = model.get_booster().get_score(importance_type='weight')\n",
    "\n",
    "# Convertir a DataFrame para facilitar la visualización\n",
    "feature_importance_df = pd.DataFrame({\n",
    "    'Feature': list(feature_importance.keys()),\n",
    "    'Importance': list(feature_importance.values())\n",
    "})\n",
    "\n",
    "# Ordenar por la importancia\n",
    "feature_importance_df = feature_importance_df.sort_values(by='Importance', ascending=True)\n",
    "\n",
    "top_ten = feature_importance_df.head(10)\n",
    "\n",
    "# Visualización de la importancia de las características\n",
    "plt.figure(figsize=(10, 6))\n",
    "plt.barh(top_ten['Feature'], top_ten['Importance'])\n",
    "plt.xlabel('Importancia')\n",
    "plt.ylabel('Características')\n",
    "plt.title('Importancia de las Características en el Modelo XGBoost')\n",
    "plt.show()"
   ]
  },
  {
   "cell_type": "markdown",
   "id": "bee10eb4-a095-4fac-98cc-0836ad77931e",
   "metadata": {},
   "source": [
    "## Ejercicio 4"
   ]
  },
  {
   "cell_type": "markdown",
   "id": "8c3d40c3-bd2d-49a5-b60c-28d8ff214c55",
   "metadata": {},
   "source": [
    "Utilizando IBM Cloud, implementa, en la nube, el modelo elaborado en el inciso anterior y realiza las configuraciones adecuadas para que este pueda consultarse desde cualquier dispositivo remoto que cumpla con los requisitos de seguridad de la plataforma."
   ]
  },
  {
   "cell_type": "markdown",
   "id": "b2d7b5c9-5d3a-4a37-a618-4607a7a845c8",
   "metadata": {},
   "source": [
    "Primero guardaré el modelo y los datos utilizados en esta fase, con el fin de exportarlo de manera correcta."
   ]
  },
  {
   "cell_type": "code",
   "execution_count": 434,
   "id": "6e2ac14f-0df8-4dff-8080-74673b88dfba",
   "metadata": {},
   "outputs": [],
   "source": [
    "model.save_model('Fase2_ML - Model.json')"
   ]
  },
  {
   "cell_type": "code",
   "execution_count": 5,
   "id": "6241c32e-5eb7-40d7-8333-aaf41837c4e4",
   "metadata": {},
   "outputs": [
    {
     "ename": "NameError",
     "evalue": "name 'df' is not defined",
     "output_type": "error",
     "traceback": [
      "\u001b[1;31m---------------------------------------------------------------------------\u001b[0m",
      "\u001b[1;31mNameError\u001b[0m                                 Traceback (most recent call last)",
      "Cell \u001b[1;32mIn[5], line 1\u001b[0m\n\u001b[1;32m----> 1\u001b[0m df\u001b[38;5;241m.\u001b[39mto_csv(\u001b[38;5;124m'\u001b[39m\u001b[38;5;124mFase2_ML - Data.csv\u001b[39m\u001b[38;5;124m'\u001b[39m)\n",
      "\u001b[1;31mNameError\u001b[0m: name 'df' is not defined"
     ]
    }
   ],
   "source": [
    "df.to_csv('Fase2_ML - Data.csv')"
   ]
  },
  {
   "cell_type": "markdown",
   "id": "e9aac2a8-7403-431f-803c-229ee4d4ab54",
   "metadata": {},
   "source": [
    "Para mayor informacion sobre la incorporación de este punto, acudir a *../notebooks/Fase2_ML - IBM_Model_Inc.ipynb*"
   ]
  },
  {
   "cell_type": "markdown",
   "id": "c1ea90cd-ef5e-4230-a0b4-43d27bb7c848",
   "metadata": {},
   "source": [
    "## Ejercicio 5"
   ]
  },
  {
   "attachments": {
    "e47312e3-4924-411b-91ea-277a1c469a2d.png": {
     "image/png": "[encoded data removed]"
    }
   },
   "cell_type": "markdown",
   "id": "c1a46eb8-a77d-4d80-b98c-c0f9a30e14d1",
   "metadata": {},
   "source": [
    "Considerando: \n",
    "    \n",
    "    a. La planta industrial tiene una distribucion como la que se muestra a continuación:\n",
    "\n",
    "![distribucion.png](attachment:e47312e3-4924-411b-91ea-277a1c469a2d.png)\n",
    "\n",
    "    b. Cada vehículo puede transportar un máximo de tres productos al mismo tiempo\n",
    "    c. Los productos en el almacen no poseen un orden determinado\n",
    "    d. Un vehículo puede seleccionar cualquier producto con la misma probabilidad\n",
    "\n",
    "Elabora un programa que sea capaz de determinar la ruta óptima que debe tomar el vehículo para distribuir los productos por la planta industrial, garantizando que:\n",
    "\n",
    "    a. Nunca se repita 2 veces el mismo destino en cada viaje\n",
    "    b. Los productos del protocolo_1 tengan prioridad\n",
    "    c. La ruta trazada sea siempre la menor\n",
    "    "
   ]
  },
  {
   "cell_type": "markdown",
   "id": "7a7a1cb6-92af-4ab3-919c-41e4825a6541",
   "metadata": {},
   "source": [
    "Podemos representar el mapa presentado anteriormente como una matriz de la siguiente manera:\n",
    "\n",
    "$$\n",
    "\\text{Planta} =\n",
    "\\begin{bmatrix}\n",
    "0 & \\text{Embalaje\\_A\\_Protocolo\\_1} & 0 & 0 & \\text{Embalaje\\_A\\_Protocolo\\_2} & 0 & 0 & 0 & 0 & 0 & 0 \\\\\n",
    "0 & 0 & 0 & 0 & 0 & 0 & 0 & 0 & 0 & 0 & \\text{Embalaje\\_C\\_Protocolo\\_2} \\\\\n",
    "0 & 0 & 0 & 0 & 0 & 0 & 0 & 0 & 0 & 0 & 0 \\\\\n",
    "\\text{Almacen} & 0 & 0 & 0 & 0 & 0 & 0 & 0 & 0 & 0 & \\text{Embalaje\\_C\\_Protocolo\\_2} \\\\\n",
    "0 & 0 & 0 & 0 & 0 & 0 & 0 & 0 & 0 & 0 & 0 \\\\\n",
    "0 & 0 & 0 & 0 & 0 & 0 & 0 & 0 & 0 & 0 & 0 \\\\\n",
    "0 & 0 & 0 & 0 & \\text{Embalaje\\_B\\_Protocolo\\_2} & 0 & 0 & \\text{Embalaje\\_B\\_Protocolo\\_1} & 0 & 0 & 0\n",
    "\\end{bmatrix}$$\n",
    "\n",
    "Una vez representada la matriz, se presenta un modelo de optimización de grafos, es decir, el *Algoritmo de Dijkstra*, con el fin de encontrar el camino más corto entre 2 puntos."
   ]
  },
  {
   "cell_type": "markdown",
   "id": "f988e04d-47fa-4372-beb5-e1dbe441f1db",
   "metadata": {},
   "source": [
    "**Algoritmo de Dijkstra**\n",
    "\n",
    "Cuando se trabaja con grafos dirigidos etiquetados o ponderados con factores de peso no negativos, es frecuente buscar el camino más corto entre dos vértices dados; es decir, el camino que nos permita llegar desde un vértice origen a un vértice destino recorriendo la menor distancia o con el menor costo.\n",
    "\n",
    "Los algoritmos más usados para este fin son: Dijkstra, Floyd y Warshall.  \n",
    "\n",
    "Los tres algoritmos utilizan una matriz de adyacencia ponderada o etiquetada: que es la misma matriz de adyacencia utilizada para representar grafos, pero con la diferencia que en lugar de colocar un número “1” cuando dos vértices son adyacentes, se coloca el peso o ponderación asignado a la arista que los une.  \n",
    "\n",
    "Con frecuencia en la matriz etiquetada suele utilizarse la siguiente notación: \n",
    "\n",
    "Suponiendo que $M [i, j]$ representa la matriz de adyacencia, tenemos: \n",
    "\n",
    "$$M [i, j] = 0 \\text{, si } i = j$$ \n",
    "$$M [i, j] = 1000 \\text{ ó } \\infty \\text{, si no existe un camino de } i \\text{ a } j \\text{, donde } i \\neq j$$ \n",
    "$$M [i, j] = \\text{ costo de ir del vértice } i \\text{ al vértice } j$$\n",
    "\n",
    "Otro nombre con el cual suele llamarse a una matriz de adyacencia etiquetada es matriz de distancias o matriz de costos. \n",
    "\n",
    "El problema de buscar un camino más corto entre dos nodos dados se puede resolver mediante un algoritmo voraz conocido como *Algoritmo de Dijkstra.*"
   ]
  },
  {
   "cell_type": "markdown",
   "id": "9e4a0a3b-c609-4b7e-9770-be32a9aea971",
   "metadata": {},
   "source": [
    "El algoritmo cuenta con los siguientes pasos:\n",
    "\n",
    "1. Seleccionar vértice de partida, es decir un origen.\n",
    "2. Marcar el punto de partida como el punto de inicio.\n",
    "3. Determinar los caminos especiales desde el nodo de partida, es decir, el de inicio.\n",
    "4. Camino especial es aquel que solo puede trazarse a través de los nodos o vértices ya marcados.\n",
    "5. Para cada nodo no marcado, se debe determinar si es mejor usar el camino especial antes calculado o si es mejor usar el nuevo camino especial que resulte al marcar este nuevo nodo.\n",
    "6. Para seleccionar un nuevo nodo no marcado como referencia, deberá tomarse aquel cuyo camino especial para llegar a él es el mínimo, por ejemplo si anteriormente marqué el nodo o vértice 2, el cual tiene dos nodos adyacentes 3 y 4 cuyo peso en la arista corresponde a 10 y 5 respectivamente, se tomará como nuevo nodo de partida el 4, ya que el peso de la arista o camino es menor.\n",
    "7. Cada camino mínimo corresponde a la suma de los pesos de las aristas que forman el camino para ir del nodo principal al resto de nodos, pasando únicamente por caminos especiales, es decir nodos marcados. "
   ]
  },
  {
   "cell_type": "code",
   "execution_count": 489,
   "id": "e13bf4b2-2dee-4b18-b173-7f0c6fa0dbf2",
   "metadata": {},
   "outputs": [
    {
     "name": "stdout",
     "output_type": "stream",
     "text": [
      "Ruta para entregar Embalaje_A_Protocolo_1: [(3, 0), (2, 0), (1, 0), (0, 0), (0, 1)]\n",
      "Ruta para entregar Embalaje_B_Protocolo_1: [(3, 0), (3, 1), (3, 2), (3, 3), (3, 4), (3, 5), (3, 6), (3, 7), (4, 7), (5, 7), (6, 7)]\n",
      "Ruta para entregar Embalaje_C_Protocolo_1: [(3, 0), (2, 0), (1, 0), (1, 1), (1, 2), (1, 3), (1, 4), (1, 5), (1, 6), (1, 7), (1, 8), (1, 9), (1, 10)]\n",
      "Ruta para entregar Embalaje_A_Protocolo_2: [(3, 0), (2, 0), (1, 0), (0, 0), (0, 1), (0, 2), (0, 3), (0, 4)]\n",
      "Ruta para entregar Embalaje_B_Protocolo_2: [(3, 0), (3, 1), (3, 2), (3, 3), (3, 4), (4, 4), (5, 4), (6, 4)]\n",
      "Ruta para entregar Embalaje_C_Protocolo_2: [(3, 0), (3, 1), (3, 2), (3, 3), (3, 4), (3, 5), (3, 6), (3, 7), (3, 8), (3, 9), (3, 10)]\n"
     ]
    }
   ],
   "source": [
    "mapa_planta = [\n",
    "    [0, 'Embalaje_A_Protocolo_1', 0, 0, 'Embalaje_A_Protocolo_2', 0, 0, 0, 0, 0, 0],\n",
    "    [0, 0, 0, 0, 0, 0, 0, 0, 0, 0, 'Embalaje_C_Protocolo_1'],\n",
    "    [0, 0, 0, 0, 0, 0, 0, 0, 0, 0, 0],\n",
    "    ['Almacen', 0, 0, 0, 0, 0, 0, 0, 0, 0, 'Embalaje_C_Protocolo_2'],\n",
    "    [0, 0, 0, 0, 0, 0, 0, 0, 0, 0, 0],\n",
    "    [0, 0, 0, 0, 0, 0, 0, 0, 0, 0, 0],\n",
    "    [0, 0, 0, 0, 'Embalaje_B_Protocolo_2', 0, 0, 'Embalaje_B_Protocolo_1', 0, 0, 0]\n",
    "]\n",
    "\n",
    "# Dimensiones de la planta\n",
    "filas = len(mapa_planta)\n",
    "cols = len(mapa_planta[0])\n",
    "\n",
    "# Movimientos posibles (arriba, abajo, izquierda, derecha)\n",
    "movs = [(-1, 0), (1, 0), (0, -1), (0, 1)]  # Movimientos hacia arriba, abajo, izquierda, derecha\n",
    "\n",
    "# Ejecutar la función de distribución\n",
    "distribuir_productos(mapa_planta)"
   ]
  }
 ],
 "metadata": {
  "kernelspec": {
   "display_name": "Python 3 (ipykernel)",
   "language": "python",
   "name": "python3"
  },
  "language_info": {
   "codemirror_mode": {
    "name": "ipython",
    "version": 3
   },
   "file_extension": ".py",
   "mimetype": "text/x-python",
   "name": "python",
   "nbconvert_exporter": "python",
   "pygments_lexer": "ipython3",
   "version": "3.12.7"
  }
 },
 "nbformat": 4,
 "nbformat_minor": 5
}
