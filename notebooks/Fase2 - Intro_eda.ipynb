{
 "cells": [
  {
   "cell_type": "markdown",
   "id": "50639961-2ba5-4bb9-b15d-282431035b84",
   "metadata": {},
   "source": [
    "# Fase 2"
   ]
  },
  {
   "cell_type": "code",
   "execution_count": 5,
   "id": "afc71e8f-59a9-4384-847d-263615a44657",
   "metadata": {},
   "outputs": [],
   "source": [
    "#Funciones y liberias\n",
    "import numpy as np\n",
    "import pandas as pd\n",
    "import matplotlib.pyplot as plt\n",
    "import os"
   ]
  },
  {
   "cell_type": "markdown",
   "id": "5ed0d43b-8a6b-4548-8631-c147d1e379c1",
   "metadata": {},
   "source": [
    "## Ejercicio 1"
   ]
  },
  {
   "cell_type": "markdown",
   "id": "609fdf48-e436-4a0f-bc6a-4de69728f29f",
   "metadata": {},
   "source": [
    "Revisa los conceptos generales, funcionamiento de diccionarios, instalación de librerías. Recopila la información de un csv y agrupalos. "
   ]
  },
  {
   "cell_type": "code",
   "execution_count": 13,
   "id": "b617f869-e142-4d82-bb68-3af0acbabd53",
   "metadata": {},
   "outputs": [],
   "source": [
    "db = pd.read_csv(r'C:\\MIGUEL\\Máster\\Modulo 1\\data\\raw\\Fase2\\Howell_data_fase2.csv', delimiter=';')"
   ]
  },
  {
   "cell_type": "code",
   "execution_count": 15,
   "id": "5bf52c75-5fed-4f5f-b2c6-02ba9d682b5e",
   "metadata": {},
   "outputs": [
    {
     "data": {
      "text/html": [
       "<div>\n",
       "<style scoped>\n",
       "    .dataframe tbody tr th:only-of-type {\n",
       "        vertical-align: middle;\n",
       "    }\n",
       "\n",
       "    .dataframe tbody tr th {\n",
       "        vertical-align: top;\n",
       "    }\n",
       "\n",
       "    .dataframe thead th {\n",
       "        text-align: right;\n",
       "    }\n",
       "</style>\n",
       "<table border=\"1\" class=\"dataframe\">\n",
       "  <thead>\n",
       "    <tr style=\"text-align: right;\">\n",
       "      <th></th>\n",
       "      <th>height</th>\n",
       "      <th>weight</th>\n",
       "      <th>age</th>\n",
       "      <th>male</th>\n",
       "    </tr>\n",
       "  </thead>\n",
       "  <tbody>\n",
       "    <tr>\n",
       "      <th>0</th>\n",
       "      <td>151.765</td>\n",
       "      <td>47.825606</td>\n",
       "      <td>63.0</td>\n",
       "      <td>1</td>\n",
       "    </tr>\n",
       "    <tr>\n",
       "      <th>1</th>\n",
       "      <td>139.700</td>\n",
       "      <td>36.485807</td>\n",
       "      <td>63.0</td>\n",
       "      <td>0</td>\n",
       "    </tr>\n",
       "    <tr>\n",
       "      <th>2</th>\n",
       "      <td>136.525</td>\n",
       "      <td>31.864838</td>\n",
       "      <td>65.0</td>\n",
       "      <td>0</td>\n",
       "    </tr>\n",
       "    <tr>\n",
       "      <th>3</th>\n",
       "      <td>156.845</td>\n",
       "      <td>53.041914</td>\n",
       "      <td>41.0</td>\n",
       "      <td>1</td>\n",
       "    </tr>\n",
       "    <tr>\n",
       "      <th>4</th>\n",
       "      <td>145.415</td>\n",
       "      <td>41.276872</td>\n",
       "      <td>51.0</td>\n",
       "      <td>0</td>\n",
       "    </tr>\n",
       "    <tr>\n",
       "      <th>5</th>\n",
       "      <td>163.830</td>\n",
       "      <td>62.992589</td>\n",
       "      <td>35.0</td>\n",
       "      <td>1</td>\n",
       "    </tr>\n",
       "    <tr>\n",
       "      <th>6</th>\n",
       "      <td>149.225</td>\n",
       "      <td>38.243476</td>\n",
       "      <td>32.0</td>\n",
       "      <td>0</td>\n",
       "    </tr>\n",
       "    <tr>\n",
       "      <th>7</th>\n",
       "      <td>168.910</td>\n",
       "      <td>55.479971</td>\n",
       "      <td>27.0</td>\n",
       "      <td>1</td>\n",
       "    </tr>\n",
       "    <tr>\n",
       "      <th>8</th>\n",
       "      <td>147.955</td>\n",
       "      <td>34.869885</td>\n",
       "      <td>19.0</td>\n",
       "      <td>0</td>\n",
       "    </tr>\n",
       "    <tr>\n",
       "      <th>9</th>\n",
       "      <td>165.100</td>\n",
       "      <td>54.487739</td>\n",
       "      <td>54.0</td>\n",
       "      <td>1</td>\n",
       "    </tr>\n",
       "  </tbody>\n",
       "</table>\n",
       "</div>"
      ],
      "text/plain": [
       "    height     weight   age  male\n",
       "0  151.765  47.825606  63.0     1\n",
       "1  139.700  36.485807  63.0     0\n",
       "2  136.525  31.864838  65.0     0\n",
       "3  156.845  53.041914  41.0     1\n",
       "4  145.415  41.276872  51.0     0\n",
       "5  163.830  62.992589  35.0     1\n",
       "6  149.225  38.243476  32.0     0\n",
       "7  168.910  55.479971  27.0     1\n",
       "8  147.955  34.869885  19.0     0\n",
       "9  165.100  54.487739  54.0     1"
      ]
     },
     "execution_count": 15,
     "metadata": {},
     "output_type": "execute_result"
    }
   ],
   "source": [
    "db.head(10)"
   ]
  },
  {
   "cell_type": "markdown",
   "id": "2e2c9963-6c84-4397-b240-59595225a793",
   "metadata": {},
   "source": [
    "## Ejercicio 2"
   ]
  },
  {
   "cell_type": "markdown",
   "id": "51cc6353-f199-43b2-aee9-42f3f77e9f80",
   "metadata": {},
   "source": [
    "Realiza un análisis sobre la información"
   ]
  },
  {
   "cell_type": "code",
   "execution_count": 18,
   "id": "fbc9918e-c42b-479d-9b8b-7bf330912373",
   "metadata": {},
   "outputs": [
    {
     "name": "stdout",
     "output_type": "stream",
     "text": [
      "El set de información cuenta con un total de: 544 registros\n",
      "Está construido de 4 columnas, con nombre:\n",
      "Index(['height', 'weight', 'age', 'male'], dtype='object')\n"
     ]
    }
   ],
   "source": [
    "print('El set de información cuenta con un total de: ' + str(len(db)) + ' registros')\n",
    "print('Está construido de '+str(db.shape[1])+' columnas, con nombre:')\n",
    "print(db.columns)"
   ]
  },
  {
   "cell_type": "code",
   "execution_count": 20,
   "id": "34210ece-a4f3-45e0-8568-edc83d355d13",
   "metadata": {},
   "outputs": [
    {
     "name": "stdout",
     "output_type": "stream",
     "text": [
      "Información dividida por sexo:\n"
     ]
    },
    {
     "data": {
      "text/html": [
       "<div>\n",
       "<style scoped>\n",
       "    .dataframe tbody tr th:only-of-type {\n",
       "        vertical-align: middle;\n",
       "    }\n",
       "\n",
       "    .dataframe tbody tr th {\n",
       "        vertical-align: top;\n",
       "    }\n",
       "\n",
       "    .dataframe thead th {\n",
       "        text-align: right;\n",
       "    }\n",
       "</style>\n",
       "<table border=\"1\" class=\"dataframe\">\n",
       "  <thead>\n",
       "    <tr style=\"text-align: right;\">\n",
       "      <th></th>\n",
       "      <th>height</th>\n",
       "      <th>weight</th>\n",
       "      <th>age</th>\n",
       "    </tr>\n",
       "    <tr>\n",
       "      <th>male</th>\n",
       "      <th></th>\n",
       "      <th></th>\n",
       "      <th></th>\n",
       "    </tr>\n",
       "  </thead>\n",
       "  <tbody>\n",
       "    <tr>\n",
       "      <th>0</th>\n",
       "      <td>287</td>\n",
       "      <td>287</td>\n",
       "      <td>287</td>\n",
       "    </tr>\n",
       "    <tr>\n",
       "      <th>1</th>\n",
       "      <td>257</td>\n",
       "      <td>257</td>\n",
       "      <td>257</td>\n",
       "    </tr>\n",
       "  </tbody>\n",
       "</table>\n",
       "</div>"
      ],
      "text/plain": [
       "      height  weight  age\n",
       "male                     \n",
       "0        287     287  287\n",
       "1        257     257  257"
      ]
     },
     "execution_count": 20,
     "metadata": {},
     "output_type": "execute_result"
    }
   ],
   "source": [
    "#Agrupando la información por distintos grupos, obtenemos lo siguiente\n",
    "print('Información dividida por sexo:')\n",
    "db.groupby('male').count()"
   ]
  },
  {
   "cell_type": "code",
   "execution_count": 22,
   "id": "2b1fa67f-09e2-4e41-b2b7-b4094d313c32",
   "metadata": {},
   "outputs": [
    {
     "data": {
      "text/plain": [
       "0    0\n",
       "1    1\n",
       "Name: male, dtype: int64"
      ]
     },
     "execution_count": 22,
     "metadata": {},
     "output_type": "execute_result"
    }
   ],
   "source": [
    "db.groupby('male',as_index=False).count()['male']"
   ]
  },
  {
   "cell_type": "code",
   "execution_count": 25,
   "id": "ca7362bf-6fe7-4376-969a-900efbf1584f",
   "metadata": {},
   "outputs": [
    {
     "data": {
      "text/plain": [
       "<BarContainer object of 2 artists>"
      ]
     },
     "execution_count": 25,
     "metadata": {},
     "output_type": "execute_result"
    },
    {
     "data": {
      "image/png": "[encoded data removed]",
      "text/plain": [
       "<Figure size 640x480 with 1 Axes>"
      ]
     },
     "metadata": {},
     "output_type": "display_data"
    }
   ],
   "source": [
    "#De forma gráfica se ve de la siguiente manera\n",
    "plt.bar(['Female','Male'],db.groupby('male',as_index=False).count()['age'])"
   ]
  },
  {
   "cell_type": "code",
   "execution_count": 27,
   "id": "452ab87b-60b7-4feb-9f12-29d59334feb3",
   "metadata": {},
   "outputs": [
    {
     "name": "stdout",
     "output_type": "stream",
     "text": [
      "La altura promedio de hombre es: 142.3210373540856\n",
      "El peso promedio de hombre es: 38.026240896108945\n",
      "La altura promedio de mujer es: 134.63027804878047\n",
      "El peso promedio de mujer es: 33.44749846689895\n"
     ]
    }
   ],
   "source": [
    "#Además, podemos notar cuál es la estatura y peso promedio por género\n",
    "print('La altura promedio de hombre es: ' +str(db[db['male']==1]['height'].mean()))\n",
    "print('El peso promedio de hombre es: ' +str(db[db['male']==1]['weight'].mean()))\n",
    "#Por otro lado, la mujer\n",
    "print('La altura promedio de mujer es: ' +str(db[db['male']==0]['height'].mean()))\n",
    "print('El peso promedio de mujer es: ' +str(db[db['male']==0]['weight'].mean()))"
   ]
  },
  {
   "cell_type": "code",
   "execution_count": 29,
   "id": "bae9adf5-bcb2-433f-8361-81896f6bb406",
   "metadata": {},
   "outputs": [
    {
     "data": {
      "image/png": "[encoded data removed]",
      "text/plain": [
       "<Figure size 1200x800 with 1 Axes>"
      ]
     },
     "metadata": {},
     "output_type": "display_data"
    }
   ],
   "source": [
    "#De forma gráfica\n",
    "barWidth = 0.15\n",
    "fig = plt.subplots(figsize =(12, 8))\n",
    "lista = [['Height','Weight'],[db[db['male']==1]['height'].mean(),db[db['male']==1]['weight'].mean()],[db[db['male']==0]['height'].mean(),db[db['male']==0]['weight'].mean()]]\n",
    "\n",
    "br1 = np.arange(len(lista[0]))\n",
    "br2 = [x + barWidth for x in br1]\n",
    "br3 = [x + barWidth for x in br2]\n",
    "\n",
    "plt.bar(br1,lista[1], width=barWidth, label='Male')\n",
    "plt.bar(br2,lista[2], width=barWidth,label='Female')\n",
    "\n",
    "plt.xlabel('Gender')\n",
    "plt.xticks([r + barWidth for r in range(len(lista[0]))],\n",
    "        lista[0])\n",
    "\n",
    "plt.legend()\n",
    "plt.show()"
   ]
  },
  {
   "cell_type": "code",
   "execution_count": 31,
   "id": "c94f726b-8b9e-494a-bc2a-d6c2d0cdd94b",
   "metadata": {},
   "outputs": [
    {
     "name": "stdout",
     "output_type": "stream",
     "text": [
      "Información dividida por edad:\n"
     ]
    },
    {
     "data": {
      "text/html": [
       "<div>\n",
       "<style scoped>\n",
       "    .dataframe tbody tr th:only-of-type {\n",
       "        vertical-align: middle;\n",
       "    }\n",
       "\n",
       "    .dataframe tbody tr th {\n",
       "        vertical-align: top;\n",
       "    }\n",
       "\n",
       "    .dataframe thead th {\n",
       "        text-align: right;\n",
       "    }\n",
       "</style>\n",
       "<table border=\"1\" class=\"dataframe\">\n",
       "  <thead>\n",
       "    <tr style=\"text-align: right;\">\n",
       "      <th></th>\n",
       "      <th>height</th>\n",
       "      <th>weight</th>\n",
       "      <th>male</th>\n",
       "    </tr>\n",
       "    <tr>\n",
       "      <th>age</th>\n",
       "      <th></th>\n",
       "      <th></th>\n",
       "      <th></th>\n",
       "    </tr>\n",
       "  </thead>\n",
       "  <tbody>\n",
       "    <tr>\n",
       "      <th>0.0</th>\n",
       "      <td>11</td>\n",
       "      <td>11</td>\n",
       "      <td>11</td>\n",
       "    </tr>\n",
       "    <tr>\n",
       "      <th>0.6</th>\n",
       "      <td>1</td>\n",
       "      <td>1</td>\n",
       "      <td>1</td>\n",
       "    </tr>\n",
       "    <tr>\n",
       "      <th>1.0</th>\n",
       "      <td>22</td>\n",
       "      <td>22</td>\n",
       "      <td>22</td>\n",
       "    </tr>\n",
       "    <tr>\n",
       "      <th>2.0</th>\n",
       "      <td>6</td>\n",
       "      <td>6</td>\n",
       "      <td>6</td>\n",
       "    </tr>\n",
       "    <tr>\n",
       "      <th>3.0</th>\n",
       "      <td>17</td>\n",
       "      <td>17</td>\n",
       "      <td>17</td>\n",
       "    </tr>\n",
       "    <tr>\n",
       "      <th>...</th>\n",
       "      <td>...</td>\n",
       "      <td>...</td>\n",
       "      <td>...</td>\n",
       "    </tr>\n",
       "    <tr>\n",
       "      <th>82.0</th>\n",
       "      <td>1</td>\n",
       "      <td>1</td>\n",
       "      <td>1</td>\n",
       "    </tr>\n",
       "    <tr>\n",
       "      <th>83.0</th>\n",
       "      <td>1</td>\n",
       "      <td>1</td>\n",
       "      <td>1</td>\n",
       "    </tr>\n",
       "    <tr>\n",
       "      <th>83.4</th>\n",
       "      <td>1</td>\n",
       "      <td>1</td>\n",
       "      <td>1</td>\n",
       "    </tr>\n",
       "    <tr>\n",
       "      <th>85.6</th>\n",
       "      <td>1</td>\n",
       "      <td>1</td>\n",
       "      <td>1</td>\n",
       "    </tr>\n",
       "    <tr>\n",
       "      <th>88.0</th>\n",
       "      <td>1</td>\n",
       "      <td>1</td>\n",
       "      <td>1</td>\n",
       "    </tr>\n",
       "  </tbody>\n",
       "</table>\n",
       "<p>99 rows × 3 columns</p>\n",
       "</div>"
      ],
      "text/plain": [
       "      height  weight  male\n",
       "age                       \n",
       "0.0       11      11    11\n",
       "0.6        1       1     1\n",
       "1.0       22      22    22\n",
       "2.0        6       6     6\n",
       "3.0       17      17    17\n",
       "...      ...     ...   ...\n",
       "82.0       1       1     1\n",
       "83.0       1       1     1\n",
       "83.4       1       1     1\n",
       "85.6       1       1     1\n",
       "88.0       1       1     1\n",
       "\n",
       "[99 rows x 3 columns]"
      ]
     },
     "execution_count": 31,
     "metadata": {},
     "output_type": "execute_result"
    }
   ],
   "source": [
    "print('Información dividida por edad:')\n",
    "db.groupby('age').count()"
   ]
  },
  {
   "cell_type": "code",
   "execution_count": 33,
   "id": "5a6ee8c6-46a0-4a90-a8b7-0736d306a378",
   "metadata": {},
   "outputs": [
    {
     "name": "stdout",
     "output_type": "stream",
     "text": [
      "Se tienen 99 registros de edad\n"
     ]
    }
   ],
   "source": [
    "print('Se tienen ' + str(db.groupby('age',as_index=False).count().shape[0])+' registros de edad')"
   ]
  },
  {
   "cell_type": "code",
   "execution_count": 35,
   "id": "deb760c4-15c7-4118-b74e-67cb8d885acd",
   "metadata": {},
   "outputs": [],
   "source": [
    "df_deciles = {}\n",
    "df_temp = db.groupby('age',as_index=False).count()\n",
    "lista_deciles = [0,10,20,30,40,50,60,70,80,90,100]\n",
    "\n",
    "for i in range(0,9):\n",
    "  df_deciles[str(i+1)+'decil'] = pd.DataFrame(df_temp.loc[((df_temp['age']>=lista_deciles[i])&(df_temp['age']<=(lista_deciles[i+1])))])['height'].sum()"
   ]
  },
  {
   "cell_type": "code",
   "execution_count": 37,
   "id": "7ff18c45-7de0-4b1c-8ead-b0610b10b547",
   "metadata": {},
   "outputs": [
    {
     "data": {
      "text/plain": [
       "{'1decil': 123,\n",
       " '2decil': 93,\n",
       " '3decil': 96,\n",
       " '4decil': 80,\n",
       " '5decil': 85,\n",
       " '6decil': 46,\n",
       " '7decil': 34,\n",
       " '8decil': 15,\n",
       " '9decil': 6}"
      ]
     },
     "execution_count": 37,
     "metadata": {},
     "output_type": "execute_result"
    }
   ],
   "source": [
    "df_deciles"
   ]
  },
  {
   "cell_type": "code",
   "execution_count": 39,
   "id": "f5d06ec9-8447-41e3-b1d9-b37e6c2219fb",
   "metadata": {},
   "outputs": [],
   "source": [
    "#Ahora por grupos de edad\n",
    "#Female\n",
    "df_deciles = {}\n",
    "df_temp = db[db['male']==0]\n",
    "df_temp = df_temp.groupby('age',as_index=False).count()\n",
    "lista_deciles = [0,10,20,30,40,50,60,70,80,90,100]\n",
    "\n",
    "for i in range(0,9):\n",
    "  df_deciles[str(i+1)+'decil'] = pd.DataFrame(df_temp.loc[((df_temp['age']>=lista_deciles[i])&(df_temp['age']<=(lista_deciles[i+1])))])['height'].sum()"
   ]
  },
  {
   "cell_type": "code",
   "execution_count": 41,
   "id": "5f2fa925-52b6-408b-af17-1ccee2666385",
   "metadata": {},
   "outputs": [
    {
     "data": {
      "text/plain": [
       "{'1decil': 64,\n",
       " '2decil': 51,\n",
       " '3decil': 54,\n",
       " '4decil': 42,\n",
       " '5decil': 41,\n",
       " '6decil': 23,\n",
       " '7decil': 22,\n",
       " '8decil': 8,\n",
       " '9decil': 2}"
      ]
     },
     "execution_count": 41,
     "metadata": {},
     "output_type": "execute_result"
    }
   ],
   "source": [
    "df_deciles"
   ]
  },
  {
   "cell_type": "code",
   "execution_count": 43,
   "id": "497f3feb-15b2-4348-a8c2-5e0322869911",
   "metadata": {},
   "outputs": [],
   "source": [
    "#Male\n",
    "df_deciles = {}\n",
    "df_temp = db[db['male']==1]\n",
    "df_temp = df_temp.groupby('age',as_index=False).count()\n",
    "lista_deciles = [0,10,20,30,40,50,60,70,80,90,100]\n",
    "\n",
    "for i in range(0,9):\n",
    "  df_deciles[str(i+1)+'decil'] = pd.DataFrame(df_temp.loc[((df_temp['age']>=lista_deciles[i])&(df_temp['age']<=(lista_deciles[i+1])))])['height'].sum()"
   ]
  },
  {
   "cell_type": "code",
   "execution_count": 45,
   "id": "5aa0673b-a7c4-462f-87df-bb400f7abd15",
   "metadata": {},
   "outputs": [
    {
     "data": {
      "text/plain": [
       "{'1decil': 59,\n",
       " '2decil': 42,\n",
       " '3decil': 42,\n",
       " '4decil': 38,\n",
       " '5decil': 44,\n",
       " '6decil': 23,\n",
       " '7decil': 12,\n",
       " '8decil': 7,\n",
       " '9decil': 4}"
      ]
     },
     "execution_count": 45,
     "metadata": {},
     "output_type": "execute_result"
    }
   ],
   "source": [
    "df_deciles"
   ]
  }
 ],
 "metadata": {
  "kernelspec": {
   "display_name": "Python 3 (ipykernel)",
   "language": "python",
   "name": "python3"
  },
  "language_info": {
   "codemirror_mode": {
    "name": "ipython",
    "version": 3
   },
   "file_extension": ".py",
   "mimetype": "text/x-python",
   "name": "python",
   "nbconvert_exporter": "python",
   "pygments_lexer": "ipython3",
   "version": "3.12.7"
  }
 },
 "nbformat": 4,
 "nbformat_minor": 5
}
