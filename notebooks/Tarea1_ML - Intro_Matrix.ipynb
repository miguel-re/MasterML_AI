{
 "cells": [
  {
   "cell_type": "markdown",
   "id": "d12a55ab-49e6-4c84-8602-7cb20e7418d8",
   "metadata": {},
   "source": [
    "# Tarea 1 - Machine learning"
   ]
  },
  {
   "cell_type": "markdown",
   "id": "58595111-4dd5-449f-bc59-b8508202fafb",
   "metadata": {},
   "source": [
    "## Ejercicio 3 \n",
    "\n",
    "Utilizando un cuaderno de Jupyter Notebook y el lenguaje de programación Python, realiza las siguientes operaciones: \n",
    "\n",
    "- Genera una matriz cuadrada de 4x4. \n",
    "\n",
    "- Calcula su inversa y su traspuesta. \n",
    "\n",
    "- Multiplica la matriz por un escalar. \n",
    "\n",
    "- Realiza el producto interno con una nueva matriz de dimensiones 4x2. "
   ]
  },
  {
   "cell_type": "code",
   "execution_count": 62,
   "id": "e6ac61d8-8bc0-42d4-a5ac-1a2fbf7bbc01",
   "metadata": {},
   "outputs": [],
   "source": [
    "import numpy as np\n",
    "import random"
   ]
  },
  {
   "cell_type": "code",
   "execution_count": 19,
   "id": "1e74263c-d533-4487-8b5f-e278a1ef48de",
   "metadata": {},
   "outputs": [
    {
     "data": {
      "text/plain": [
       "array([[3, 0, 2, 8],\n",
       "       [0, 5, 6, 5],\n",
       "       [6, 9, 8, 7],\n",
       "       [2, 8, 0, 3]])"
      ]
     },
     "execution_count": 19,
     "metadata": {},
     "output_type": "execute_result"
    }
   ],
   "source": [
    "#Se hace una matriz de 4x4 con valores aleatorios entre 0 y 100\n",
    "matrix = np.random.randint(0, 10, size=(4, 4))\n",
    "matrix"
   ]
  },
  {
   "cell_type": "markdown",
   "id": "0a2ff88b-1ad6-4c0d-acfb-0fb76b257aaf",
   "metadata": {},
   "source": [
    "### Inversa de una matriz\n",
    "\n",
    "Utilizando el método de adjunción, la solución es de la siguiente manera\n",
    "\n",
    "1. $$A^-1 = \\frac{(A^*)^T}{|A|}$$\n",
    "\n",
    "Donde:\n",
    "$$A-1$$ Matriz Inversa\n",
    "$$|A|$$ Determinante de la matriz\n",
    "$$A^*$$ Matriz adjunta\n",
    "$$(A^*)^T$$ Matriz traspuesta de la adjunta"
   ]
  },
  {
   "cell_type": "code",
   "execution_count": 33,
   "id": "24e4f4e9-a789-499b-9104-99bb2de01894",
   "metadata": {},
   "outputs": [
    {
     "name": "stdout",
     "output_type": "stream",
     "text": [
      "[[ 0.01369863 -0.05479452 -0.06849315  0.1369863 ]\n",
      " [-0.23919916  0.0337197   0.08061117  0.06954689]\n",
      " [ 0.17597471 -0.01159115  0.08166491 -0.08640674]\n",
      " [-0.04847208  0.11696523 -0.14225501  0.05374078]]\n"
     ]
    },
    {
     "data": {
      "text/plain": [
       "array([[ 0.01369863, -0.23919916,  0.17597471, -0.04847208],\n",
       "       [-0.05479452,  0.0337197 , -0.01159115,  0.11696523],\n",
       "       [-0.06849315,  0.08061117,  0.08166491, -0.14225501],\n",
       "       [ 0.1369863 ,  0.06954689, -0.08640674,  0.05374078]])"
      ]
     },
     "execution_count": 33,
     "metadata": {},
     "output_type": "execute_result"
    }
   ],
   "source": [
    "#Inversa de la matrix utilizando métodos matemáticos\n",
    "\n",
    "# Determinante de la matriz\n",
    "det_A = np.linalg.det(matrix)\n",
    "\n",
    "#Matriz adjunta\n",
    "def adjunta(matrix):\n",
    "    # Obtener la matriz de cofactores\n",
    "    cofactors = np.zeros(matrix.shape)\n",
    "    rows, cols = matrix.shape\n",
    "    \n",
    "    for i in range(rows):\n",
    "        for j in range(cols):\n",
    "            # Obtener la submatriz al eliminar la fila i y columna j\n",
    "            minor = np.delete(np.delete(matrix, i, axis=0), j, axis=1)\n",
    "            # Calcular el cofactor\n",
    "            cofactors[i, j] = ((-1) ** (i + j)) * np.linalg.det(minor)\n",
    "    \n",
    "    # Transponer la matriz de cofactores para obtener la adjunta\n",
    "    return cofactors.T\n",
    "\n",
    "adjunta_mat = adjunta(matrix)\n",
    "\n",
    "#Matriz traspuesta de la adjunta\n",
    "mat_tras_adj = adjunta_mat.T\n",
    "\n",
    "inv_matrix = mat_tras_adj/det_A\n",
    "\n",
    "print(inv_matrix)\n",
    "\n",
    "#inversa de la matrix usando numpy\n",
    "np.linalg.inv(matrix)"
   ]
  },
  {
   "cell_type": "markdown",
   "id": "9e6431f8-4c3d-41e7-ac31-f05b367e32a3",
   "metadata": {},
   "source": [
    "## Transpuesta de una matriz\n",
    "Se define una transpuesta matriz $$A^T$$ de tamaño nxn como:\n",
    "$$A^t = \\begin{bmatrix}\r\n",
    "a_{1,1}      ... &a_{nx1}  \\\\\r",
    "  ...      \n",
    " ...  ...&  \\\\a_{1xn}   \r",
    " ...& a_{nxn} & \r\n",
    "\\end{bmatrix}$$"
   ]
  },
  {
   "cell_type": "code",
   "execution_count": 49,
   "id": "6b38688f-7a3b-4745-a108-8bc7fb3f6abb",
   "metadata": {},
   "outputs": [
    {
     "name": "stdout",
     "output_type": "stream",
     "text": [
      "Matriz inicial\n",
      " [[3 0 2 8]\n",
      " [0 5 6 5]\n",
      " [6 9 8 7]\n",
      " [2 8 0 3]]\n",
      "\n",
      "Matriz usando .T\n",
      " [[3 0 6 2]\n",
      " [0 5 9 8]\n",
      " [2 6 8 0]\n",
      " [8 5 7 3]]\n"
     ]
    }
   ],
   "source": [
    "#Traspuesta de la matriz\n",
    "print('Matriz inicial\\n',matrix)\n",
    "print('\\nMatriz usando .T\\n', matrix.T)"
   ]
  },
  {
   "cell_type": "code",
   "execution_count": 47,
   "id": "5fdb74c5-4e2c-434e-8c8c-8cb07a39037c",
   "metadata": {},
   "outputs": [
    {
     "name": "stdout",
     "output_type": "stream",
     "text": [
      "Matriz sin usar .T\n",
      " [[3. 0. 6. 2.]\n",
      " [0. 5. 9. 8.]\n",
      " [2. 6. 8. 0.]\n",
      " [8. 5. 7. 3.]]\n"
     ]
    }
   ],
   "source": [
    "#Sin usar .T\n",
    "filas, columnas = matrix.shape\n",
    "#Una matriz de 0 del mismo tamaño\n",
    "tras = np.zeros((columnas, filas))\n",
    "\n",
    "for i in range(filas):\n",
    "    for j in range(columnas):\n",
    "        tras[j,i] = matrix[i,j]\n",
    "print('Matriz sin usar .T\\n',tras)"
   ]
  },
  {
   "cell_type": "markdown",
   "id": "de8e3b70-ab34-442f-b3ac-d56eaa51b563",
   "metadata": {},
   "source": [
    "### Multiplicación por un escalar\n",
    "\n",
    "Al multiplicarse por un escalar, no cambia la estructura y solo se multiplica por cada valor de la matriz"
   ]
  },
  {
   "cell_type": "code",
   "execution_count": 84,
   "id": "27fe2c32-3130-4af6-88ee-59c4b76596a2",
   "metadata": {},
   "outputs": [
    {
     "name": "stdout",
     "output_type": "stream",
     "text": [
      "Matriz inicial\n",
      " [[3 0 2 8]\n",
      " [0 5 6 5]\n",
      " [6 9 8 7]\n",
      " [2 8 0 3]]\n",
      "Matriz tras multiplicación por escalar 3\n",
      " [[ 9  0  6 24]\n",
      " [ 0 15 18 15]\n",
      " [18 27 24 21]\n",
      " [ 6 24  0  9]]\n"
     ]
    }
   ],
   "source": [
    "escalar = random.randint(0,100)\n",
    "mult_escalar = escalar * matrix\n",
    "print('Matriz inicial\\n',matrix)\n",
    "\n",
    "print(f'Matriz tras multiplicación por escalar {escalar}\\n',mult_escalar)"
   ]
  },
  {
   "cell_type": "markdown",
   "id": "4fc57110-d873-42b1-b108-68625b45e1c5",
   "metadata": {},
   "source": [
    "### Multiplicación por una matrix 4x2\n",
    "\n",
    "La multiplicación de una matriz $$A_{nxn}$$ se puede realizar con otra matriz $$B_{nxp}$$ siempre y cuando las entradas de las columnas de $$A$$ sean iguales a las filas de $$B$$. De tal manera que se obtiene lo siguiente $$A_{nxn} * B_{nxp} = C_{nxp}$$ "
   ]
  },
  {
   "cell_type": "code",
   "execution_count": 122,
   "id": "8756fd35-d8af-4539-a388-202547e1c8c0",
   "metadata": {},
   "outputs": [],
   "source": [
    "#Sin utilizar numpy\n",
    "matrix_2 = np.random.randint(0, 10, size=(4, 2))\n",
    "\n",
    "row_1, col_1 = matrix.shape\n",
    "row_2, col_2 = matrix_2.shape\n",
    "\n",
    "C = np.zeros((row_1,col_2))\n",
    "\n",
    "for i in range(row_1):\n",
    "    for j in range(col_2):\n",
    "        for k in range(row_2):\n",
    "            C[i,j] += matrix[i,k] * matrix_2[k,j]"
   ]
  },
  {
   "cell_type": "code",
   "execution_count": 126,
   "id": "5acfe81e-bb51-4c05-a81a-c4c0d2be367f",
   "metadata": {},
   "outputs": [
    {
     "name": "stdout",
     "output_type": "stream",
     "text": [
      "Matriz 1:\n",
      " [[3 0 2 8]\n",
      " [0 5 6 5]\n",
      " [6 9 8 7]\n",
      " [2 8 0 3]]\n",
      "Matriz 2:\n",
      " [[3 9]\n",
      " [5 6]\n",
      " [1 1]\n",
      " [9 3]]\n",
      "Resultado sin usar funciones:\n",
      " [[ 83.  53.]\n",
      " [ 76.  51.]\n",
      " [134. 137.]\n",
      " [ 73.  75.]]\n",
      "Resultado simplificado:\n",
      " [[ 83  53]\n",
      " [ 76  51]\n",
      " [134 137]\n",
      " [ 73  75]]\n"
     ]
    }
   ],
   "source": [
    "print('Matriz 1:\\n',matrix)\n",
    "print('Matriz 2:\\n',matrix_2)\n",
    "print('Resultado sin usar funciones:\\n',C)\n",
    "print('Resultado simplificado:\\n',matrix.dot(matrix_2))"
   ]
  },
  {
   "cell_type": "markdown",
   "id": "fc4f5bde-694a-4205-b2dc-6382c3365ef1",
   "metadata": {},
   "source": [
    "## Ejercicio 4: \n",
    "Resuelve los siguientes sistemas de ecuaciones:\n",
    "\n",
    "A. \n",
    "\n",
    "- x + 2y + 5z - 4w = 21\n",
    "- 5x + 8y + z + w = -8\n",
    "- 5x + 7y - 3y + 2w = 14\n",
    "- -x + 3y + 9z - w = 5\n",
    "\n",
    "B.\n",
    "\n",
    "- 6x + 8z = 9\n",
    "- 2x + 2y + z = 15\n",
    "- 4x + y = -4\n",
    "\n",
    "Al tener un sistema de ecuaciones con 4 fórmulas y 4 variables, la solución es sencilla. Utilizando el sistema de eliminación de Gauss, el cual, en resumidas cuentas, hace lo siguiente:\n"
   ]
  },
  {
   "cell_type": "code",
   "execution_count": 64,
   "id": "d1d8022d-a91d-4164-b5af-fab002f5f8f3",
   "metadata": {},
   "outputs": [],
   "source": [
    "args = np.array([[1,2,5,-4],[5,8,1,1],[5,7,-3,2],[-1,3,9,-1]], dtype=float)\n",
    "sol = np.array([21, 8, 14, 5], dtype=float)\n",
    "\n",
    "matrix = np.hstack((args,sol.reshape(-1,1)))"
   ]
  },
  {
   "cell_type": "code",
   "execution_count": 66,
   "id": "e9395a86-5517-41d4-b9f9-dc6a41ef1c24",
   "metadata": {},
   "outputs": [],
   "source": [
    "#Sin utilizar alguna función:\n",
    "def solucion_3var(matrix):\n",
    "    fila, col = matrix.shape\n",
    "    for i in range(fila):\n",
    "        matrix[i] = matrix[i]/matrix[i,i]\n",
    "        for j in range(i+1, fila):\n",
    "            matrix[j] = matrix[j] - matrix[j,i] * matrix[i]\n",
    "    x = np.zeros(fila)\n",
    "    for i in range(fila-1, -1, -1):\n",
    "        x[i] = matrix[i,-1] - np.dot(matrix[i,:-1],x)\n",
    "    return x"
   ]
  },
  {
   "cell_type": "code",
   "execution_count": 68,
   "id": "69b582b8-e4f6-4834-8f08-65c90bed7030",
   "metadata": {},
   "outputs": [],
   "source": [
    "solution = solucion_3var(matrix)"
   ]
  },
  {
   "cell_type": "code",
   "execution_count": 70,
   "id": "659554ea-61db-4f06-8999-1c50949e826c",
   "metadata": {},
   "outputs": [
    {
     "name": "stdout",
     "output_type": "stream",
     "text": [
      "Solucion sin utilizar funciones de python\n",
      " [-22.19298246  17.73684211  -9.33333333 -13.59649123]\n",
      "Solucion utilizando funciones de python\n",
      " [-22.19298246  17.73684211  -9.33333333 -13.59649123]\n"
     ]
    }
   ],
   "source": [
    "print('Solucion sin utilizar funciones de python\\n', solution)\n",
    "print('Solucion utilizando funciones de python\\n', np.linalg.solve(args,sol))"
   ]
  },
  {
   "cell_type": "code",
   "execution_count": 72,
   "id": "49432d3a-b928-46df-b2da-82290e7e6199",
   "metadata": {},
   "outputs": [],
   "source": [
    "# Ejercicio 2\n",
    "args = np.array([[6,8,0],[2,2,1],[4,1,0]], dtype=float)\n",
    "sol = np.array([9,15,-4], dtype=float)\n",
    "\n",
    "matrix = np.hstack((args,sol.reshape(-1,1)))"
   ]
  },
  {
   "cell_type": "code",
   "execution_count": 74,
   "id": "c2af82f4-1fa0-4fc0-9819-ec274e921d69",
   "metadata": {},
   "outputs": [],
   "source": [
    "solution = solucion_3var(matrix)"
   ]
  },
  {
   "cell_type": "code",
   "execution_count": 76,
   "id": "83826fdc-242d-4193-ab69-aa2c59aa387b",
   "metadata": {},
   "outputs": [
    {
     "name": "stdout",
     "output_type": "stream",
     "text": [
      "Solucion sin utilizar funciones de python\n",
      " [-1.57692308  2.30769231 13.53846154]\n",
      "Solucion utilizando funciones de python\n",
      " [-1.57692308  2.30769231 13.53846154]\n"
     ]
    }
   ],
   "source": [
    "print('Solucion sin utilizar funciones de python\\n', solution)\n",
    "print('Solucion utilizando funciones de python\\n', np.linalg.solve(args,sol))"
   ]
  }
 ],
 "metadata": {
  "kernelspec": {
   "display_name": "Python 3 (ipykernel)",
   "language": "python",
   "name": "python3"
  },
  "language_info": {
   "codemirror_mode": {
    "name": "ipython",
    "version": 3
   },
   "file_extension": ".py",
   "mimetype": "text/x-python",
   "name": "python",
   "nbconvert_exporter": "python",
   "pygments_lexer": "ipython3",
   "version": "3.12.7"
  }
 },
 "nbformat": 4,
 "nbformat_minor": 5
}
