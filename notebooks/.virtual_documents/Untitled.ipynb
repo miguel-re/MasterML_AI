








#Funciones y librerias
from keras.models import load_model  # TensorFlow is required for Keras to work
from PIL import Image, ImageOps  # Install pillow instead of PIL
import numpy as np

from tensorflow.keras.layers import DepthwiseConv2D
from tensorflow.keras.models import load_model


import tensorflow as tf


print(tf.__version__)


np.set_printoptions(suppress=True) #Se des habilita la notación científica


# Define a custom layer with 'groups' argument
class CustomDepthwiseConv2D(DepthwiseConv2D):
    def __init__(self, *args, **kwargs):
        if 'groups' in kwargs:
            del kwargs['groups']  # Remove the 'groups' argument
        super().__init__(*args, **kwargs)

# Load the model with the custom object
model = load_model(r"C:\MIGUEL\Máster\Modulo 1\models\Tarea11\keras_model.h5", custom_objects={'DepthwiseConv2D': CustomDepthwiseConv2D})


# Load the labels
class_names = open(r"C:\MIGUEL\Máster\Modulo 1\data\interim\Tarea11/labels.txt", "r").readlines()


data = np.ndarray(shape=(1, 224, 224, 3), dtype=np.float32)


image = Image.open(r"C:\MIGUEL\Máster\Modulo 1\data\raw\Tarea11\black_pants\664ded0a355f104499e144c6f19ac11ce8b05c98.jpg").convert("RGB")





size = (224, 224)
image = ImageOps.fit(image, size, Image.Resampling.LANCZOS)


image_array = np.asarray(image)


normalized_image_array = (image_array.astype(np.float32) / 127.5) - 1

# Load the image into the array
data[0] = normalized_image_array

# Predicts the model
prediction = model.predict(data)
index = np.argmax(prediction)
class_name = class_names[index]
confidence_score = prediction[0][index]

# Print prediction and confidence score
print("Class:", class_name[2:], end="")
print("Confidence Score:", confidence_score)
