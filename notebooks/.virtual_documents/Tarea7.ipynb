


#Funciones y librerias
import json as js

def myfunction(lista):
  diccionario={'nombre':lista[0],
              'apellido':lista[1],
              'edad':lista[2]}

  return diccionario

class persona:
  def __init__(self, nombre, apellido, edad):
    self.nombre = nombre
    self.apellido = apellido
    self.edad = edad
  def myfunction(self):
    diccionario={'nombre':self.nombre,
                 'apellido':self.apellido,
                 'edad':self.edad}
    return diccionario





nombres = [['Manuel','Resendiz',25],['Sara','De la Cabada',24],['Karla','Venegas',26]]


resultados = []
for i in range(0,2):
  resultado1 = myfunction(nombres[i])
  resultados.append(resultado1)


print(resultados)


jsonfile = open(r'C:\MIGUEL\Máster\Modulo 1\data\processed\proc_data_task7.json','w')
js.dump(resultados,jsonfile)
jsonfile.close()

jsread = open(r'C:\MIGUEL\Máster\Modulo 1\data\processed\proc_data_task7.json','r')
resultadosLectura = js.load(jsread)
print(resultadosLectura)


persona1 = persona('Miguel','Resendiz',23)
res = persona1.myfunction()
print(res)
