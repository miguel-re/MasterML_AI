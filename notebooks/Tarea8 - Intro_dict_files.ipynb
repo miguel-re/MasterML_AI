{
 "cells": [
  {
   "cell_type": "markdown",
   "id": "52a50e9a-41a3-4c68-aadc-1c9127f022c0",
   "metadata": {},
   "source": [
    "# Actividad 8"
   ]
  },
  {
   "cell_type": "code",
   "execution_count": 20,
   "id": "c2f6f875-b3d0-4234-95fc-83c3e42c0928",
   "metadata": {},
   "outputs": [],
   "source": [
    "#Funciones y librerias\n",
    "import pandas as pd\n",
    "from pandas import Series\n",
    "import matplotlib.pyplot as plt"
   ]
  },
  {
   "cell_type": "markdown",
   "id": "b7f5c25c-916b-4718-a039-4a41293b3d65",
   "metadata": {},
   "source": [
    "## Ejercicio 1"
   ]
  },
  {
   "cell_type": "markdown",
   "id": "465b95e8-1a8d-447e-90b2-3d1c90778ff0",
   "metadata": {},
   "source": [
    "Genera un diccionario con al menos 10 elementos, donde las estructuras llave-valor correspondan a diferentes ciudades de México con su respectiva densidad de población (ejemplo: Guadalajara: 1,521,741)."
   ]
  },
  {
   "cell_type": "code",
   "execution_count": 14,
   "id": "2f630341-5a35-4228-afda-1f76e235f107",
   "metadata": {},
   "outputs": [
    {
     "data": {
      "text/plain": [
       "CDMX             9209944\n",
       "Tijuana          1810645\n",
       "Ecatepec         1643623\n",
       "Leon             1579803\n",
       "Ciudad Juarez    1501551\n",
       "Guadalajara      1385621\n",
       "Monterrey        1142952\n",
       "Guachochi          50180\n",
       "SLP              2822000\n",
       "Chihuahua         937674\n",
       "dtype: int64"
      ]
     },
     "execution_count": 14,
     "metadata": {},
     "output_type": "execute_result"
    }
   ],
   "source": [
    "poblacion = {'CDMX' : 9_209_944, 'Tijuana': 1810645, 'Ecatepec': 1643623, 'Leon': 1579803, 'Ciudad Juarez': 1501551, 'Guadalajara': 1385621, 'Monterrey': 1142952, 'Guachochi': 50180, 'SLP': 2822000, 'Chihuahua': 937674 }\n",
    "serie_poblacion = pd.Series (poblacion)\n",
    "serie_poblacion"
   ]
  },
  {
   "cell_type": "markdown",
   "id": "955716dd-887c-4ca0-bb68-72eb446bd19b",
   "metadata": {},
   "source": [
    "## Ejercicio 2"
   ]
  },
  {
   "cell_type": "markdown",
   "id": "81d2df87-1d01-4dc3-b608-f6abfb1b1ad1",
   "metadata": {},
   "source": [
    "Genera una Series a partir del diccionario anterior."
   ]
  },
  {
   "cell_type": "code",
   "execution_count": 16,
   "id": "f93adfa2-b575-44da-bfdc-c1f0aff49610",
   "metadata": {},
   "outputs": [
    {
     "data": {
      "text/plain": [
       "CDMX             9209944.0\n",
       "Ecatepec         1643623.0\n",
       "Tijuana          1810645.0\n",
       "Merida                 NaN\n",
       "Leon             1579803.0\n",
       "Ciudad Juarez    1501551.0\n",
       "Guadalajara      1385621.0\n",
       "Monterrey        1142952.0\n",
       "Guachochi          50180.0\n",
       "SLP              2822000.0\n",
       "Chihuahua         937674.0\n",
       "Valladolid             NaN\n",
       "Campeche               NaN\n",
       "dtype: float64"
      ]
     },
     "execution_count": 16,
     "metadata": {},
     "output_type": "execute_result"
    }
   ],
   "source": [
    "ciudades = [\"CDMX\", \"Ecatepec\", \"Tijuana\", \"Merida\", \"Leon\",\"Ciudad Juarez\", \"Guadalajara\", \"Monterrey\", \"Guachochi\",\"SLP\", \"Chihuahua\",\"Valladolid\", \"Campeche\"]\n",
    "serie_poblacion = pd.Series (poblacion, index=ciudades)\n",
    "serie_poblacion"
   ]
  },
  {
   "cell_type": "markdown",
   "id": "6b53f0a5-c43a-46e9-83ed-cafa793bac04",
   "metadata": {},
   "source": [
    "## Ejercicio 3"
   ]
  },
  {
   "cell_type": "markdown",
   "id": "aea9e1a7-5617-4792-8122-428b95b8ebf2",
   "metadata": {},
   "source": [
    "Incluye tres nuevos índices dentro de la Series, correspondientes a otras ciudades de México, y verifica que Pandas autocompletó los campos con los valores “NaN” para mantener el ajuste del arreglo."
   ]
  },
  {
   "cell_type": "code",
   "execution_count": 18,
   "id": "d302f795-291d-4ba0-a985-1c54686777ba",
   "metadata": {},
   "outputs": [
    {
     "data": {
      "text/plain": [
       "CDMX             9209944.0\n",
       "Ecatepec         1643623.0\n",
       "Tijuana          1810645.0\n",
       "Merida                 0.0\n",
       "Leon             1579803.0\n",
       "Ciudad Juarez    1501551.0\n",
       "Guadalajara      1385621.0\n",
       "Monterrey        1142952.0\n",
       "Guachochi          50180.0\n",
       "SLP              2822000.0\n",
       "Chihuahua         937674.0\n",
       "Valladolid             0.0\n",
       "Campeche               0.0\n",
       "dtype: float64"
      ]
     },
     "execution_count": 18,
     "metadata": {},
     "output_type": "execute_result"
    }
   ],
   "source": [
    "serie_poblacion_ok = serie_poblacion.fillna(0)\n",
    "serie_poblacion_ok"
   ]
  },
  {
   "cell_type": "markdown",
   "id": "ea8f9cd7-fcb9-4698-8845-47689b40b23e",
   "metadata": {},
   "source": [
    "## Ejercicio 4"
   ]
  },
  {
   "cell_type": "markdown",
   "id": "52d4ffb3-0519-4406-b315-c50f74850905",
   "metadata": {},
   "source": [
    "Finalmente, elige alguna de las herramientas de visualización vistas en clase y realiza la gráfica de los datos."
   ]
  },
  {
   "cell_type": "code",
   "execution_count": 22,
   "id": "a2e74669-afc4-4e7b-9272-25153f37c25a",
   "metadata": {},
   "outputs": [
    {
     "data": {
      "text/plain": [
       "([0, 1, 2, 3, 4, 5, 6, 7, 8, 9, 10, 11, 12],\n",
       " [Text(0, 0, 'CDMX'),\n",
       "  Text(1, 0, 'Ecatepec'),\n",
       "  Text(2, 0, 'Tijuana'),\n",
       "  Text(3, 0, 'Merida'),\n",
       "  Text(4, 0, 'Leon'),\n",
       "  Text(5, 0, 'Ciudad Juarez'),\n",
       "  Text(6, 0, 'Guadalajara'),\n",
       "  Text(7, 0, 'Monterrey'),\n",
       "  Text(8, 0, 'Guachochi'),\n",
       "  Text(9, 0, 'SLP'),\n",
       "  Text(10, 0, 'Chihuahua'),\n",
       "  Text(11, 0, 'Valladolid'),\n",
       "  Text(12, 0, 'Campeche')])"
      ]
     },
     "execution_count": 22,
     "metadata": {},
     "output_type": "execute_result"
    },
    {
     "data": {
      "image/png": "[encoded data removed]",
      "text/plain": [
       "<Figure size 640x480 with 1 Axes>"
      ]
     },
     "metadata": {},
     "output_type": "display_data"
    }
   ],
   "source": [
    "# prompt: deseo que las etiquetas del eje x aparezcan en vertical, no en horizontal\n",
    "fig, ax = plt.subplots()\n",
    "\n",
    "#Assign data to plot\n",
    "ax.set_xlabel(\"Ciudad\", fontsize=14)\n",
    "ax.set_ylabel(\"Población\", fontsize=14)\n",
    "\n",
    "#Assign data to plot\n",
    "ax.scatter(serie_poblacion_ok.index, serie_poblacion_ok)\n",
    "\n",
    "# Rotate x-axis labels\n",
    "plt.xticks(rotation=90)"
   ]
  }
 ],
 "metadata": {
  "kernelspec": {
   "display_name": "Python 3 (ipykernel)",
   "language": "python",
   "name": "python3"
  },
  "language_info": {
   "codemirror_mode": {
    "name": "ipython",
    "version": 3
   },
   "file_extension": ".py",
   "mimetype": "text/x-python",
   "name": "python",
   "nbconvert_exporter": "python",
   "pygments_lexer": "ipython3",
   "version": "3.12.7"
  }
 },
 "nbformat": 4,
 "nbformat_minor": 5
}
