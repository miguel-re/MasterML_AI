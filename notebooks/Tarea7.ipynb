{
 "cells": [
  {
   "cell_type": "markdown",
   "id": "45902bea-9d6c-4515-bdeb-62a912ca9a40",
   "metadata": {},
   "source": [
    "# Actividad 7"
   ]
  },
  {
   "cell_type": "code",
   "execution_count": 3,
   "id": "c80d4d4d-caa9-43eb-9cba-464df6de0ea8",
   "metadata": {},
   "outputs": [],
   "source": [
    "#Funciones y librerias\n",
    "import json as js\n",
    "\n",
    "def myfunction(lista):\n",
    "  diccionario={'nombre':lista[0],\n",
    "              'apellido':lista[1],\n",
    "              'edad':lista[2]}\n",
    "\n",
    "  return diccionario\n",
    "\n",
    "class persona:\n",
    "  def __init__(self, nombre, apellido, edad):\n",
    "    self.nombre = nombre\n",
    "    self.apellido = apellido\n",
    "    self.edad = edad\n",
    "  def myfunction(self):\n",
    "    diccionario={'nombre':self.nombre,\n",
    "                 'apellido':self.apellido,\n",
    "                 'edad':self.edad}\n",
    "    return diccionario"
   ]
  },
  {
   "cell_type": "markdown",
   "id": "e3dd3d77-8550-4d6c-986b-5c486bc97eae",
   "metadata": {},
   "source": [
    "- Codifica una función que reciba una lista como argumento y que genere un diccionario como salida.\n",
    "- Ejecuta el programa tres veces con valores diferentes y almacena todos los resultados en la estructura de datos más adecuada para la situación planteada.\n",
    "- Escribe el diccionario del ejercicio anterior en un archivo CSV o JSON.\n",
    "- Usando alguna de las funciones de lectura de Python, despliega el contenido de lo anterior.\n",
    "- Por medio de la clase persona, modela la información del ejercicio anterior y crea una instancia que contenga tu nombre, apellido y edad como atributos."
   ]
  },
  {
   "cell_type": "code",
   "execution_count": 5,
   "id": "188a10d2-ed1a-4ff8-91a2-de14241f86e0",
   "metadata": {},
   "outputs": [],
   "source": [
    "nombres = [['Manuel','Resendiz',25],['Sara','De la Cabada',24],['Karla','Venegas',26]]"
   ]
  },
  {
   "cell_type": "code",
   "execution_count": 7,
   "id": "741b14ae-8298-4fbf-8bc4-4172ae7dc0c6",
   "metadata": {},
   "outputs": [],
   "source": [
    "resultados = []\n",
    "for i in range(0,2):\n",
    "  resultado1 = myfunction(nombres[i])\n",
    "  resultados.append(resultado1)"
   ]
  },
  {
   "cell_type": "code",
   "execution_count": 9,
   "id": "89872da4-c099-4cf4-8901-64283d7d0dca",
   "metadata": {},
   "outputs": [
    {
     "name": "stdout",
     "output_type": "stream",
     "text": [
      "[{'nombre': 'Manuel', 'apellido': 'Resendiz', 'edad': 25}, {'nombre': 'Sara', 'apellido': 'De la Cabada', 'edad': 24}]\n"
     ]
    }
   ],
   "source": [
    "print(resultados)"
   ]
  },
  {
   "cell_type": "code",
   "execution_count": 11,
   "id": "6bc04cad-002f-46cd-b708-288c9e855db1",
   "metadata": {},
   "outputs": [
    {
     "name": "stdout",
     "output_type": "stream",
     "text": [
      "[{'nombre': 'Manuel', 'apellido': 'Resendiz', 'edad': 25}, {'nombre': 'Sara', 'apellido': 'De la Cabada', 'edad': 24}]\n"
     ]
    }
   ],
   "source": [
    "jsonfile = open(r'C:\\MIGUEL\\Máster\\Modulo 1\\data\\processed\\proc_data_task7.json','w')\n",
    "js.dump(resultados,jsonfile)\n",
    "jsonfile.close()\n",
    "\n",
    "jsread = open(r'C:\\MIGUEL\\Máster\\Modulo 1\\data\\processed\\proc_data_task7.json','r')\n",
    "resultadosLectura = js.load(jsread)\n",
    "print(resultadosLectura)"
   ]
  },
  {
   "cell_type": "code",
   "execution_count": 13,
   "id": "11101df8-15c2-44cc-9095-9fc3f6ccbb31",
   "metadata": {},
   "outputs": [
    {
     "name": "stdout",
     "output_type": "stream",
     "text": [
      "{'nombre': 'Miguel', 'apellido': 'Resendiz', 'edad': 23}\n"
     ]
    }
   ],
   "source": [
    "persona1 = persona('Miguel','Resendiz',23)\n",
    "res = persona1.myfunction()\n",
    "print(res)"
   ]
  }
 ],
 "metadata": {
  "kernelspec": {
   "display_name": "Python 3 (ipykernel)",
   "language": "python",
   "name": "python3"
  },
  "language_info": {
   "codemirror_mode": {
    "name": "ipython",
    "version": 3
   },
   "file_extension": ".py",
   "mimetype": "text/x-python",
   "name": "python",
   "nbconvert_exporter": "python",
   "pygments_lexer": "ipython3",
   "version": "3.12.7"
  }
 },
 "nbformat": 4,
 "nbformat_minor": 5
}
